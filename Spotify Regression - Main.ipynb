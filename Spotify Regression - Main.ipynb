{
 "cells": [
  {
   "cell_type": "markdown",
   "metadata": {},
   "source": [
    "# Spotify Regression Problem - Group S"
   ]
  },
  {
   "cell_type": "markdown",
   "metadata": {},
   "source": [
    "# Team Members"
   ]
  },
  {
   "cell_type": "markdown",
   "metadata": {},
   "source": [
    "1. Stewart Anderson - 201994184\n",
    "2. Lewis Johnston - 201979646\n",
    "3. Scott Davies - 201988979\n",
    "4. Annie Benzie - 201971007"
   ]
  },
  {
   "cell_type": "markdown",
   "metadata": {},
   "source": [
    "# 1. Introduction"
   ]
  },
  {
   "cell_type": "markdown",
   "metadata": {},
   "source": [
    "The Kaggle dataset that we were working with contained 15 variables of Spotify track attributes, including each tracks \"Id\" number relative to it's position in the dataset. With reference to the 15 columns, the first plainly illustrates the Id number of each track. The other 14 can be split into the following categories: 11 are numerical and 3 are categorical. These 14 attributes are described below:\n",
    "\n",
    "Categorical Attributes:\n",
    "\n",
    "1. title - Title of each track.\n",
    "2. artist - Band or singer associated with the track.\n",
    "3. top genre - The genre that is most associated with the track.\n",
    "\n",
    "Numerical Attributes:\n",
    "\n",
    "1. year - The year the track was released (or re-released).\n",
    "2. bpm - Beats-per-minute (tempo).\n",
    "3. nrgy - Energy: The greater the value, the more energetic the track is.\n",
    "4. dnce - Danceability: The greater the value, the easier the track is to dance too.\n",
    "5. dB - Loudness: The greater the value, the louder the song.\n",
    "6.  live - Liveness: The greater the value, the higher the chance of the track being a live recording. \n",
    "7. val - Valence: The greater the value, the more positive a person's mood is around the track.\n",
    "8. dur - Duration: The length of the track.\n",
    "9. acous - Acousticness: The greater the value, the more instrumental the track will be.\n",
    "10. spch - Speechiness: The greater the value, the more words spoken in the track.\n",
    "11. pop - Popularity: The greater the value, the more popular the track is (target attribute).\n",
    "\n",
    "The main aim of this assignment is to use machine learning regression models - simple and complex - to be able to predict the popularity score of each track in the test dataset."
   ]
  },
  {
   "cell_type": "markdown",
   "metadata": {},
   "source": [
    "# 2. Importing Relevant Packages"
   ]
  },
  {
   "cell_type": "code",
   "execution_count": 1,
   "metadata": {},
   "outputs": [],
   "source": [
    "\"\"\"\n",
    "        Importing Packages and Libraries\n",
    "\n",
    "\"\"\" \n",
    "\n",
    "import numpy as np # Import the numpy package for working with arrays\n",
    "import pandas as pd # Import the pandas package for working with dataframes\n",
    "import matplotlib.pyplot as plt # Import the matplotlib package for any relevant plots we wish to visualise\n",
    "import seaborn as sns # Import the seaborn package for data visualisation"
   ]
  },
  {
   "cell_type": "markdown",
   "metadata": {},
   "source": [
    "# 3. Importing and Viewing the Dataset"
   ]
  },
  {
   "cell_type": "markdown",
   "metadata": {},
   "source": [
    "After importing the essential libraries above, we will now look into the data we will be working with. As shown below, the data has already been split into separate training and testing sets. The summary statistics table below, in particular, allows us to visualise the range of values associated with each track attribute - which maybe useful later."
   ]
  },
  {
   "cell_type": "code",
   "execution_count": 2,
   "metadata": {},
   "outputs": [],
   "source": [
    "\"\"\"\n",
    "        Importing Spotify Datasets (Training and Testing)\n",
    "\n",
    "\"\"\"\n",
    "\n",
    "spotify_train = pd.read_csv(\"CS98XRegressionTrain.csv\", low_memory=False) # Importing the spotify training dataset\n",
    "spotify_test = pd.read_csv(\"CS98XRegressionTest.csv\", low_memory=False) # Importing the spotify test dataset"
   ]
  },
  {
   "cell_type": "code",
   "execution_count": 3,
   "metadata": {},
   "outputs": [
    {
     "data": {
      "text/plain": [
       "(453, 15)"
      ]
     },
     "execution_count": 3,
     "metadata": {},
     "output_type": "execute_result"
    }
   ],
   "source": [
    "spotify_train.shape # Determining the size of the training set"
   ]
  },
  {
   "cell_type": "code",
   "execution_count": 4,
   "metadata": {},
   "outputs": [
    {
     "data": {
      "text/plain": [
       "(114, 14)"
      ]
     },
     "execution_count": 4,
     "metadata": {},
     "output_type": "execute_result"
    }
   ],
   "source": [
    "spotify_test.shape # Determining the size of the test set"
   ]
  },
  {
   "cell_type": "code",
   "execution_count": 5,
   "metadata": {},
   "outputs": [
    {
     "data": {
      "text/html": [
       "<div>\n",
       "<style scoped>\n",
       "    .dataframe tbody tr th:only-of-type {\n",
       "        vertical-align: middle;\n",
       "    }\n",
       "\n",
       "    .dataframe tbody tr th {\n",
       "        vertical-align: top;\n",
       "    }\n",
       "\n",
       "    .dataframe thead th {\n",
       "        text-align: right;\n",
       "    }\n",
       "</style>\n",
       "<table border=\"1\" class=\"dataframe\">\n",
       "  <thead>\n",
       "    <tr style=\"text-align: right;\">\n",
       "      <th></th>\n",
       "      <th>Id</th>\n",
       "      <th>title</th>\n",
       "      <th>artist</th>\n",
       "      <th>top genre</th>\n",
       "      <th>year</th>\n",
       "      <th>bpm</th>\n",
       "      <th>nrgy</th>\n",
       "      <th>dnce</th>\n",
       "      <th>dB</th>\n",
       "      <th>live</th>\n",
       "      <th>val</th>\n",
       "      <th>dur</th>\n",
       "      <th>acous</th>\n",
       "      <th>spch</th>\n",
       "      <th>pop</th>\n",
       "    </tr>\n",
       "  </thead>\n",
       "  <tbody>\n",
       "    <tr>\n",
       "      <th>0</th>\n",
       "      <td>1</td>\n",
       "      <td>My Happiness</td>\n",
       "      <td>Connie Francis</td>\n",
       "      <td>adult standards</td>\n",
       "      <td>1996</td>\n",
       "      <td>107</td>\n",
       "      <td>31</td>\n",
       "      <td>45</td>\n",
       "      <td>-8</td>\n",
       "      <td>13</td>\n",
       "      <td>28</td>\n",
       "      <td>150</td>\n",
       "      <td>75</td>\n",
       "      <td>3</td>\n",
       "      <td>44</td>\n",
       "    </tr>\n",
       "    <tr>\n",
       "      <th>1</th>\n",
       "      <td>2</td>\n",
       "      <td>Unchained Melody</td>\n",
       "      <td>The Teddy Bears</td>\n",
       "      <td>NaN</td>\n",
       "      <td>2011</td>\n",
       "      <td>114</td>\n",
       "      <td>44</td>\n",
       "      <td>53</td>\n",
       "      <td>-8</td>\n",
       "      <td>13</td>\n",
       "      <td>47</td>\n",
       "      <td>139</td>\n",
       "      <td>49</td>\n",
       "      <td>3</td>\n",
       "      <td>37</td>\n",
       "    </tr>\n",
       "    <tr>\n",
       "      <th>2</th>\n",
       "      <td>3</td>\n",
       "      <td>How Deep Is Your Love</td>\n",
       "      <td>Bee Gees</td>\n",
       "      <td>adult standards</td>\n",
       "      <td>1979</td>\n",
       "      <td>105</td>\n",
       "      <td>36</td>\n",
       "      <td>63</td>\n",
       "      <td>-9</td>\n",
       "      <td>13</td>\n",
       "      <td>67</td>\n",
       "      <td>245</td>\n",
       "      <td>11</td>\n",
       "      <td>3</td>\n",
       "      <td>77</td>\n",
       "    </tr>\n",
       "    <tr>\n",
       "      <th>3</th>\n",
       "      <td>4</td>\n",
       "      <td>Woman in Love</td>\n",
       "      <td>Barbra Streisand</td>\n",
       "      <td>adult standards</td>\n",
       "      <td>1980</td>\n",
       "      <td>170</td>\n",
       "      <td>28</td>\n",
       "      <td>47</td>\n",
       "      <td>-16</td>\n",
       "      <td>13</td>\n",
       "      <td>33</td>\n",
       "      <td>232</td>\n",
       "      <td>25</td>\n",
       "      <td>3</td>\n",
       "      <td>67</td>\n",
       "    </tr>\n",
       "    <tr>\n",
       "      <th>4</th>\n",
       "      <td>5</td>\n",
       "      <td>Goodbye Yellow Brick Road - Remastered 2014</td>\n",
       "      <td>Elton John</td>\n",
       "      <td>glam rock</td>\n",
       "      <td>1973</td>\n",
       "      <td>121</td>\n",
       "      <td>47</td>\n",
       "      <td>56</td>\n",
       "      <td>-8</td>\n",
       "      <td>15</td>\n",
       "      <td>40</td>\n",
       "      <td>193</td>\n",
       "      <td>45</td>\n",
       "      <td>3</td>\n",
       "      <td>63</td>\n",
       "    </tr>\n",
       "  </tbody>\n",
       "</table>\n",
       "</div>"
      ],
      "text/plain": [
       "   Id                                        title            artist  \\\n",
       "0   1                                 My Happiness    Connie Francis   \n",
       "1   2                             Unchained Melody   The Teddy Bears   \n",
       "2   3                        How Deep Is Your Love          Bee Gees   \n",
       "3   4                                Woman in Love  Barbra Streisand   \n",
       "4   5  Goodbye Yellow Brick Road - Remastered 2014        Elton John   \n",
       "\n",
       "         top genre  year  bpm  nrgy  dnce  dB  live  val  dur  acous  spch  \\\n",
       "0  adult standards  1996  107    31    45  -8    13   28  150     75     3   \n",
       "1              NaN  2011  114    44    53  -8    13   47  139     49     3   \n",
       "2  adult standards  1979  105    36    63  -9    13   67  245     11     3   \n",
       "3  adult standards  1980  170    28    47 -16    13   33  232     25     3   \n",
       "4        glam rock  1973  121    47    56  -8    15   40  193     45     3   \n",
       "\n",
       "   pop  \n",
       "0   44  \n",
       "1   37  \n",
       "2   77  \n",
       "3   67  \n",
       "4   63  "
      ]
     },
     "execution_count": 5,
     "metadata": {},
     "output_type": "execute_result"
    }
   ],
   "source": [
    "spotify_train.head(5) # Allows us to visualise the first five values for each attribute in the training set"
   ]
  },
  {
   "cell_type": "code",
   "execution_count": 6,
   "metadata": {},
   "outputs": [
    {
     "data": {
      "text/html": [
       "<div>\n",
       "<style scoped>\n",
       "    .dataframe tbody tr th:only-of-type {\n",
       "        vertical-align: middle;\n",
       "    }\n",
       "\n",
       "    .dataframe tbody tr th {\n",
       "        vertical-align: top;\n",
       "    }\n",
       "\n",
       "    .dataframe thead th {\n",
       "        text-align: right;\n",
       "    }\n",
       "</style>\n",
       "<table border=\"1\" class=\"dataframe\">\n",
       "  <thead>\n",
       "    <tr style=\"text-align: right;\">\n",
       "      <th></th>\n",
       "      <th>Id</th>\n",
       "      <th>year</th>\n",
       "      <th>bpm</th>\n",
       "      <th>nrgy</th>\n",
       "      <th>dnce</th>\n",
       "      <th>dB</th>\n",
       "      <th>live</th>\n",
       "      <th>val</th>\n",
       "      <th>dur</th>\n",
       "      <th>acous</th>\n",
       "      <th>spch</th>\n",
       "      <th>pop</th>\n",
       "    </tr>\n",
       "  </thead>\n",
       "  <tbody>\n",
       "    <tr>\n",
       "      <th>count</th>\n",
       "      <td>453.000000</td>\n",
       "      <td>453.000000</td>\n",
       "      <td>453.000000</td>\n",
       "      <td>453.000000</td>\n",
       "      <td>453.000000</td>\n",
       "      <td>453.000000</td>\n",
       "      <td>453.000000</td>\n",
       "      <td>453.000000</td>\n",
       "      <td>453.000000</td>\n",
       "      <td>453.000000</td>\n",
       "      <td>453.000000</td>\n",
       "      <td>453.000000</td>\n",
       "    </tr>\n",
       "    <tr>\n",
       "      <th>mean</th>\n",
       "      <td>227.000000</td>\n",
       "      <td>1991.443709</td>\n",
       "      <td>118.399558</td>\n",
       "      <td>60.070640</td>\n",
       "      <td>59.565121</td>\n",
       "      <td>-8.836645</td>\n",
       "      <td>17.757174</td>\n",
       "      <td>59.465784</td>\n",
       "      <td>226.278146</td>\n",
       "      <td>32.982340</td>\n",
       "      <td>5.660044</td>\n",
       "      <td>60.743929</td>\n",
       "    </tr>\n",
       "    <tr>\n",
       "      <th>std</th>\n",
       "      <td>130.914094</td>\n",
       "      <td>16.776103</td>\n",
       "      <td>25.238713</td>\n",
       "      <td>22.205284</td>\n",
       "      <td>15.484458</td>\n",
       "      <td>3.577187</td>\n",
       "      <td>13.830300</td>\n",
       "      <td>24.539868</td>\n",
       "      <td>63.770380</td>\n",
       "      <td>29.530015</td>\n",
       "      <td>5.550581</td>\n",
       "      <td>13.470083</td>\n",
       "    </tr>\n",
       "    <tr>\n",
       "      <th>min</th>\n",
       "      <td>1.000000</td>\n",
       "      <td>1948.000000</td>\n",
       "      <td>62.000000</td>\n",
       "      <td>7.000000</td>\n",
       "      <td>18.000000</td>\n",
       "      <td>-24.000000</td>\n",
       "      <td>2.000000</td>\n",
       "      <td>6.000000</td>\n",
       "      <td>98.000000</td>\n",
       "      <td>0.000000</td>\n",
       "      <td>2.000000</td>\n",
       "      <td>26.000000</td>\n",
       "    </tr>\n",
       "    <tr>\n",
       "      <th>25%</th>\n",
       "      <td>114.000000</td>\n",
       "      <td>1976.000000</td>\n",
       "      <td>100.000000</td>\n",
       "      <td>43.000000</td>\n",
       "      <td>49.000000</td>\n",
       "      <td>-11.000000</td>\n",
       "      <td>9.000000</td>\n",
       "      <td>42.000000</td>\n",
       "      <td>181.000000</td>\n",
       "      <td>7.000000</td>\n",
       "      <td>3.000000</td>\n",
       "      <td>53.000000</td>\n",
       "    </tr>\n",
       "    <tr>\n",
       "      <th>50%</th>\n",
       "      <td>227.000000</td>\n",
       "      <td>1994.000000</td>\n",
       "      <td>119.000000</td>\n",
       "      <td>63.000000</td>\n",
       "      <td>61.000000</td>\n",
       "      <td>-8.000000</td>\n",
       "      <td>13.000000</td>\n",
       "      <td>61.000000</td>\n",
       "      <td>223.000000</td>\n",
       "      <td>24.000000</td>\n",
       "      <td>4.000000</td>\n",
       "      <td>63.000000</td>\n",
       "    </tr>\n",
       "    <tr>\n",
       "      <th>75%</th>\n",
       "      <td>340.000000</td>\n",
       "      <td>2007.000000</td>\n",
       "      <td>133.000000</td>\n",
       "      <td>78.000000</td>\n",
       "      <td>70.000000</td>\n",
       "      <td>-6.000000</td>\n",
       "      <td>23.000000</td>\n",
       "      <td>80.000000</td>\n",
       "      <td>262.000000</td>\n",
       "      <td>58.000000</td>\n",
       "      <td>6.000000</td>\n",
       "      <td>71.000000</td>\n",
       "    </tr>\n",
       "    <tr>\n",
       "      <th>max</th>\n",
       "      <td>453.000000</td>\n",
       "      <td>2019.000000</td>\n",
       "      <td>199.000000</td>\n",
       "      <td>100.000000</td>\n",
       "      <td>96.000000</td>\n",
       "      <td>-1.000000</td>\n",
       "      <td>93.000000</td>\n",
       "      <td>99.000000</td>\n",
       "      <td>511.000000</td>\n",
       "      <td>100.000000</td>\n",
       "      <td>47.000000</td>\n",
       "      <td>84.000000</td>\n",
       "    </tr>\n",
       "  </tbody>\n",
       "</table>\n",
       "</div>"
      ],
      "text/plain": [
       "               Id         year         bpm        nrgy        dnce  \\\n",
       "count  453.000000   453.000000  453.000000  453.000000  453.000000   \n",
       "mean   227.000000  1991.443709  118.399558   60.070640   59.565121   \n",
       "std    130.914094    16.776103   25.238713   22.205284   15.484458   \n",
       "min      1.000000  1948.000000   62.000000    7.000000   18.000000   \n",
       "25%    114.000000  1976.000000  100.000000   43.000000   49.000000   \n",
       "50%    227.000000  1994.000000  119.000000   63.000000   61.000000   \n",
       "75%    340.000000  2007.000000  133.000000   78.000000   70.000000   \n",
       "max    453.000000  2019.000000  199.000000  100.000000   96.000000   \n",
       "\n",
       "               dB        live         val         dur       acous        spch  \\\n",
       "count  453.000000  453.000000  453.000000  453.000000  453.000000  453.000000   \n",
       "mean    -8.836645   17.757174   59.465784  226.278146   32.982340    5.660044   \n",
       "std      3.577187   13.830300   24.539868   63.770380   29.530015    5.550581   \n",
       "min    -24.000000    2.000000    6.000000   98.000000    0.000000    2.000000   \n",
       "25%    -11.000000    9.000000   42.000000  181.000000    7.000000    3.000000   \n",
       "50%     -8.000000   13.000000   61.000000  223.000000   24.000000    4.000000   \n",
       "75%     -6.000000   23.000000   80.000000  262.000000   58.000000    6.000000   \n",
       "max     -1.000000   93.000000   99.000000  511.000000  100.000000   47.000000   \n",
       "\n",
       "              pop  \n",
       "count  453.000000  \n",
       "mean    60.743929  \n",
       "std     13.470083  \n",
       "min     26.000000  \n",
       "25%     53.000000  \n",
       "50%     63.000000  \n",
       "75%     71.000000  \n",
       "max     84.000000  "
      ]
     },
     "execution_count": 6,
     "metadata": {},
     "output_type": "execute_result"
    }
   ],
   "source": [
    "spotify_train.describe() # Gives a summary of statistics (count, mean, standard deviation etc) of the training set attributes"
   ]
  },
  {
   "cell_type": "markdown",
   "metadata": {},
   "source": [
    "# 4. Checking for Null/NaN Values"
   ]
  },
  {
   "cell_type": "markdown",
   "metadata": {},
   "source": [
    "From the code below, it can be seen that we have at least one null value in the 'top genre' attribute. The method we have decided to use to clean the data here is to simply drop the tracks which have these null values."
   ]
  },
  {
   "cell_type": "code",
   "execution_count": 7,
   "metadata": {},
   "outputs": [
    {
     "data": {
      "text/plain": [
       "Id           False\n",
       "title        False\n",
       "artist       False\n",
       "top genre     True\n",
       "year         False\n",
       "bpm          False\n",
       "nrgy         False\n",
       "dnce         False\n",
       "dB           False\n",
       "live         False\n",
       "val          False\n",
       "dur          False\n",
       "acous        False\n",
       "spch         False\n",
       "pop          False\n",
       "dtype: bool"
      ]
     },
     "execution_count": 7,
     "metadata": {},
     "output_type": "execute_result"
    }
   ],
   "source": [
    "spotify_train.isnull().any() # Allows us to check what columns have null values (if any)"
   ]
  },
  {
   "cell_type": "code",
   "execution_count": 8,
   "metadata": {},
   "outputs": [],
   "source": [
    "spotify_train = spotify_train.dropna(subset=[\"top genre\"]) # Drop the null values from the 'top genre' attribute"
   ]
  },
  {
   "cell_type": "code",
   "execution_count": 9,
   "metadata": {},
   "outputs": [
    {
     "data": {
      "text/plain": [
       "Id           False\n",
       "title        False\n",
       "artist       False\n",
       "top genre    False\n",
       "year         False\n",
       "bpm          False\n",
       "nrgy         False\n",
       "dnce         False\n",
       "dB           False\n",
       "live         False\n",
       "val          False\n",
       "dur          False\n",
       "acous        False\n",
       "spch         False\n",
       "pop          False\n",
       "dtype: bool"
      ]
     },
     "execution_count": 9,
     "metadata": {},
     "output_type": "execute_result"
    }
   ],
   "source": [
    "spotify_train.isnull().any() # Allows us to check that all null values have now been removed"
   ]
  },
  {
   "cell_type": "markdown",
   "metadata": {},
   "source": [
    "# 5. Exploratory Data Analysis (EDA)"
   ]
  },
  {
   "cell_type": "markdown",
   "metadata": {},
   "source": [
    "At this stage, we will investigate the trends in the data. This will involve: visualizing each attribute individually to examine outliers, checking which attributes (if any) correlate well with our target attribute and examining the target attribute in more detail."
   ]
  },
  {
   "cell_type": "markdown",
   "metadata": {},
   "source": [
    "# 5.1 Visualizing the Data to Check for Outliers"
   ]
  },
  {
   "cell_type": "code",
   "execution_count": 10,
   "metadata": {},
   "outputs": [
    {
     "data": {
      "image/png": "[encoded data removed]",
      "text/plain": [
       "<Figure size 1080x1080 with 12 Axes>"
      ]
     },
     "metadata": {
      "needs_background": "light"
     },
     "output_type": "display_data"
    }
   ],
   "source": [
    "\"\"\"\n",
    "        Boxplots of all attributes of the Dataframe - Determines where we find outliers\n",
    "\n",
    "\"\"\"\n",
    "\n",
    "spotify_train.plot(kind='box', subplots=True, layout=(3,4), figsize=(15, 15))\n",
    "plt.show()\n",
    "\n",
    "# Used subplots as we believe this makes an easier comparison than plotting all box plots individually. \n",
    "# We chose a layout of 3x4 as we have 12 plots so it looks neat when visualising."
   ]
  },
  {
   "cell_type": "markdown",
   "metadata": {},
   "source": [
    "From the boxplot visualization, it is clear to see that the following attributes have many outliers associated with them: \"live\", \"dur\" and \"spch\". The removal of these has been carried out below. However, due to the severe lack of data, keeping these outliers has actually given us more accurate predictions. Therefore, the code is commented out."
   ]
  },
  {
   "cell_type": "code",
   "execution_count": 11,
   "metadata": {},
   "outputs": [
    {
     "data": {
      "text/plain": [
       "'\\n       Removal of Outliers\\n'"
      ]
     },
     "execution_count": 11,
     "metadata": {},
     "output_type": "execute_result"
    }
   ],
   "source": [
    "\"\"\"\n",
    "       Removal of Outliers\n",
    "\"\"\"\n",
    "\n",
    "#Q1 = spotify_train.quantile(0.25) # Calculation of lower quartile, q1\n",
    "#Q3 = spotify_train.quantile(0.75) # Calculation of upper quartile, q3\n",
    "#IQR = Q3 - Q1 # Determining the inter-quartile range\n",
    "#print(IQR)"
   ]
  },
  {
   "cell_type": "code",
   "execution_count": 12,
   "metadata": {},
   "outputs": [],
   "source": [
    "#spotify_train = spotify_train[~((spotify_train < (Q1 - 1.5 * IQR)) | (spotify_train > (Q3 + 1.5 * IQR))).any(axis=1)]"
   ]
  },
  {
   "cell_type": "code",
   "execution_count": 13,
   "metadata": {},
   "outputs": [
    {
     "data": {
      "text/plain": [
       "'\\n        Boxplots of all attributes of the Dataframe - After removal of outliers\\n'"
      ]
     },
     "execution_count": 13,
     "metadata": {},
     "output_type": "execute_result"
    }
   ],
   "source": [
    "\"\"\"\n",
    "        Boxplots of all attributes of the Dataframe - After removal of outliers\n",
    "\"\"\"\n",
    "\n",
    "#spotify_train.plot(kind='box', subplots=True, layout=(4,4), figsize=(15, 15))\n",
    "#plt.show()"
   ]
  },
  {
   "cell_type": "markdown",
   "metadata": {},
   "source": [
    "# 5.2 Looking for Correlations in the Data"
   ]
  },
  {
   "cell_type": "markdown",
   "metadata": {},
   "source": [
    "The best method to determine how well certain attributes correlate well with one another is to create a heatmap, which we carried out below. We then decided to use the standard correlation coefficient (Pearson's r) to visualize how well/poorly each attribute correlated with our target attribute 'pop'"
   ]
  },
  {
   "cell_type": "code",
   "execution_count": 14,
   "metadata": {},
   "outputs": [
    {
     "data": {
      "text/plain": [
       "<matplotlib.axes._subplots.AxesSubplot at 0x1dfe37f62b0>"
      ]
     },
     "execution_count": 14,
     "metadata": {},
     "output_type": "execute_result"
    },
    {
     "data": {
      "image/png": "[encoded data removed]",
      "text/plain": [
       "<Figure size 720x720 with 2 Axes>"
      ]
     },
     "metadata": {
      "needs_background": "light"
     },
     "output_type": "display_data"
    }
   ],
   "source": [
    "\"\"\"\n",
    "        Heatmap for training data - Looking to find linear relationships with attributes\n",
    "\n",
    "\"\"\"\n",
    "\n",
    "plt.figure(figsize=(10,10))\n",
    "corr = spotify_train.corr()\n",
    "sns.heatmap(corr, annot=True, cmap=\"YlOrRd\") # annot = True gives the score for each attribute"
   ]
  },
  {
   "cell_type": "markdown",
   "metadata": {},
   "source": [
    "Upon examination of the heat map, it can be seen that the variables \"acous\", \"val\", and \"live\" have a negative correlation\n",
    "with our independant variable \"pop\". Removal of these columns resulted in the best result for the polynomial model. This \n",
    "feature removal ended up being the most important aspect for achieving our best score. However, for the other 3 models, this \n",
    "removal of features made the model less accurate. "
   ]
  },
  {
   "cell_type": "code",
   "execution_count": 15,
   "metadata": {},
   "outputs": [
    {
     "data": {
      "text/plain": [
       "pop      1.000000\n",
       "dur      0.321028\n",
       "dB       0.312952\n",
       "nrgy     0.274006\n",
       "dnce     0.256099\n",
       "spch     0.130346\n",
       "Id       0.072073\n",
       "bpm      0.042695\n",
       "year     0.018926\n",
       "live    -0.025493\n",
       "val     -0.040035\n",
       "acous   -0.443763\n",
       "Name: pop, dtype: float64"
      ]
     },
     "execution_count": 15,
     "metadata": {},
     "output_type": "execute_result"
    }
   ],
   "source": [
    "corr_matrix = spotify_train.corr()\n",
    "corr_matrix[\"pop\"].sort_values(ascending=False) # Finding correlations in relation to the attribute 'pop'"
   ]
  },
  {
   "cell_type": "markdown",
   "metadata": {},
   "source": [
    "From Pearson's r above, we have chosen to create a mini heatmap of the attributes that correlate well/poorly with our target variable (i.e. any attribute with a value that is not close to 0)."
   ]
  },
  {
   "cell_type": "code",
   "execution_count": 16,
   "metadata": {},
   "outputs": [],
   "source": [
    "most_corr = spotify_train[['dur','dB','nrgy','dnce','spch', 'acous']] # The most/least correlating attributes w.r.t \"pop\""
   ]
  },
  {
   "cell_type": "code",
   "execution_count": 17,
   "metadata": {},
   "outputs": [
    {
     "data": {
      "text/plain": [
       "<matplotlib.axes._subplots.AxesSubplot at 0x1dfe36f14e0>"
      ]
     },
     "execution_count": 17,
     "metadata": {},
     "output_type": "execute_result"
    },
    {
     "data": {
      "image/png": "[encoded data removed]",
      "text/plain": [
       "<Figure size 432x288 with 2 Axes>"
      ]
     },
     "metadata": {
      "needs_background": "light"
     },
     "output_type": "display_data"
    }
   ],
   "source": [
    "sns.heatmap(most_corr.corr(),annot=True,cmap=\"YlOrRd\")"
   ]
  },
  {
   "cell_type": "markdown",
   "metadata": {},
   "source": [
    "With reference to the mini heatmap, the attributes \"nrgy\" and \"acous\" have a strong negative correlation, with a score of -0.66. A reason for this could be that most instrumental tracks are played at a slow pace. Furthermore, the attributes \"nrgy\" and \"dB\" have a strong positive correlation with a score of 0.69. A reason for this could be that louder tracks will appear to give more energy to a track."
   ]
  },
  {
   "cell_type": "code",
   "execution_count": 18,
   "metadata": {},
   "outputs": [
    {
     "name": "stderr",
     "output_type": "stream",
     "text": [
      "C:\\Users\\Stewart\\Anaconda3\\lib\\site-packages\\seaborn\\axisgrid.py:1847: UserWarning: JointGrid annotation is deprecated and will be removed in a future release.\n",
      "  warnings.warn(UserWarning(msg))\n"
     ]
    },
    {
     "data": {
      "text/plain": [
       "<seaborn.axisgrid.JointGrid at 0x1dfe36e8240>"
      ]
     },
     "execution_count": 18,
     "metadata": {},
     "output_type": "execute_result"
    },
    {
     "data": {
      "image/png": "[encoded data removed]",
      "text/plain": [
       "<Figure size 432x432 with 3 Axes>"
      ]
     },
     "metadata": {
      "needs_background": "light"
     },
     "output_type": "display_data"
    }
   ],
   "source": [
    "\"\"\"\n",
    "        Visualising the correlation between the attributes \"nrgy\" and \"db\" and \"nrgy\" and \"acous\"\n",
    "\"\"\"\n",
    "\n",
    "from scipy.stats import pearsonr\n",
    "sns.jointplot(data=most_corr,y='nrgy',x='dB',kind='reg',stat_func=pearsonr)"
   ]
  },
  {
   "cell_type": "code",
   "execution_count": 19,
   "metadata": {},
   "outputs": [
    {
     "data": {
      "text/plain": [
       "<seaborn.axisgrid.JointGrid at 0x1dfe2ff2630>"
      ]
     },
     "execution_count": 19,
     "metadata": {},
     "output_type": "execute_result"
    },
    {
     "data": {
      "image/png": "[encoded data removed]",
      "text/plain": [
       "<Figure size 432x432 with 3 Axes>"
      ]
     },
     "metadata": {
      "needs_background": "light"
     },
     "output_type": "display_data"
    }
   ],
   "source": [
    "from scipy.stats import pearsonr\n",
    "sns.jointplot(data=most_corr,y='nrgy',x='acous',kind='reg',stat_func=pearsonr)"
   ]
  },
  {
   "cell_type": "markdown",
   "metadata": {},
   "source": [
    "In relation to Pearson's r, the values range from -1 to 1. A strong positive correlation should be visualised when the value is close to 1, and vice versa. Therefore, we should see a positive linear plot of \"nrgy\" vs \"dB\" and a negative linear plot of \"nrgy\" vs \"acous\", which is emphasised above."
   ]
  },
  {
   "cell_type": "markdown",
   "metadata": {},
   "source": [
    "# 5.3 Examining the Target Variable in More Detail"
   ]
  },
  {
   "cell_type": "code",
   "execution_count": 20,
   "metadata": {},
   "outputs": [
    {
     "data": {
      "image/png": "[encoded data removed]",
      "text/plain": [
       "<Figure size 432x288 with 1 Axes>"
      ]
     },
     "metadata": {
      "needs_background": "light"
     },
     "output_type": "display_data"
    }
   ],
   "source": [
    "\"\"\"\n",
    "            Histogram & Density distrubution of the 'pop' attribute\n",
    "\"\"\"\n",
    "\n",
    "num_bins = 10 # The number of different segments on the histogram - We believe 10 is a relatively nice number for this data\n",
    "spotify_train[\"pop\"].plot.kde(alpha=1) # A plot of density distribution for the variable 'pop' for each song\n",
    "plt.hist(spotify_train['pop'], num_bins, alpha=1, density=True) # A histogram plot for the same variable, where 'alpha'  \n",
    "#relates to the brightness of the plots. We need to assign a 'density=true' argument onto the histogram plot as this will\n",
    "#essentially normalise the plot (frequency between 0 and 1) so that this doesn't dominate the density distribution plot.\n",
    "\n",
    "plt.xlabel(\"pop\")\n",
    "plt.ylabel(\"Number of songs\")\n",
    "plt.title(\"Histogram & Density Distribution of the 'pop' Attribute\")\n",
    "plt.show()"
   ]
  },
  {
   "cell_type": "markdown",
   "metadata": {},
   "source": [
    "This plot of the target attribute \"pop\" clearly shows that the majority of tracks have a popularity score between 55 and 75. Due to how congested this is and with such little data to train on, it was very difficult to achieve very accurate predictions when we trained the data on the machine learning (ML) models."
   ]
  },
  {
   "cell_type": "markdown",
   "metadata": {},
   "source": [
    "# 6. Preparing the Data for Machine Learning Models"
   ]
  },
  {
   "cell_type": "markdown",
   "metadata": {},
   "source": [
    "First of all, we have separated the training data into features (spotify_train_new) and labels (spotify_labels). We also tried three different scenarios of dropping specific attributes to determine whether this could improve our predictions. These are described below in the order they appear:\n",
    "\n",
    "1. This scenario resulted in our most accurate predictions for the following three models: Linear Regression, Random Forest Regression and SVM Regression.\n",
    "2. For this scenario, we included the \"year\" and \"top genre\" attributes as we would later manually one-hot encode these to determine whether or not this would improve our predictions. However, our predictions were less accurate for all four models, hence, this has been commented out.\n",
    "3. We also felt it would be a good idea to only train on the attributes which correlated well with our target attribute. However, presumably from the lack of training data, this also made our predictions worse and has therefore been commented out also.\n",
    "\n",
    "NB: For the polynomial regression model, we have reduced the training dataset later and explained why these extra attributes have been removed."
   ]
  },
  {
   "cell_type": "code",
   "execution_count": 21,
   "metadata": {},
   "outputs": [],
   "source": [
    "\"\"\"\n",
    "        Separating the training data into data and labels\n",
    "\n",
    "\"\"\"\n",
    "\n",
    "spotify_labels = spotify_train[\"pop\"].copy() # Creating a labels variable for the 'pop' attribute\n",
    "spotify_train_new = spotify_train.drop(\"pop\", axis=1) # Creating a new dataset with the target attribute removed"
   ]
  },
  {
   "cell_type": "code",
   "execution_count": 22,
   "metadata": {},
   "outputs": [],
   "source": [
    "\"\"\"\n",
    "            Removing unnecessary columns and creating new (and simpler) test and train sets\n",
    "\n",
    "\"\"\"\n",
    "\n",
    "spotify_train_new = spotify_train_new.drop([\"title\", \"artist\", \"top genre\", \"year\", \"Id\"], axis=1)\n",
    "\n",
    "#spotify_train_new = spotify_train_new.drop([\"Id\", \"title\", \"artist\"], axis=1) \n",
    "\n",
    "#spotify_train_new = spotify_train_new.drop([\"title\", \"artist\", \"top genre\", \"bpm\", \"live\", \"val\", \"spch\", \"year\", \"acous\"], \n",
    "#                                          axis=1) \n"
   ]
  },
  {
   "cell_type": "code",
   "execution_count": 23,
   "metadata": {},
   "outputs": [],
   "source": [
    "spotify_test_new = spotify_test.drop([\"title\", \"artist\", \"top genre\", \"year\", \"Id\"], axis=1)\n",
    "\n",
    "#spotify_test_new = spotify_test.drop([\"Id\",\"title\", \"artist\"], axis=1)\n",
    "\n",
    "#spotify_test_new = spotify_test.drop([\"title\", \"artist\", \"top genre\", \"year\", \"bpm\", \"live\", \"val\", \"spch\", \"acous\"],\n",
    "#                                       axis=1)\n"
   ]
  },
  {
   "cell_type": "code",
   "execution_count": 24,
   "metadata": {},
   "outputs": [
    {
     "data": {
      "text/html": [
       "<div>\n",
       "<style scoped>\n",
       "    .dataframe tbody tr th:only-of-type {\n",
       "        vertical-align: middle;\n",
       "    }\n",
       "\n",
       "    .dataframe tbody tr th {\n",
       "        vertical-align: top;\n",
       "    }\n",
       "\n",
       "    .dataframe thead th {\n",
       "        text-align: right;\n",
       "    }\n",
       "</style>\n",
       "<table border=\"1\" class=\"dataframe\">\n",
       "  <thead>\n",
       "    <tr style=\"text-align: right;\">\n",
       "      <th></th>\n",
       "      <th>bpm</th>\n",
       "      <th>nrgy</th>\n",
       "      <th>dnce</th>\n",
       "      <th>dB</th>\n",
       "      <th>live</th>\n",
       "      <th>val</th>\n",
       "      <th>dur</th>\n",
       "      <th>acous</th>\n",
       "      <th>spch</th>\n",
       "    </tr>\n",
       "  </thead>\n",
       "  <tbody>\n",
       "    <tr>\n",
       "      <th>0</th>\n",
       "      <td>107</td>\n",
       "      <td>31</td>\n",
       "      <td>45</td>\n",
       "      <td>-8</td>\n",
       "      <td>13</td>\n",
       "      <td>28</td>\n",
       "      <td>150</td>\n",
       "      <td>75</td>\n",
       "      <td>3</td>\n",
       "    </tr>\n",
       "    <tr>\n",
       "      <th>2</th>\n",
       "      <td>105</td>\n",
       "      <td>36</td>\n",
       "      <td>63</td>\n",
       "      <td>-9</td>\n",
       "      <td>13</td>\n",
       "      <td>67</td>\n",
       "      <td>245</td>\n",
       "      <td>11</td>\n",
       "      <td>3</td>\n",
       "    </tr>\n",
       "    <tr>\n",
       "      <th>3</th>\n",
       "      <td>170</td>\n",
       "      <td>28</td>\n",
       "      <td>47</td>\n",
       "      <td>-16</td>\n",
       "      <td>13</td>\n",
       "      <td>33</td>\n",
       "      <td>232</td>\n",
       "      <td>25</td>\n",
       "      <td>3</td>\n",
       "    </tr>\n",
       "    <tr>\n",
       "      <th>4</th>\n",
       "      <td>121</td>\n",
       "      <td>47</td>\n",
       "      <td>56</td>\n",
       "      <td>-8</td>\n",
       "      <td>15</td>\n",
       "      <td>40</td>\n",
       "      <td>193</td>\n",
       "      <td>45</td>\n",
       "      <td>3</td>\n",
       "    </tr>\n",
       "    <tr>\n",
       "      <th>5</th>\n",
       "      <td>110</td>\n",
       "      <td>56</td>\n",
       "      <td>71</td>\n",
       "      <td>-7</td>\n",
       "      <td>12</td>\n",
       "      <td>23</td>\n",
       "      <td>223</td>\n",
       "      <td>15</td>\n",
       "      <td>6</td>\n",
       "    </tr>\n",
       "  </tbody>\n",
       "</table>\n",
       "</div>"
      ],
      "text/plain": [
       "   bpm  nrgy  dnce  dB  live  val  dur  acous  spch\n",
       "0  107    31    45  -8    13   28  150     75     3\n",
       "2  105    36    63  -9    13   67  245     11     3\n",
       "3  170    28    47 -16    13   33  232     25     3\n",
       "4  121    47    56  -8    15   40  193     45     3\n",
       "5  110    56    71  -7    12   23  223     15     6"
      ]
     },
     "execution_count": 24,
     "metadata": {},
     "output_type": "execute_result"
    }
   ],
   "source": [
    "spotify_train_new.head() # Lets take a quick look at our new training dataset"
   ]
  },
  {
   "cell_type": "code",
   "execution_count": 25,
   "metadata": {},
   "outputs": [
    {
     "data": {
      "text/html": [
       "<div>\n",
       "<style scoped>\n",
       "    .dataframe tbody tr th:only-of-type {\n",
       "        vertical-align: middle;\n",
       "    }\n",
       "\n",
       "    .dataframe tbody tr th {\n",
       "        vertical-align: top;\n",
       "    }\n",
       "\n",
       "    .dataframe thead th {\n",
       "        text-align: right;\n",
       "    }\n",
       "</style>\n",
       "<table border=\"1\" class=\"dataframe\">\n",
       "  <thead>\n",
       "    <tr style=\"text-align: right;\">\n",
       "      <th></th>\n",
       "      <th>bpm</th>\n",
       "      <th>nrgy</th>\n",
       "      <th>dnce</th>\n",
       "      <th>dB</th>\n",
       "      <th>live</th>\n",
       "      <th>val</th>\n",
       "      <th>dur</th>\n",
       "      <th>acous</th>\n",
       "      <th>spch</th>\n",
       "    </tr>\n",
       "  </thead>\n",
       "  <tbody>\n",
       "    <tr>\n",
       "      <th>0</th>\n",
       "      <td>154</td>\n",
       "      <td>93</td>\n",
       "      <td>65</td>\n",
       "      <td>-3</td>\n",
       "      <td>75</td>\n",
       "      <td>74</td>\n",
       "      <td>213</td>\n",
       "      <td>1</td>\n",
       "      <td>18</td>\n",
       "    </tr>\n",
       "    <tr>\n",
       "      <th>1</th>\n",
       "      <td>161</td>\n",
       "      <td>39</td>\n",
       "      <td>30</td>\n",
       "      <td>-15</td>\n",
       "      <td>11</td>\n",
       "      <td>14</td>\n",
       "      <td>292</td>\n",
       "      <td>26</td>\n",
       "      <td>3</td>\n",
       "    </tr>\n",
       "    <tr>\n",
       "      <th>2</th>\n",
       "      <td>64</td>\n",
       "      <td>46</td>\n",
       "      <td>27</td>\n",
       "      <td>-7</td>\n",
       "      <td>12</td>\n",
       "      <td>18</td>\n",
       "      <td>179</td>\n",
       "      <td>38</td>\n",
       "      <td>3</td>\n",
       "    </tr>\n",
       "    <tr>\n",
       "      <th>3</th>\n",
       "      <td>127</td>\n",
       "      <td>92</td>\n",
       "      <td>71</td>\n",
       "      <td>-9</td>\n",
       "      <td>37</td>\n",
       "      <td>53</td>\n",
       "      <td>216</td>\n",
       "      <td>6</td>\n",
       "      <td>4</td>\n",
       "    </tr>\n",
       "    <tr>\n",
       "      <th>4</th>\n",
       "      <td>115</td>\n",
       "      <td>46</td>\n",
       "      <td>56</td>\n",
       "      <td>-12</td>\n",
       "      <td>21</td>\n",
       "      <td>34</td>\n",
       "      <td>153</td>\n",
       "      <td>18</td>\n",
       "      <td>3</td>\n",
       "    </tr>\n",
       "  </tbody>\n",
       "</table>\n",
       "</div>"
      ],
      "text/plain": [
       "   bpm  nrgy  dnce  dB  live  val  dur  acous  spch\n",
       "0  154    93    65  -3    75   74  213      1    18\n",
       "1  161    39    30 -15    11   14  292     26     3\n",
       "2   64    46    27  -7    12   18  179     38     3\n",
       "3  127    92    71  -9    37   53  216      6     4\n",
       "4  115    46    56 -12    21   34  153     18     3"
      ]
     },
     "execution_count": 25,
     "metadata": {},
     "output_type": "execute_result"
    }
   ],
   "source": [
    "spotify_test_new.head() # Lets take a quick look at our new training dataset"
   ]
  },
  {
   "cell_type": "markdown",
   "metadata": {},
   "source": [
    "# 7. Data Cleaning and the Handling of Categorical Attributes"
   ]
  },
  {
   "cell_type": "markdown",
   "metadata": {},
   "source": [
    "In the first part of this section, we manually one-hot encoded the attributes \"year\" and \"top genre\" as part of the 2nd scenario described in the last section. For the \"year\" attribute, to achieve a fairly even split of 0's and 1's, we decided to cut-off at the year 1990. This gave us a split of 196 for 0 and 242 for 1. For the \"top genre\" attribute, we used a similar technique and cut-off after the top five genres. This gave us a split of 227 for 0 and 211 for 1.\n",
    "\n",
    "In the last part of this section, we used a simple imputer method to calculate the median of each numerical attribute. This, in turn, would then replace any null numerical values with these median values. Despite us not having any null numerical values for this assignment, it was good practice to include this incase we need to use this technique on future regression problems."
   ]
  },
  {
   "cell_type": "markdown",
   "metadata": {},
   "source": [
    "# 7.1 Manually One-Hot Encoding the 'Year' Attribute"
   ]
  },
  {
   "cell_type": "code",
   "execution_count": 26,
   "metadata": {},
   "outputs": [],
   "source": [
    "#year = list(spotify_train_new[\"year\"]) # Manually one-hot encoding the attribute \"year\" from the training set\n",
    "#for i in range(len(year)):\n",
    "    #y = year[i]\n",
    "    \n",
    "    #if y < 1990:\n",
    "        #year[i] = 0 # If the year is less than 1990, then we encode with a 0\n",
    "    #else:\n",
    "        #year[i] = 1 # If the year is 1990 or greater, then we encode with a 1\n",
    "\n",
    "#spotify_train_new[\"year\"] = year\n",
    "#spotify_train_new.head()"
   ]
  },
  {
   "cell_type": "code",
   "execution_count": 27,
   "metadata": {},
   "outputs": [],
   "source": [
    "# Doing the same procedure for the test data\n",
    "\n",
    "#year = list(spotify_test_new[\"year\"]) # Manually one-hot encoding the attribute \"year\" from the test set\n",
    "#for i in range(len(year)):\n",
    "    #y = year[i]\n",
    "    \n",
    "    #if y < 1990:\n",
    "        #year[i] = 0 # If the year is less than 1990, then we encode with a 0\n",
    "    #else:\n",
    "        #year[i] = 1 # If the year is 1990 or greater, then we encode with a 1\n",
    "\n",
    "#spotify_test_new[\"year\"] = year\n",
    "#spotify_test_new.head()"
   ]
  },
  {
   "cell_type": "code",
   "execution_count": 28,
   "metadata": {},
   "outputs": [],
   "source": [
    "#spotify_train_new[\"year\"].value_counts() # A count of how the \"year\" attribute has now beem split"
   ]
  },
  {
   "cell_type": "markdown",
   "metadata": {},
   "source": [
    "# 7.2 Manually One-Hot Encoding the 'Top Genre' Attribute"
   ]
  },
  {
   "cell_type": "code",
   "execution_count": 29,
   "metadata": {},
   "outputs": [],
   "source": [
    "#spotify_train_new[\"top genre\"].value_counts().head() # Check what top genre's appear the most often in songs"
   ]
  },
  {
   "cell_type": "code",
   "execution_count": 30,
   "metadata": {},
   "outputs": [],
   "source": [
    "#genre = list(spotify_train_new[\"top genre\"]) # Manually one-hot encoding the attribute \"top genre\" from the training set\n",
    "#for i in range(len(genre)):\n",
    "    #ge = genre[i]\n",
    "    \n",
    "    #if ge == \"adult standards\" or ge ==\"album rock\" or ge== \"dance pop\" or ge == \"brill building pop\" or ge == \"glam rock\":\n",
    "        #genre[i] = 0 # If the top genre matches any of the categories listed above, then we encode with a 0\n",
    "    #else:\n",
    "        #genre[i] = 1 # If the top genre doesn't match any of the categories listed above, then we encode with a 1\n",
    "\n",
    "#spotify_train_new[\"top genre\"] = genre\n",
    "#spotify_train_new.head()"
   ]
  },
  {
   "cell_type": "code",
   "execution_count": 31,
   "metadata": {},
   "outputs": [],
   "source": [
    "# Doing the same procedure for the test data\n",
    "\n",
    "#genre = list(spotify_test_new[\"top genre\"]) # Manually one-hot encoding the attribute \"top genre\" from the test set\n",
    "#for i in range(len(genre)):\n",
    "    #ge = genre[i]\n",
    "    \n",
    "    #if ge == \"adult standards\" or ge ==\"album rock\" or ge== \"dance pop\" or ge == \"brill building pop\" or ge == \"glam rock\":\n",
    "        #genre[i] = 0 # If the top genre matches any of the categories listed above, then we encode with a 0\n",
    "    #else:\n",
    "        #genre[i] = 1 # If the top genre doesn't match any of the categories listed above, then we encode with a 1\n",
    "\n",
    "#spotify_test_new[\"top genre\"] = genre\n",
    "#spotify_test_new.head()"
   ]
  },
  {
   "cell_type": "code",
   "execution_count": 32,
   "metadata": {},
   "outputs": [],
   "source": [
    "#spotify_train_new[\"top genre\"].value_counts() # A count of how the \"top genre\" attribute has now beem split"
   ]
  },
  {
   "cell_type": "markdown",
   "metadata": {},
   "source": [
    "# 7.3 Simple Imputer for Missing Numerical Values"
   ]
  },
  {
   "cell_type": "code",
   "execution_count": 33,
   "metadata": {},
   "outputs": [
    {
     "data": {
      "text/html": [
       "<div>\n",
       "<style scoped>\n",
       "    .dataframe tbody tr th:only-of-type {\n",
       "        vertical-align: middle;\n",
       "    }\n",
       "\n",
       "    .dataframe tbody tr th {\n",
       "        vertical-align: top;\n",
       "    }\n",
       "\n",
       "    .dataframe thead th {\n",
       "        text-align: right;\n",
       "    }\n",
       "</style>\n",
       "<table border=\"1\" class=\"dataframe\">\n",
       "  <thead>\n",
       "    <tr style=\"text-align: right;\">\n",
       "      <th></th>\n",
       "      <th>bpm</th>\n",
       "      <th>nrgy</th>\n",
       "      <th>dnce</th>\n",
       "      <th>dB</th>\n",
       "      <th>live</th>\n",
       "      <th>val</th>\n",
       "      <th>dur</th>\n",
       "      <th>acous</th>\n",
       "      <th>spch</th>\n",
       "    </tr>\n",
       "  </thead>\n",
       "  <tbody>\n",
       "    <tr>\n",
       "      <th>0</th>\n",
       "      <td>107</td>\n",
       "      <td>31</td>\n",
       "      <td>45</td>\n",
       "      <td>-8</td>\n",
       "      <td>13</td>\n",
       "      <td>28</td>\n",
       "      <td>150</td>\n",
       "      <td>75</td>\n",
       "      <td>3</td>\n",
       "    </tr>\n",
       "    <tr>\n",
       "      <th>2</th>\n",
       "      <td>105</td>\n",
       "      <td>36</td>\n",
       "      <td>63</td>\n",
       "      <td>-9</td>\n",
       "      <td>13</td>\n",
       "      <td>67</td>\n",
       "      <td>245</td>\n",
       "      <td>11</td>\n",
       "      <td>3</td>\n",
       "    </tr>\n",
       "    <tr>\n",
       "      <th>3</th>\n",
       "      <td>170</td>\n",
       "      <td>28</td>\n",
       "      <td>47</td>\n",
       "      <td>-16</td>\n",
       "      <td>13</td>\n",
       "      <td>33</td>\n",
       "      <td>232</td>\n",
       "      <td>25</td>\n",
       "      <td>3</td>\n",
       "    </tr>\n",
       "    <tr>\n",
       "      <th>4</th>\n",
       "      <td>121</td>\n",
       "      <td>47</td>\n",
       "      <td>56</td>\n",
       "      <td>-8</td>\n",
       "      <td>15</td>\n",
       "      <td>40</td>\n",
       "      <td>193</td>\n",
       "      <td>45</td>\n",
       "      <td>3</td>\n",
       "    </tr>\n",
       "    <tr>\n",
       "      <th>5</th>\n",
       "      <td>110</td>\n",
       "      <td>56</td>\n",
       "      <td>71</td>\n",
       "      <td>-7</td>\n",
       "      <td>12</td>\n",
       "      <td>23</td>\n",
       "      <td>223</td>\n",
       "      <td>15</td>\n",
       "      <td>6</td>\n",
       "    </tr>\n",
       "  </tbody>\n",
       "</table>\n",
       "</div>"
      ],
      "text/plain": [
       "   bpm  nrgy  dnce  dB  live  val  dur  acous  spch\n",
       "0  107    31    45  -8    13   28  150     75     3\n",
       "2  105    36    63  -9    13   67  245     11     3\n",
       "3  170    28    47 -16    13   33  232     25     3\n",
       "4  121    47    56  -8    15   40  193     45     3\n",
       "5  110    56    71  -7    12   23  223     15     6"
      ]
     },
     "execution_count": 33,
     "metadata": {},
     "output_type": "execute_result"
    }
   ],
   "source": [
    "\"\"\"\n",
    "        Looking into the Numerical Data\n",
    "\n",
    "\"\"\"\n",
    "\n",
    "from sklearn.impute import SimpleImputer\n",
    "\n",
    "imputer = SimpleImputer(strategy='median')\n",
    "\n",
    "spotify_num = spotify_train_new\n",
    "spotify_num.head()"
   ]
  },
  {
   "cell_type": "code",
   "execution_count": 34,
   "metadata": {},
   "outputs": [
    {
     "data": {
      "text/plain": [
       "array([120.,  64.,  62.,  -8.,  13.,  61., 224.,  23.,   4.])"
      ]
     },
     "execution_count": 34,
     "metadata": {},
     "output_type": "execute_result"
    }
   ],
   "source": [
    "## We can now fit the imputer instance to the Spotify training data \n",
    "\n",
    "imputer.fit(spotify_num)\n",
    "\n",
    "imputer.statistics_ # This will print out the median values of each attribute in a numpy array"
   ]
  },
  {
   "cell_type": "code",
   "execution_count": 35,
   "metadata": {},
   "outputs": [
    {
     "data": {
      "text/html": [
       "<div>\n",
       "<style scoped>\n",
       "    .dataframe tbody tr th:only-of-type {\n",
       "        vertical-align: middle;\n",
       "    }\n",
       "\n",
       "    .dataframe tbody tr th {\n",
       "        vertical-align: top;\n",
       "    }\n",
       "\n",
       "    .dataframe thead th {\n",
       "        text-align: right;\n",
       "    }\n",
       "</style>\n",
       "<table border=\"1\" class=\"dataframe\">\n",
       "  <thead>\n",
       "    <tr style=\"text-align: right;\">\n",
       "      <th></th>\n",
       "      <th>bpm</th>\n",
       "      <th>nrgy</th>\n",
       "      <th>dnce</th>\n",
       "      <th>dB</th>\n",
       "      <th>live</th>\n",
       "      <th>val</th>\n",
       "      <th>dur</th>\n",
       "      <th>acous</th>\n",
       "      <th>spch</th>\n",
       "    </tr>\n",
       "  </thead>\n",
       "  <tbody>\n",
       "    <tr>\n",
       "      <th>0</th>\n",
       "      <td>107.0</td>\n",
       "      <td>31.0</td>\n",
       "      <td>45.0</td>\n",
       "      <td>-8.0</td>\n",
       "      <td>13.0</td>\n",
       "      <td>28.0</td>\n",
       "      <td>150.0</td>\n",
       "      <td>75.0</td>\n",
       "      <td>3.0</td>\n",
       "    </tr>\n",
       "    <tr>\n",
       "      <th>2</th>\n",
       "      <td>105.0</td>\n",
       "      <td>36.0</td>\n",
       "      <td>63.0</td>\n",
       "      <td>-9.0</td>\n",
       "      <td>13.0</td>\n",
       "      <td>67.0</td>\n",
       "      <td>245.0</td>\n",
       "      <td>11.0</td>\n",
       "      <td>3.0</td>\n",
       "    </tr>\n",
       "    <tr>\n",
       "      <th>3</th>\n",
       "      <td>170.0</td>\n",
       "      <td>28.0</td>\n",
       "      <td>47.0</td>\n",
       "      <td>-16.0</td>\n",
       "      <td>13.0</td>\n",
       "      <td>33.0</td>\n",
       "      <td>232.0</td>\n",
       "      <td>25.0</td>\n",
       "      <td>3.0</td>\n",
       "    </tr>\n",
       "    <tr>\n",
       "      <th>4</th>\n",
       "      <td>121.0</td>\n",
       "      <td>47.0</td>\n",
       "      <td>56.0</td>\n",
       "      <td>-8.0</td>\n",
       "      <td>15.0</td>\n",
       "      <td>40.0</td>\n",
       "      <td>193.0</td>\n",
       "      <td>45.0</td>\n",
       "      <td>3.0</td>\n",
       "    </tr>\n",
       "    <tr>\n",
       "      <th>5</th>\n",
       "      <td>110.0</td>\n",
       "      <td>56.0</td>\n",
       "      <td>71.0</td>\n",
       "      <td>-7.0</td>\n",
       "      <td>12.0</td>\n",
       "      <td>23.0</td>\n",
       "      <td>223.0</td>\n",
       "      <td>15.0</td>\n",
       "      <td>6.0</td>\n",
       "    </tr>\n",
       "  </tbody>\n",
       "</table>\n",
       "</div>"
      ],
      "text/plain": [
       "     bpm  nrgy  dnce    dB  live   val    dur  acous  spch\n",
       "0  107.0  31.0  45.0  -8.0  13.0  28.0  150.0   75.0   3.0\n",
       "2  105.0  36.0  63.0  -9.0  13.0  67.0  245.0   11.0   3.0\n",
       "3  170.0  28.0  47.0 -16.0  13.0  33.0  232.0   25.0   3.0\n",
       "4  121.0  47.0  56.0  -8.0  15.0  40.0  193.0   45.0   3.0\n",
       "5  110.0  56.0  71.0  -7.0  12.0  23.0  223.0   15.0   6.0"
      ]
     },
     "execution_count": 35,
     "metadata": {},
     "output_type": "execute_result"
    }
   ],
   "source": [
    "## Now use this trained Imputer to transform the training set by replacing missing values with the median values\n",
    "\n",
    "X = imputer.transform(spotify_num)\n",
    "\n",
    "## Put back into a pandas Dataframe rather than a plain numpy array\n",
    "\n",
    "spotify_tr = pd.DataFrame(X, columns=spotify_num.columns, index=spotify_num.index)\n",
    "spotify_tr.head()"
   ]
  },
  {
   "cell_type": "markdown",
   "metadata": {},
   "source": [
    "# 8. Feature Scaling and Transformation Pipelines"
   ]
  },
  {
   "cell_type": "markdown",
   "metadata": {},
   "source": [
    "Feature scaling is one of the most important transformations that needs to be applied before any ML model can be used. For example, in our dataset, the attribute \"dur\" ranges from 98 to 511, whereas \"spch\" only ranges from 2 to 47. Therefore, if we don't scale these values it will be virtually impossible to model correctly. In addition, we decided to use standardization rather than normalization as it is much less affected by outliers."
   ]
  },
  {
   "cell_type": "code",
   "execution_count": 36,
   "metadata": {},
   "outputs": [
    {
     "data": {
      "text/plain": [
       "array([[-0.45041131, -1.33720054, -0.96059443, ..., -1.23538642,\n",
       "         1.46370559, -0.48000348],\n",
       "       [-0.52994373, -1.11059146,  0.20921195, ...,  0.26411561,\n",
       "        -0.72459281, -0.48000348],\n",
       "       [ 2.05485975, -1.47316599, -0.83061595, ...,  0.05892059,\n",
       "        -0.24590254, -0.48000348],\n",
       "       ...,\n",
       "       [ 1.97532734, -0.24947694,  0.85910438, ...,  0.95862181,\n",
       "        -0.31428686,  1.49662625],\n",
       "       [ 1.85602871,  1.20082119,  0.27420119, ..., -0.58823291,\n",
       "        -0.92974579,  0.41846458],\n",
       "       [-0.52994373,  0.56631576,  0.53415817, ...,  0.83234795,\n",
       "        -0.72459281, -0.6596971 ]])"
      ]
     },
     "execution_count": 36,
     "metadata": {},
     "output_type": "execute_result"
    }
   ],
   "source": [
    "\"\"\"\n",
    "            Feature Scaling - Using the standardization method\n",
    "\n",
    "\"\"\"\n",
    "\n",
    "from sklearn.pipeline import Pipeline\n",
    "from sklearn.preprocessing import StandardScaler #Standardizing features by removing the mean and scaling to unit variance \n",
    "\n",
    "num_pipeline = Pipeline([\n",
    "    ('imputer', SimpleImputer(strategy='median')), # The pipeline carries this method out first\n",
    "    ('std_scaler', StandardScaler()),              # and then moves onto this method of scaling\n",
    "])\n",
    "\n",
    "spotify_prepared = num_pipeline.fit_transform(spotify_num)\n",
    "spotify_prepared"
   ]
  },
  {
   "cell_type": "markdown",
   "metadata": {},
   "source": [
    "# 9. Training and Evaluating on the Training Set"
   ]
  },
  {
   "cell_type": "markdown",
   "metadata": {},
   "source": [
    "# 9.1 Linear Regression"
   ]
  },
  {
   "cell_type": "markdown",
   "metadata": {},
   "source": [
    "Linear regression is the simplest method of regression and involves a linear approach to determing the relationship between an independent variable, x, and a dependent variable, y. With respect to our data, we are using a multi-variate linear regression model as we have more than one independent variable. We decided to use this simple model to start us off for two reasons: \n",
    "\n",
    "1. To make sure our code was working and that our training data was able to be fitted to this model\n",
    "2. To determine a baseline of the root mean squared error (RMSE) and to use more complex models to lower this error to achieve more accurate predictions."
   ]
  },
  {
   "cell_type": "code",
   "execution_count": 37,
   "metadata": {},
   "outputs": [
    {
     "data": {
      "text/plain": [
       "LinearRegression(copy_X=True, fit_intercept=True, n_jobs=None, normalize=False)"
      ]
     },
     "execution_count": 37,
     "metadata": {},
     "output_type": "execute_result"
    }
   ],
   "source": [
    "from sklearn.linear_model import LinearRegression\n",
    "\n",
    "lin_reg = LinearRegression()\n",
    "lin_reg.fit(spotify_prepared, spotify_labels)"
   ]
  },
  {
   "cell_type": "code",
   "execution_count": 38,
   "metadata": {},
   "outputs": [],
   "source": [
    "# Making predictions on the training data\n",
    "\n",
    "lin_predict = lin_reg.predict(spotify_prepared)"
   ]
  },
  {
   "cell_type": "code",
   "execution_count": 39,
   "metadata": {},
   "outputs": [
    {
     "data": {
      "text/html": [
       "<div>\n",
       "<style scoped>\n",
       "    .dataframe tbody tr th:only-of-type {\n",
       "        vertical-align: middle;\n",
       "    }\n",
       "\n",
       "    .dataframe tbody tr th {\n",
       "        vertical-align: top;\n",
       "    }\n",
       "\n",
       "    .dataframe thead th {\n",
       "        text-align: right;\n",
       "    }\n",
       "</style>\n",
       "<table border=\"1\" class=\"dataframe\">\n",
       "  <thead>\n",
       "    <tr style=\"text-align: right;\">\n",
       "      <th></th>\n",
       "      <th>Actual</th>\n",
       "      <th>Predicted</th>\n",
       "    </tr>\n",
       "  </thead>\n",
       "  <tbody>\n",
       "    <tr>\n",
       "      <th>0</th>\n",
       "      <td>44</td>\n",
       "      <td>55.039778</td>\n",
       "    </tr>\n",
       "    <tr>\n",
       "      <th>2</th>\n",
       "      <td>77</td>\n",
       "      <td>66.897170</td>\n",
       "    </tr>\n",
       "    <tr>\n",
       "      <th>3</th>\n",
       "      <td>67</td>\n",
       "      <td>60.281515</td>\n",
       "    </tr>\n",
       "    <tr>\n",
       "      <th>4</th>\n",
       "      <td>63</td>\n",
       "      <td>60.734816</td>\n",
       "    </tr>\n",
       "    <tr>\n",
       "      <th>5</th>\n",
       "      <td>74</td>\n",
       "      <td>69.947572</td>\n",
       "    </tr>\n",
       "  </tbody>\n",
       "</table>\n",
       "</div>"
      ],
      "text/plain": [
       "   Actual  Predicted\n",
       "0      44  55.039778\n",
       "2      77  66.897170\n",
       "3      67  60.281515\n",
       "4      63  60.734816\n",
       "5      74  69.947572"
      ]
     },
     "execution_count": 39,
     "metadata": {},
     "output_type": "execute_result"
    }
   ],
   "source": [
    "# Showing actual popularity scores vs predicted popularity scores from the linear regression model\n",
    "\n",
    "lin_res = pd.DataFrame({'Actual' : spotify_labels, 'Predicted' : lin_predict}) \n",
    "lin_res.head() # Show the first 5 results for comparison"
   ]
  },
  {
   "cell_type": "code",
   "execution_count": 40,
   "metadata": {},
   "outputs": [
    {
     "name": "stdout",
     "output_type": "stream",
     "text": [
      "RMSE: 10.71216796545899\n",
      "r^2: 0.2935358426567184\n"
     ]
    }
   ],
   "source": [
    "\"\"\"\n",
    "        Evaluating the Linear Regression Model\n",
    "\"\"\"\n",
    "\n",
    "from sklearn.metrics import mean_squared_error, r2_score\n",
    "\n",
    "lin_predict = lin_reg.predict(spotify_prepared)\n",
    "lin_mse = mean_squared_error(spotify_labels, lin_predict)\n",
    "lin_rmse = np.sqrt(lin_mse)\n",
    "lin_r2 = r2_score(spotify_labels, lin_predict)\n",
    "\n",
    "# Prints the Root Mean Squared Error (RMSE)\n",
    "print('RMSE:', lin_rmse) \n",
    "\n",
    "# Prints the Coefficient of Determination (r^2)\n",
    "print('r^2:', lin_r2) "
   ]
  },
  {
   "cell_type": "markdown",
   "metadata": {},
   "source": [
    "The RMSE and the r^2 scores were calculated using the metrics function. Although this is not a definitive sign of an accurate model, it is good to calculate them anyway to get a rough idea of how well each method will perform later during testing. The closer to 1 the r^2 score is and the lower the RMSE, the better the model. An RMSE score of 10.71 is an indication that our linear regression model is underfitting the training data. However, due to the lack of training data, the only viable solution would be to chose a better, more complex ML model."
   ]
  },
  {
   "cell_type": "code",
   "execution_count": 41,
   "metadata": {},
   "outputs": [],
   "source": [
    "\"\"\"\n",
    "        Better Validation using Cross-Validation\n",
    "\"\"\"\n",
    "\n",
    "from sklearn.model_selection import cross_val_score\n",
    "lin_scores = cross_val_score(lin_reg, spotify_prepared, spotify_labels, scoring='neg_mean_squared_error', cv=10)\n",
    "lin_reg_scores = np.sqrt(-lin_scores) \n",
    "lin_reg_scores = lin_reg_scores.mean()"
   ]
  },
  {
   "cell_type": "code",
   "execution_count": 42,
   "metadata": {},
   "outputs": [],
   "source": [
    "def display_scores(lin_scores):\n",
    "    \n",
    "    print(\"Scores:\", lin_scores)\n",
    "    print(\"Mean:\", lin_scores.mean())\n",
    "    print(\"Standard Deviation:\", lin_scores.std())"
   ]
  },
  {
   "cell_type": "code",
   "execution_count": 43,
   "metadata": {},
   "outputs": [
    {
     "name": "stdout",
     "output_type": "stream",
     "text": [
      "Scores: 10.901977590121495\n",
      "Mean: 10.901977590121495\n",
      "Standard Deviation: 0.0\n"
     ]
    }
   ],
   "source": [
    "display_scores(lin_reg_scores)"
   ]
  },
  {
   "cell_type": "markdown",
   "metadata": {},
   "source": [
    "The linear model illustrates consistency which is confirmed by the cross-validation RMSE score of 10.90, which is relatively close to our initial score of 10.71. However, it shows that the model is still underfitting."
   ]
  },
  {
   "cell_type": "markdown",
   "metadata": {},
   "source": [
    "# 9.2 Random Forest Regression"
   ]
  },
  {
   "cell_type": "markdown",
   "metadata": {},
   "source": [
    "Random forests are an example of an ensemble learning technique. This entails the use of multiple learning methods to achieve better predictive performance. A random forest is conctructed by many decision trees and, for regression purposes, outputs the mean prediction of each individual tree. The advantage of using random forest regression is that it generates accurate results for extremely small datasets, like ours. Furthermore, the computational cost of running random forests is relatively low compared to the majority of other complex ML models. "
   ]
  },
  {
   "cell_type": "code",
   "execution_count": 44,
   "metadata": {},
   "outputs": [
    {
     "name": "stderr",
     "output_type": "stream",
     "text": [
      "C:\\Users\\Stewart\\Anaconda3\\lib\\site-packages\\sklearn\\ensemble\\forest.py:245: FutureWarning: The default value of n_estimators will change from 10 in version 0.20 to 100 in 0.22.\n",
      "  \"10 in version 0.20 to 100 in 0.22.\", FutureWarning)\n"
     ]
    },
    {
     "data": {
      "text/plain": [
       "RandomForestRegressor(bootstrap=True, criterion='mse', max_depth=None,\n",
       "                      max_features='auto', max_leaf_nodes=None,\n",
       "                      min_impurity_decrease=0.0, min_impurity_split=None,\n",
       "                      min_samples_leaf=1, min_samples_split=2,\n",
       "                      min_weight_fraction_leaf=0.0, n_estimators=10,\n",
       "                      n_jobs=None, oob_score=False, random_state=None,\n",
       "                      verbose=0, warm_start=False)"
      ]
     },
     "execution_count": 44,
     "metadata": {},
     "output_type": "execute_result"
    }
   ],
   "source": [
    "from sklearn.ensemble import RandomForestRegressor\n",
    "\n",
    "forest_reg = RandomForestRegressor()\n",
    "forest_reg.fit(spotify_prepared, spotify_labels)"
   ]
  },
  {
   "cell_type": "code",
   "execution_count": 45,
   "metadata": {},
   "outputs": [],
   "source": [
    "# Making predictions on the training data\n",
    "\n",
    "forest_predict = forest_reg.predict(spotify_prepared)"
   ]
  },
  {
   "cell_type": "code",
   "execution_count": 46,
   "metadata": {},
   "outputs": [
    {
     "data": {
      "text/html": [
       "<div>\n",
       "<style scoped>\n",
       "    .dataframe tbody tr th:only-of-type {\n",
       "        vertical-align: middle;\n",
       "    }\n",
       "\n",
       "    .dataframe tbody tr th {\n",
       "        vertical-align: top;\n",
       "    }\n",
       "\n",
       "    .dataframe thead th {\n",
       "        text-align: right;\n",
       "    }\n",
       "</style>\n",
       "<table border=\"1\" class=\"dataframe\">\n",
       "  <thead>\n",
       "    <tr style=\"text-align: right;\">\n",
       "      <th></th>\n",
       "      <th>Actual</th>\n",
       "      <th>Predicted</th>\n",
       "    </tr>\n",
       "  </thead>\n",
       "  <tbody>\n",
       "    <tr>\n",
       "      <th>0</th>\n",
       "      <td>44</td>\n",
       "      <td>46.6</td>\n",
       "    </tr>\n",
       "    <tr>\n",
       "      <th>2</th>\n",
       "      <td>77</td>\n",
       "      <td>76.0</td>\n",
       "    </tr>\n",
       "    <tr>\n",
       "      <th>3</th>\n",
       "      <td>67</td>\n",
       "      <td>67.3</td>\n",
       "    </tr>\n",
       "    <tr>\n",
       "      <th>4</th>\n",
       "      <td>63</td>\n",
       "      <td>66.1</td>\n",
       "    </tr>\n",
       "    <tr>\n",
       "      <th>5</th>\n",
       "      <td>74</td>\n",
       "      <td>69.2</td>\n",
       "    </tr>\n",
       "  </tbody>\n",
       "</table>\n",
       "</div>"
      ],
      "text/plain": [
       "   Actual  Predicted\n",
       "0      44       46.6\n",
       "2      77       76.0\n",
       "3      67       67.3\n",
       "4      63       66.1\n",
       "5      74       69.2"
      ]
     },
     "execution_count": 46,
     "metadata": {},
     "output_type": "execute_result"
    }
   ],
   "source": [
    "# Showing actual popularity scores vs predicted popularity scores from the random forest regression model\n",
    "\n",
    "forest_res = pd.DataFrame({'Actual' : spotify_labels, 'Predicted' : forest_predict}) \n",
    "forest_res.head() # Show the first 5 results for comparison"
   ]
  },
  {
   "cell_type": "code",
   "execution_count": 47,
   "metadata": {},
   "outputs": [
    {
     "name": "stdout",
     "output_type": "stream",
     "text": [
      "RMSE: 4.793710205492879\n",
      "r^2: 0.8585252492979709\n"
     ]
    }
   ],
   "source": [
    "\"\"\"\n",
    "        Evaluating the Random Forest Regression Model\n",
    "\"\"\"\n",
    "\n",
    "from sklearn.metrics import mean_squared_error, r2_score\n",
    "\n",
    "forest_predict = forest_reg.predict(spotify_prepared)\n",
    "forest_mse = mean_squared_error(spotify_labels, forest_predict)\n",
    "forest_rmse = np.sqrt(forest_mse)\n",
    "forest_r2 = r2_score(spotify_labels, forest_predict)\n",
    "\n",
    "# Prints the Root Mean Squared Error (RMSE)\n",
    "print('RMSE:', forest_rmse) \n",
    "\n",
    "# Prints the Coefficient of Determination (r^2)\n",
    "print('r^2:', forest_r2) "
   ]
  },
  {
   "cell_type": "markdown",
   "metadata": {},
   "source": [
    "The RMSE and r^2 scores of 4.79 and 0.86 respectively, are more accurate than the scores we collected from the linear regression model of 10.71 and 0.29. This might seem great at first, however, we will need to use cross-validation to make sure these results are what they seem before launching this model onto the test data."
   ]
  },
  {
   "cell_type": "code",
   "execution_count": 48,
   "metadata": {},
   "outputs": [],
   "source": [
    "\"\"\"\n",
    "        Better Validation using Cross-Validation\n",
    "\"\"\"\n",
    "\n",
    "from sklearn.model_selection import cross_val_score\n",
    "forest_scores = cross_val_score(forest_reg, spotify_prepared, spotify_labels, scoring='neg_mean_squared_error', cv=10)\n",
    "forest_reg_scores = np.sqrt(-forest_scores) \n",
    "forest_reg_scores = forest_reg_scores.mean()"
   ]
  },
  {
   "cell_type": "code",
   "execution_count": 49,
   "metadata": {},
   "outputs": [],
   "source": [
    "def display_scores(forest_scores):\n",
    "    \n",
    "    print(\"Scores:\", forest_scores)\n",
    "    print(\"Mean:\", forest_scores.mean())\n",
    "    print(\"Standard Deviation:\", forest_scores.std())"
   ]
  },
  {
   "cell_type": "code",
   "execution_count": 50,
   "metadata": {},
   "outputs": [
    {
     "name": "stdout",
     "output_type": "stream",
     "text": [
      "Scores: 11.38897182519678\n",
      "Mean: 11.38897182519678\n",
      "Standard Deviation: 0.0\n"
     ]
    }
   ],
   "source": [
    "display_scores(forest_reg_scores)"
   ]
  },
  {
   "cell_type": "markdown",
   "metadata": {},
   "source": [
    "Just as we mentioned, the RMSE score wasn't as good as it seemed. By using cross-validation, we are now recieving a score of 11.39. The reason our RMSE was so low before was due to overfitting. Therefore, as we cannot add in anymore training data, we will use randomized search cross-validation to tweak the hyperparameters and hopefully achieve a more accurate RMSE score."
   ]
  },
  {
   "cell_type": "markdown",
   "metadata": {},
   "source": [
    "# 9.3 Polynomial Regression"
   ]
  },
  {
   "cell_type": "markdown",
   "metadata": {},
   "source": [
    "Polynomial Regression is a form of linear regression in which the relationship between the independent variable, x, and dependent variable, y, is modeled as an nth degree polynomial. Polynomial regression fits a nonlinear relationship between the value of x and the corresponding conditional mean of y, denoted E(y |x). In this report, we have several independant variables. This is part of the reason why a polynomial regression was chosen; as the nature of the data and the task would suggest that there is not a straightforward, linear relationship between the variables. It is hypothesized that the relationship between variables is curvilinear. \n",
    "\n",
    "NB: As the polynomial regression model also uses the linear regression model, we will implement this once more before adding the  appropriate polynomial features to this model."
   ]
  },
  {
   "cell_type": "code",
   "execution_count": 51,
   "metadata": {},
   "outputs": [],
   "source": [
    "# Dropping negative relationships for polynomial regression\n",
    "# axis 1 refers to the columns\n",
    "features = spotify_train_new.drop(['acous', 'val', 'live'], axis = 1) \n",
    "\n",
    "# Convert to numpy array\n",
    "features = np.array(features)"
   ]
  },
  {
   "cell_type": "code",
   "execution_count": 52,
   "metadata": {},
   "outputs": [
    {
     "name": "stdout",
     "output_type": "stream",
     "text": [
      "Features Shape: (438, 6)\n",
      "Labels Shape: (438,)\n"
     ]
    }
   ],
   "source": [
    "#Check the shape of our arrays to make sure we did everything correctly\n",
    "\n",
    "print('Features Shape:', features.shape)\n",
    "print('Labels Shape:', spotify_labels.shape)"
   ]
  },
  {
   "cell_type": "code",
   "execution_count": 53,
   "metadata": {},
   "outputs": [],
   "source": [
    "# Fitting Linear Regression to the dataset\n",
    "from sklearn.linear_model import LinearRegression\n",
    "linreg = LinearRegression(normalize = True)\n",
    "\n",
    "linreg.fit(features, spotify_labels)\n",
    "\n",
    "#Predicting on the train features\n",
    "lin_predictions = linreg.predict(features)"
   ]
  },
  {
   "cell_type": "code",
   "execution_count": 54,
   "metadata": {},
   "outputs": [
    {
     "name": "stdout",
     "output_type": "stream",
     "text": [
      "RMSE: 11.33730729776272\n",
      "r^2: 0.20867438872081145\n"
     ]
    }
   ],
   "source": [
    "#R^2 (coefficient of determination) regression score function\n",
    "#Best possible score is 1.0\n",
    "\n",
    "from sklearn.metrics import r2_score, mean_squared_error\n",
    "\n",
    "print('RMSE:', np.sqrt(mean_squared_error(spotify_labels, lin_predictions)))\n",
    "print('r^2:', r2_score(spotify_labels, lin_predictions))"
   ]
  },
  {
   "cell_type": "code",
   "execution_count": 55,
   "metadata": {},
   "outputs": [],
   "source": [
    "# Fitting Polynomial Regression to the dataset\n",
    "from sklearn.preprocessing import PolynomialFeatures\n",
    "\n",
    "#To generate polynomial features (here 2nd degree polynomial)\n",
    "polynomial_features = PolynomialFeatures(degree=2)\n",
    "\n",
    "# transforms the existing features to higher degree features.\n",
    "x_poly = polynomial_features.fit_transform(features)\n",
    "\n",
    "# fit the transformed features to Linear Regression\n",
    "model = LinearRegression(normalize = True)\n",
    "model.fit(x_poly, spotify_labels)\n",
    "\n",
    "# predicting on training data\n",
    "y_poly_pred = model.predict(x_poly)"
   ]
  },
  {
   "cell_type": "markdown",
   "metadata": {},
   "source": [
    "For this model a 2nd degree polynomial was chosen. This takes our feature variables and squares them, creating a quadratic term, and turns a linear regression model into a curve. This allows for a better fit, which can capture more data, and thus improve our outcome predictions."
   ]
  },
  {
   "cell_type": "code",
   "execution_count": 56,
   "metadata": {},
   "outputs": [],
   "source": [
    "poly_rmse = np.sqrt(mean_squared_error(spotify_labels, y_poly_pred))\n",
    "poly_r2 = r2_score(spotify_labels, y_poly_pred)"
   ]
  },
  {
   "cell_type": "code",
   "execution_count": 57,
   "metadata": {},
   "outputs": [
    {
     "name": "stdout",
     "output_type": "stream",
     "text": [
      "RMSE of polynomial regression: 10.389146294599648\n",
      "r^2 using polynomial regression: 0.3354998109181241\n"
     ]
    }
   ],
   "source": [
    "#Getting the RMSE and r^2 score for the polynomial model\n",
    "\n",
    "print('RMSE of polynomial regression:', np.sqrt(mean_squared_error(spotify_labels, y_poly_pred)))\n",
    "print('r^2 using polynomial regression:', r2_score(spotify_labels, y_poly_pred))"
   ]
  },
  {
   "cell_type": "code",
   "execution_count": 58,
   "metadata": {},
   "outputs": [
    {
     "data": {
      "text/html": [
       "<div>\n",
       "<style scoped>\n",
       "    .dataframe tbody tr th:only-of-type {\n",
       "        vertical-align: middle;\n",
       "    }\n",
       "\n",
       "    .dataframe tbody tr th {\n",
       "        vertical-align: top;\n",
       "    }\n",
       "\n",
       "    .dataframe thead th {\n",
       "        text-align: right;\n",
       "    }\n",
       "</style>\n",
       "<table border=\"1\" class=\"dataframe\">\n",
       "  <thead>\n",
       "    <tr style=\"text-align: right;\">\n",
       "      <th></th>\n",
       "      <th>Actual</th>\n",
       "      <th>Predicted</th>\n",
       "    </tr>\n",
       "  </thead>\n",
       "  <tbody>\n",
       "    <tr>\n",
       "      <th>0</th>\n",
       "      <td>44</td>\n",
       "      <td>44.0</td>\n",
       "    </tr>\n",
       "    <tr>\n",
       "      <th>2</th>\n",
       "      <td>77</td>\n",
       "      <td>62.0</td>\n",
       "    </tr>\n",
       "    <tr>\n",
       "      <th>3</th>\n",
       "      <td>67</td>\n",
       "      <td>56.0</td>\n",
       "    </tr>\n",
       "    <tr>\n",
       "      <th>4</th>\n",
       "      <td>63</td>\n",
       "      <td>58.0</td>\n",
       "    </tr>\n",
       "    <tr>\n",
       "      <th>5</th>\n",
       "      <td>74</td>\n",
       "      <td>66.0</td>\n",
       "    </tr>\n",
       "  </tbody>\n",
       "</table>\n",
       "</div>"
      ],
      "text/plain": [
       "   Actual  Predicted\n",
       "0      44       44.0\n",
       "2      77       62.0\n",
       "3      67       56.0\n",
       "4      63       58.0\n",
       "5      74       66.0"
      ]
     },
     "execution_count": 58,
     "metadata": {},
     "output_type": "execute_result"
    }
   ],
   "source": [
    "# Showing actual popularity scores vs predicted popularity scores from the polynomial regression model\n",
    "\n",
    "poly_res = pd.DataFrame({'Actual' : spotify_labels, 'Predicted' : y_poly_pred}) \n",
    "poly_res.head() # Show the first 5 results for comparison"
   ]
  },
  {
   "cell_type": "markdown",
   "metadata": {},
   "source": [
    "As can be seen, the r²-score has increased and the RMSE has decreased compared to the linear model above.\n",
    "\n",
    "When a 3rd degree polynomial was used, it further improved the r²-score and reduced RMSE, however, when the model was tested using the test data, the results showed negative values, highlighting that a 3rd degree polynomial was not the optimal term for this data set. This is most likely due to over-fitting occurring. This is where the model is also capturing the noise in the data. Even though this model passes through most of the data, it will fail to generalize on unseen (test) data."
   ]
  },
  {
   "cell_type": "code",
   "execution_count": 59,
   "metadata": {},
   "outputs": [],
   "source": [
    "\"\"\"\n",
    "        Better Validation using Cross-Validation\n",
    "\"\"\"\n",
    "\n",
    "from sklearn.model_selection import cross_val_score\n",
    "\n",
    "pr_scores = cross_val_score(model, x_poly, spotify_labels, scoring = 'neg_mean_squared_error', cv=10)\n",
    "pr_reg_scores = np.sqrt(-pr_scores)\n",
    "pr_reg_scores = pr_reg_scores.mean()"
   ]
  },
  {
   "cell_type": "code",
   "execution_count": 60,
   "metadata": {},
   "outputs": [],
   "source": [
    "def display_scores(pr_scores):\n",
    "    print('Scores:', pr_scores)\n",
    "    print('Mean:', pr_scores.mean())\n",
    "    print('Standard Deviation:', pr_scores.std())"
   ]
  },
  {
   "cell_type": "code",
   "execution_count": 61,
   "metadata": {},
   "outputs": [
    {
     "name": "stdout",
     "output_type": "stream",
     "text": [
      "Scores: 11.524016119807529\n",
      "Mean: 11.524016119807529\n",
      "Standard Deviation: 0.0\n"
     ]
    }
   ],
   "source": [
    "display_scores(pr_reg_scores)"
   ]
  },
  {
   "cell_type": "markdown",
   "metadata": {},
   "source": [
    "We can see from the cross-validation results that our polynomial regression models RMSE is close to that of the mean determined from the cross validation. This tells us that our model is not over fitting and should perform quite well on the test data."
   ]
  },
  {
   "cell_type": "markdown",
   "metadata": {},
   "source": [
    "# 9.4 Support Vector Machine (SVM) Regression"
   ]
  },
  {
   "cell_type": "markdown",
   "metadata": {},
   "source": [
    "Another method chosen was the use of Support Vector Machines. The main reason for choosing this method is that it is applied in a variety of applications and it is known for its kernel trick to handle nonlinear input spaces. Since polynomial regression was used previously it would be a good contrast to see how a model that can deal with different input spaces deals with the given data. Another advantage of utilising a SVM for this data is that SVM is not suitable for large datasets because of its high training time, but since the data set is so small, it should be able to cope with it."
   ]
  },
  {
   "cell_type": "code",
   "execution_count": 62,
   "metadata": {},
   "outputs": [
    {
     "data": {
      "text/plain": [
       "SVR(C=100, cache_size=200, coef0=1, degree=3, epsilon=0.1, gamma='auto',\n",
       "    kernel='poly', max_iter=-1, shrinking=True, tol=0.001, verbose=False)"
      ]
     },
     "execution_count": 62,
     "metadata": {},
     "output_type": "execute_result"
    }
   ],
   "source": [
    "from sklearn.svm import SVR\n",
    "\n",
    "#Generate different machines with different kernels\n",
    "svr_rbf = SVR(kernel='rbf', C=100, gamma=0.1, epsilon=.1)\n",
    "svr_lin = SVR(kernel='linear', C=100, gamma='auto')\n",
    "svr_poly = SVR(kernel='poly', C=100, gamma='auto', degree=3, epsilon=.1,\n",
    "               coef0=1)\n",
    "\n",
    "#Fitting our model on train data\n",
    "svr_rbf.fit(spotify_prepared, spotify_labels)\n",
    "svr_lin.fit(spotify_prepared, spotify_labels)\n",
    "svr_poly.fit(spotify_prepared, spotify_labels)"
   ]
  },
  {
   "cell_type": "code",
   "execution_count": 63,
   "metadata": {},
   "outputs": [],
   "source": [
    "#Making predictions on train features\n",
    "\n",
    "rbf_predictions = svr_rbf.predict(spotify_prepared)\n",
    "lin_predictions = svr_lin.predict(spotify_prepared)\n",
    "poly_predictions = svr_poly.predict(spotify_prepared)"
   ]
  },
  {
   "cell_type": "code",
   "execution_count": 64,
   "metadata": {},
   "outputs": [],
   "source": [
    "# Assigning variables to the RBF kernel SVM which we will be using\n",
    "\n",
    "rbf_rmse = np.sqrt(mean_squared_error(spotify_labels, rbf_predictions))\n",
    "rbf_r2 = r2_score(spotify_labels, rbf_predictions)"
   ]
  },
  {
   "cell_type": "code",
   "execution_count": 65,
   "metadata": {},
   "outputs": [
    {
     "name": "stdout",
     "output_type": "stream",
     "text": [
      "RMSE: 6.976359371568984\n",
      "RMSE: 10.847085173432509\n",
      "RMSE: 8.246613859204627\n"
     ]
    }
   ],
   "source": [
    "#Printing RMSE for each kernel\n",
    "\n",
    "print('RMSE:', np.sqrt(mean_squared_error(spotify_labels, rbf_predictions)))\n",
    "print('RMSE:', np.sqrt(mean_squared_error(spotify_labels, lin_predictions)))\n",
    "print('RMSE:', np.sqrt(mean_squared_error(spotify_labels, poly_predictions)))"
   ]
  },
  {
   "cell_type": "code",
   "execution_count": 66,
   "metadata": {},
   "outputs": [
    {
     "name": "stdout",
     "output_type": "stream",
     "text": [
      "r^2 SVR score with RBF kernel: 0.7003646327950135\n",
      "r^2 SVR score with Linear kernel: 0.27562828153303665\n",
      "r^2 SVR score with Poly kernel: 0.5813156725268696\n"
     ]
    }
   ],
   "source": [
    "#Printing r^2 Scores for each kernel\n",
    "\n",
    "print('r^2 SVR score with RBF kernel:', r2_score(spotify_labels, rbf_predictions))\n",
    "print('r^2 SVR score with Linear kernel:', r2_score(spotify_labels, lin_predictions))\n",
    "print('r^2 SVR score with Poly kernel:', r2_score(spotify_labels, poly_predictions))"
   ]
  },
  {
   "cell_type": "code",
   "execution_count": 67,
   "metadata": {},
   "outputs": [],
   "source": [
    "#Showing actual vs predicted of each kernel on trained data\n",
    "\n",
    "rbf_res = pd.DataFrame({'Actual': spotify_labels, 'Predicted': rbf_predictions})\n",
    "lin_res = pd.DataFrame({'Actual': spotify_labels, 'Predicted': lin_predictions})\n",
    "poly_res = pd.DataFrame({'Actual': spotify_labels, 'Predicted': poly_predictions})"
   ]
  },
  {
   "cell_type": "code",
   "execution_count": 68,
   "metadata": {},
   "outputs": [
    {
     "data": {
      "text/html": [
       "<div>\n",
       "<style scoped>\n",
       "    .dataframe tbody tr th:only-of-type {\n",
       "        vertical-align: middle;\n",
       "    }\n",
       "\n",
       "    .dataframe tbody tr th {\n",
       "        vertical-align: top;\n",
       "    }\n",
       "\n",
       "    .dataframe thead th {\n",
       "        text-align: right;\n",
       "    }\n",
       "</style>\n",
       "<table border=\"1\" class=\"dataframe\">\n",
       "  <thead>\n",
       "    <tr style=\"text-align: right;\">\n",
       "      <th></th>\n",
       "      <th>Actual</th>\n",
       "      <th>Predicted</th>\n",
       "    </tr>\n",
       "  </thead>\n",
       "  <tbody>\n",
       "    <tr>\n",
       "      <th>0</th>\n",
       "      <td>44</td>\n",
       "      <td>48.803170</td>\n",
       "    </tr>\n",
       "    <tr>\n",
       "      <th>2</th>\n",
       "      <td>77</td>\n",
       "      <td>72.019807</td>\n",
       "    </tr>\n",
       "    <tr>\n",
       "      <th>3</th>\n",
       "      <td>67</td>\n",
       "      <td>66.899987</td>\n",
       "    </tr>\n",
       "    <tr>\n",
       "      <th>4</th>\n",
       "      <td>63</td>\n",
       "      <td>59.074117</td>\n",
       "    </tr>\n",
       "    <tr>\n",
       "      <th>5</th>\n",
       "      <td>74</td>\n",
       "      <td>73.899759</td>\n",
       "    </tr>\n",
       "  </tbody>\n",
       "</table>\n",
       "</div>"
      ],
      "text/plain": [
       "   Actual  Predicted\n",
       "0      44  48.803170\n",
       "2      77  72.019807\n",
       "3      67  66.899987\n",
       "4      63  59.074117\n",
       "5      74  73.899759"
      ]
     },
     "execution_count": 68,
     "metadata": {},
     "output_type": "execute_result"
    }
   ],
   "source": [
    "rbf_res.head() # Radial basis function (rbf) kernel svm"
   ]
  },
  {
   "cell_type": "code",
   "execution_count": 69,
   "metadata": {},
   "outputs": [
    {
     "data": {
      "text/html": [
       "<div>\n",
       "<style scoped>\n",
       "    .dataframe tbody tr th:only-of-type {\n",
       "        vertical-align: middle;\n",
       "    }\n",
       "\n",
       "    .dataframe tbody tr th {\n",
       "        vertical-align: top;\n",
       "    }\n",
       "\n",
       "    .dataframe thead th {\n",
       "        text-align: right;\n",
       "    }\n",
       "</style>\n",
       "<table border=\"1\" class=\"dataframe\">\n",
       "  <thead>\n",
       "    <tr style=\"text-align: right;\">\n",
       "      <th></th>\n",
       "      <th>Actual</th>\n",
       "      <th>Predicted</th>\n",
       "    </tr>\n",
       "  </thead>\n",
       "  <tbody>\n",
       "    <tr>\n",
       "      <th>0</th>\n",
       "      <td>44</td>\n",
       "      <td>55.647353</td>\n",
       "    </tr>\n",
       "    <tr>\n",
       "      <th>2</th>\n",
       "      <td>77</td>\n",
       "      <td>68.360616</td>\n",
       "    </tr>\n",
       "    <tr>\n",
       "      <th>3</th>\n",
       "      <td>67</td>\n",
       "      <td>60.573412</td>\n",
       "    </tr>\n",
       "    <tr>\n",
       "      <th>4</th>\n",
       "      <td>63</td>\n",
       "      <td>61.625908</td>\n",
       "    </tr>\n",
       "    <tr>\n",
       "      <th>5</th>\n",
       "      <td>74</td>\n",
       "      <td>72.772967</td>\n",
       "    </tr>\n",
       "  </tbody>\n",
       "</table>\n",
       "</div>"
      ],
      "text/plain": [
       "   Actual  Predicted\n",
       "0      44  55.647353\n",
       "2      77  68.360616\n",
       "3      67  60.573412\n",
       "4      63  61.625908\n",
       "5      74  72.772967"
      ]
     },
     "execution_count": 69,
     "metadata": {},
     "output_type": "execute_result"
    }
   ],
   "source": [
    "lin_res.head() # Linear kernel svm"
   ]
  },
  {
   "cell_type": "code",
   "execution_count": 70,
   "metadata": {},
   "outputs": [
    {
     "data": {
      "text/html": [
       "<div>\n",
       "<style scoped>\n",
       "    .dataframe tbody tr th:only-of-type {\n",
       "        vertical-align: middle;\n",
       "    }\n",
       "\n",
       "    .dataframe tbody tr th {\n",
       "        vertical-align: top;\n",
       "    }\n",
       "\n",
       "    .dataframe thead th {\n",
       "        text-align: right;\n",
       "    }\n",
       "</style>\n",
       "<table border=\"1\" class=\"dataframe\">\n",
       "  <thead>\n",
       "    <tr style=\"text-align: right;\">\n",
       "      <th></th>\n",
       "      <th>Actual</th>\n",
       "      <th>Predicted</th>\n",
       "    </tr>\n",
       "  </thead>\n",
       "  <tbody>\n",
       "    <tr>\n",
       "      <th>0</th>\n",
       "      <td>44</td>\n",
       "      <td>49.859437</td>\n",
       "    </tr>\n",
       "    <tr>\n",
       "      <th>2</th>\n",
       "      <td>77</td>\n",
       "      <td>71.319380</td>\n",
       "    </tr>\n",
       "    <tr>\n",
       "      <th>3</th>\n",
       "      <td>67</td>\n",
       "      <td>67.099632</td>\n",
       "    </tr>\n",
       "    <tr>\n",
       "      <th>4</th>\n",
       "      <td>63</td>\n",
       "      <td>61.710212</td>\n",
       "    </tr>\n",
       "    <tr>\n",
       "      <th>5</th>\n",
       "      <td>74</td>\n",
       "      <td>73.624882</td>\n",
       "    </tr>\n",
       "  </tbody>\n",
       "</table>\n",
       "</div>"
      ],
      "text/plain": [
       "   Actual  Predicted\n",
       "0      44  49.859437\n",
       "2      77  71.319380\n",
       "3      67  67.099632\n",
       "4      63  61.710212\n",
       "5      74  73.624882"
      ]
     },
     "execution_count": 70,
     "metadata": {},
     "output_type": "execute_result"
    }
   ],
   "source": [
    "poly_res.head() # Polynomial kernel svm"
   ]
  },
  {
   "cell_type": "markdown",
   "metadata": {},
   "source": [
    "The scores highlight that the RBF kernel is most likely the best one to use for our data set. The Radial basis function (rbf) kernel is a popular kernel function that can map an input space in infinite dimensional space. The best thing to do after this selection is to identify if our chosen method is actually learning from our data, and not over fitting and memorizing it, as this will lead to poor accuracy when implemented on the test data.\n",
    "\n",
    "To test this the use of K-Fold Cross Validation was used. By using Cross-Validation, we are able to initialise more metrics and draw important conclusion both about our algorithm and our data."
   ]
  },
  {
   "cell_type": "code",
   "execution_count": 71,
   "metadata": {},
   "outputs": [],
   "source": [
    "\"\"\"\n",
    "        Better Validation using Cross-Validation\n",
    "\"\"\"\n",
    "\n",
    "from sklearn.model_selection import cross_val_score\n",
    "\n",
    "#Implementing cross validation with 10 folds\n",
    "rbf_scores = cross_val_score(svr_rbf, spotify_prepared, spotify_labels, scoring = 'neg_mean_squared_error', cv=10)\n",
    "rbf_reg_scores = np.sqrt(-rbf_scores)\n",
    "rbf_reg_scores = rbf_reg_scores.mean()"
   ]
  },
  {
   "cell_type": "code",
   "execution_count": 72,
   "metadata": {},
   "outputs": [],
   "source": [
    "def display_scores(rbf_scores):\n",
    "    print('Scores:', rbf_scores)\n",
    "    print('Mean:', rbf_scores.mean())\n",
    "    print('Standard Deviation:', rbf_scores.std())"
   ]
  },
  {
   "cell_type": "code",
   "execution_count": 73,
   "metadata": {},
   "outputs": [
    {
     "name": "stdout",
     "output_type": "stream",
     "text": [
      "Scores: 11.879536147529672\n",
      "Mean: 11.879536147529672\n",
      "Standard Deviation: 0.0\n"
     ]
    }
   ],
   "source": [
    "display_scores(rbf_reg_scores)"
   ]
  },
  {
   "cell_type": "markdown",
   "metadata": {},
   "source": [
    "The scores gathered from cross validation indicate that our SVM model with the RBF kernel is slightly over fitting when training on our data. To try to reduce this we can tune the paramteres of our model. To do this we can use GridSearchCV."
   ]
  },
  {
   "cell_type": "markdown",
   "metadata": {},
   "source": [
    "# 10. Fine-Tuning Our Machine Learning Models"
   ]
  },
  {
   "cell_type": "markdown",
   "metadata": {},
   "source": [
    "Fine-tuning our models allows us to tweak each models hyperparameters. This could reduce the level of overfitting in our data and lead to more accurate results. For the random forest model, we decided to use randomised search as this model has many hyperparamteres which need to be tweaked. However, for the SVM, we used grid search as there were only three hyperparameters that needed tweaking. It is worth noting that the linear model cannot be fine-tuned as it is a simple model and therefore has no hyperparameters. In addition, we were unable to get the grid search running for the polynomial model."
   ]
  },
  {
   "cell_type": "markdown",
   "metadata": {},
   "source": [
    "# 10.1 Random Forest Regression - Randomised Search"
   ]
  },
  {
   "cell_type": "code",
   "execution_count": 74,
   "metadata": {},
   "outputs": [
    {
     "name": "stdout",
     "output_type": "stream",
     "text": [
      "Current Parameters in Random Forest:\n",
      "\n",
      "{'bootstrap': True,\n",
      " 'criterion': 'mse',\n",
      " 'max_depth': None,\n",
      " 'max_features': 'auto',\n",
      " 'max_leaf_nodes': None,\n",
      " 'min_impurity_decrease': 0.0,\n",
      " 'min_impurity_split': None,\n",
      " 'min_samples_leaf': 1,\n",
      " 'min_samples_split': 2,\n",
      " 'min_weight_fraction_leaf': 0.0,\n",
      " 'n_estimators': 'warn',\n",
      " 'n_jobs': None,\n",
      " 'oob_score': False,\n",
      " 'random_state': 42,\n",
      " 'verbose': 0,\n",
      " 'warm_start': False}\n"
     ]
    }
   ],
   "source": [
    "from sklearn.ensemble import RandomForestRegressor\n",
    "rf = RandomForestRegressor(random_state = 42)\n",
    "from pprint import pprint\n",
    "# Look at parameters used by our current random forest\n",
    "print('Current Parameters in Random Forest:\\n')\n",
    "pprint(rf.get_params())"
   ]
  },
  {
   "cell_type": "code",
   "execution_count": 75,
   "metadata": {},
   "outputs": [
    {
     "name": "stdout",
     "output_type": "stream",
     "text": [
      "{'bootstrap': [True, False],\n",
      " 'max_depth': [5,\n",
      "               15,\n",
      "               25,\n",
      "               35,\n",
      "               45,\n",
      "               55,\n",
      "               65,\n",
      "               75,\n",
      "               85,\n",
      "               95,\n",
      "               106,\n",
      "               116,\n",
      "               126,\n",
      "               136,\n",
      "               146,\n",
      "               156,\n",
      "               166,\n",
      "               176,\n",
      "               186,\n",
      "               196,\n",
      "               207,\n",
      "               217,\n",
      "               227,\n",
      "               237,\n",
      "               247,\n",
      "               257,\n",
      "               267,\n",
      "               277,\n",
      "               287,\n",
      "               297,\n",
      "               308,\n",
      "               318,\n",
      "               328,\n",
      "               338,\n",
      "               348,\n",
      "               358,\n",
      "               368,\n",
      "               378,\n",
      "               388,\n",
      "               398,\n",
      "               409,\n",
      "               419,\n",
      "               429,\n",
      "               439,\n",
      "               449,\n",
      "               459,\n",
      "               469,\n",
      "               479,\n",
      "               489,\n",
      "               500,\n",
      "               None],\n",
      " 'max_features': [1, 2, 3, 4, 5, 6, 7, 8],\n",
      " 'min_samples_leaf': [1, 2, 3, 4, 5, 6],\n",
      " 'min_samples_split': [2, 3, 4, 5, 6, 7],\n",
      " 'n_estimators': [5,\n",
      "                  15,\n",
      "                  25,\n",
      "                  35,\n",
      "                  45,\n",
      "                  55,\n",
      "                  65,\n",
      "                  75,\n",
      "                  85,\n",
      "                  95,\n",
      "                  106,\n",
      "                  116,\n",
      "                  126,\n",
      "                  136,\n",
      "                  146,\n",
      "                  156,\n",
      "                  166,\n",
      "                  176,\n",
      "                  186,\n",
      "                  196,\n",
      "                  207,\n",
      "                  217,\n",
      "                  227,\n",
      "                  237,\n",
      "                  247,\n",
      "                  257,\n",
      "                  267,\n",
      "                  277,\n",
      "                  287,\n",
      "                  297,\n",
      "                  308,\n",
      "                  318,\n",
      "                  328,\n",
      "                  338,\n",
      "                  348,\n",
      "                  358,\n",
      "                  368,\n",
      "                  378,\n",
      "                  388,\n",
      "                  398,\n",
      "                  409,\n",
      "                  419,\n",
      "                  429,\n",
      "                  439,\n",
      "                  449,\n",
      "                  459,\n",
      "                  469,\n",
      "                  479,\n",
      "                  489,\n",
      "                  500]}\n"
     ]
    }
   ],
   "source": [
    "from sklearn.model_selection import RandomizedSearchCV\n",
    "# Number of trees in random forest\n",
    "n_estimators = [int(x) for x in np.linspace(start = 5, stop = 500, num = 50)]\n",
    "# Number of features to consider at every split\n",
    "max_features = [1, 2, 3, 4, 5, 6, 7, 8]\n",
    "# Maximum number of levels in tree\n",
    "max_depth = [int(x) for x in np.linspace(5, 500, num = 50)]\n",
    "max_depth.append(None)\n",
    "# Minimum number of samples required to split a node\n",
    "min_samples_split = [2, 3, 4, 5, 6, 7]\n",
    "# Minimum number of samples required at each leaf node\n",
    "min_samples_leaf = [1, 2, 3, 4, 5, 6]\n",
    "# Method of selecting samples for training each tree\n",
    "bootstrap = [True, False]\n",
    "# Create the random grid\n",
    "random_grid = {'n_estimators': n_estimators,\n",
    "               'max_features': max_features,\n",
    "               'max_depth': max_depth,\n",
    "               'min_samples_split': min_samples_split,\n",
    "               'min_samples_leaf': min_samples_leaf,\n",
    "               'bootstrap': bootstrap}\n",
    "pprint(random_grid)"
   ]
  },
  {
   "cell_type": "code",
   "execution_count": 76,
   "metadata": {},
   "outputs": [
    {
     "name": "stdout",
     "output_type": "stream",
     "text": [
      "Fitting 5 folds for each of 100 candidates, totalling 500 fits\n"
     ]
    },
    {
     "name": "stderr",
     "output_type": "stream",
     "text": [
      "[Parallel(n_jobs=-1)]: Using backend LokyBackend with 4 concurrent workers.\n",
      "[Parallel(n_jobs=-1)]: Done  33 tasks      | elapsed:   10.9s\n",
      "[Parallel(n_jobs=-1)]: Done 154 tasks      | elapsed:   30.4s\n",
      "[Parallel(n_jobs=-1)]: Done 357 tasks      | elapsed:  1.1min\n",
      "[Parallel(n_jobs=-1)]: Done 500 out of 500 | elapsed:  1.8min finished\n",
      "C:\\Users\\Stewart\\Anaconda3\\lib\\site-packages\\sklearn\\model_selection\\_search.py:813: DeprecationWarning: The default of the `iid` parameter will change from True to False in version 0.22 and will be removed in 0.24. This will change numeric results when test-set sizes are unequal.\n",
      "  DeprecationWarning)\n"
     ]
    },
    {
     "data": {
      "text/plain": [
       "RandomizedSearchCV(cv=5, error_score='raise-deprecating',\n",
       "                   estimator=RandomForestRegressor(bootstrap=True,\n",
       "                                                   criterion='mse',\n",
       "                                                   max_depth=None,\n",
       "                                                   max_features='auto',\n",
       "                                                   max_leaf_nodes=None,\n",
       "                                                   min_impurity_decrease=0.0,\n",
       "                                                   min_impurity_split=None,\n",
       "                                                   min_samples_leaf=1,\n",
       "                                                   min_samples_split=2,\n",
       "                                                   min_weight_fraction_leaf=0.0,\n",
       "                                                   n_estimators='warn',\n",
       "                                                   n_jobs=None, oob_score=False,\n",
       "                                                   random_sta...\n",
       "                                                      237, 247, 257, 267, 277,\n",
       "                                                      287, 297, ...],\n",
       "                                        'max_features': [1, 2, 3, 4, 5, 6, 7,\n",
       "                                                         8],\n",
       "                                        'min_samples_leaf': [1, 2, 3, 4, 5, 6],\n",
       "                                        'min_samples_split': [2, 3, 4, 5, 6, 7],\n",
       "                                        'n_estimators': [5, 15, 25, 35, 45, 55,\n",
       "                                                         65, 75, 85, 95, 106,\n",
       "                                                         116, 126, 136, 146,\n",
       "                                                         156, 166, 176, 186,\n",
       "                                                         196, 207, 217, 227,\n",
       "                                                         237, 247, 257, 267,\n",
       "                                                         277, 287, 297, ...]},\n",
       "                   pre_dispatch='2*n_jobs', random_state=42, refit=True,\n",
       "                   return_train_score=False, scoring=None, verbose=2)"
      ]
     },
     "execution_count": 76,
     "metadata": {},
     "output_type": "execute_result"
    }
   ],
   "source": [
    "# Use the random grid to search for best hyperparameters\n",
    "# First create the base model to tune\n",
    "rf = RandomForestRegressor()\n",
    "# Random search of parameters, using 5 fold cross validation, \n",
    "# search across 100 different combinations, and use all available cores\n",
    "rf_random = RandomizedSearchCV(estimator = rf, param_distributions = random_grid, n_iter = 100, cv = 5, verbose=2, random_state=42, n_jobs = -1)\n",
    "# Fit the random search model\n",
    "rf_random.fit(spotify_prepared, spotify_labels)"
   ]
  },
  {
   "cell_type": "code",
   "execution_count": 77,
   "metadata": {},
   "outputs": [
    {
     "data": {
      "text/plain": [
       "{'n_estimators': 378,\n",
       " 'min_samples_split': 7,\n",
       " 'min_samples_leaf': 6,\n",
       " 'max_features': 2,\n",
       " 'max_depth': 469,\n",
       " 'bootstrap': True}"
      ]
     },
     "execution_count": 77,
     "metadata": {},
     "output_type": "execute_result"
    }
   ],
   "source": [
    "rf_random.best_params_ \n",
    "\n",
    "# This gives the best parameters as chosen from the randomized search and we can then manually insert these into the random\n",
    "# forest model"
   ]
  },
  {
   "cell_type": "markdown",
   "metadata": {},
   "source": [
    "The hyperparameters of the randomised search can be defined below as: \n",
    "\n",
    "1. \"n_estimators\" indicates how many decision trees are applied to the random forest. \n",
    "2. \"min_samples_split\" shows the minimum amount of data points that can be placed at a node before that node can be split.\n",
    "3. \"min_samples_leaf\" shows the minimum amount of data points that are allowed at a leaf node.\n",
    "4. \"max_features\" indicates the maximum number of features that can be considered before a node can be split.\n",
    "5. \"max_depth\" shows the maximum number of levels applied to each decision tree in the random forest.\n",
    "6. \"bootstrap\" is a technique for sampling the data points.\n",
    "\n",
    "NB: Due to the randomised search, the values for the hyperparameters above have changed from the optimal values we have implemented into our random forest fine-tuned model."
   ]
  },
  {
   "cell_type": "markdown",
   "metadata": {},
   "source": [
    "# 10.2 Polynomial Regression - Grid Search"
   ]
  },
  {
   "cell_type": "code",
   "execution_count": 78,
   "metadata": {},
   "outputs": [],
   "source": [
    "#from sklearn.model_selection import GridSearchCV\n",
    "\n",
    "#param_grid = {'degree': [1,2,3,4,5]} \n",
    "#poly_grid = GridSearchCV(LinearRegression(), param_grid, cv=10, scoring='neg_mean_squared_error', verbose = 3)"
   ]
  },
  {
   "cell_type": "code",
   "execution_count": 79,
   "metadata": {},
   "outputs": [],
   "source": [
    "#poly_grid.fit(features, labels)\n",
    "#poly_grid.best_params_"
   ]
  },
  {
   "cell_type": "markdown",
   "metadata": {},
   "source": [
    "The use of GridSearchCV to find the best degree to use for the polynomial was attempted but could not get it working. Despite this with the RMSE of the polynomial being so close to that of the results from cross validation it is safe to assume that for this problem a 2nd degree polynomial is the best fit. "
   ]
  },
  {
   "cell_type": "markdown",
   "metadata": {},
   "source": [
    "# 10.3 SVM Regression - Grid Search"
   ]
  },
  {
   "cell_type": "code",
   "execution_count": 80,
   "metadata": {},
   "outputs": [],
   "source": [
    "#Specifying the paramteres for our grid search\n",
    "from sklearn.model_selection import GridSearchCV\n",
    "\n",
    "param_grid = {'C': [1e-2, 0.1, 1, 10, 100, 1000, 1e2],  \n",
    "              'gamma': [1, 0.1, 0.2, 0.3, 0.4, 0.5, 0.6, 0.7, 0.8, 0.9, 0.01, 0.001, 0.0001], \n",
    "              'kernel': ['rbf']}\n",
    "\n",
    "grid = GridSearchCV(SVR(), param_grid, refit = True, verbose = 3)"
   ]
  },
  {
   "cell_type": "markdown",
   "metadata": {},
   "source": [
    "Here \"gamma\" is a parameter, which ranges from 0 to 1. A higher value of gamma will perfectly fit the training dataset, which causes over-fitting. Gamma = 0.1 is considered to be a good default value.\n",
    "\n",
    "The 'C' parameter is the regularisation parameter. This is the penalty parameter that focuses on maintaning regularization. "
   ]
  },
  {
   "cell_type": "code",
   "execution_count": 81,
   "metadata": {},
   "outputs": [
    {
     "name": "stderr",
     "output_type": "stream",
     "text": [
      "C:\\Users\\Stewart\\Anaconda3\\lib\\site-packages\\sklearn\\model_selection\\_split.py:1978: FutureWarning: The default value of cv will change from 3 to 5 in version 0.22. Specify it explicitly to silence this warning.\n",
      "  warnings.warn(CV_WARNING, FutureWarning)\n",
      "[Parallel(n_jobs=1)]: Using backend SequentialBackend with 1 concurrent workers.\n",
      "[Parallel(n_jobs=1)]: Done   1 out of   1 | elapsed:    0.0s remaining:    0.0s\n",
      "[Parallel(n_jobs=1)]: Done   2 out of   2 | elapsed:    0.0s remaining:    0.0s\n"
     ]
    },
    {
     "name": "stdout",
     "output_type": "stream",
     "text": [
      "Fitting 3 folds for each of 91 candidates, totalling 273 fits\n",
      "[CV] C=0.01, gamma=1, kernel=rbf .....................................\n",
      "[CV] ........ C=0.01, gamma=1, kernel=rbf, score=-0.108, total=   0.0s\n",
      "[CV] C=0.01, gamma=1, kernel=rbf .....................................\n",
      "[CV] ........ C=0.01, gamma=1, kernel=rbf, score=-0.001, total=   0.1s\n",
      "[CV] C=0.01, gamma=1, kernel=rbf .....................................\n",
      "[CV] ........ C=0.01, gamma=1, kernel=rbf, score=-0.007, total=   0.0s\n",
      "[CV] C=0.01, gamma=0.1, kernel=rbf ...................................\n",
      "[CV] ...... C=0.01, gamma=0.1, kernel=rbf, score=-0.102, total=   0.0s\n",
      "[CV] C=0.01, gamma=0.1, kernel=rbf ...................................\n",
      "[CV] ....... C=0.01, gamma=0.1, kernel=rbf, score=0.005, total=   0.0s\n",
      "[CV] C=0.01, gamma=0.1, kernel=rbf ...................................\n",
      "[CV] ....... C=0.01, gamma=0.1, kernel=rbf, score=0.000, total=   0.0s\n",
      "[CV] C=0.01, gamma=0.2, kernel=rbf ...................................\n",
      "[CV] ...... C=0.01, gamma=0.2, kernel=rbf, score=-0.104, total=   0.0s\n",
      "[CV] C=0.01, gamma=0.2, kernel=rbf ...................................\n",
      "[CV] ....... C=0.01, gamma=0.2, kernel=rbf, score=0.003, total=   0.0s\n",
      "[CV] C=0.01, gamma=0.2, kernel=rbf ...................................\n",
      "[CV] ...... C=0.01, gamma=0.2, kernel=rbf, score=-0.002, total=   0.0s\n",
      "[CV] C=0.01, gamma=0.3, kernel=rbf ...................................\n",
      "[CV] ...... C=0.01, gamma=0.3, kernel=rbf, score=-0.106, total=   0.0s\n",
      "[CV] C=0.01, gamma=0.3, kernel=rbf ...................................\n",
      "[CV] ....... C=0.01, gamma=0.3, kernel=rbf, score=0.002, total=   0.0s\n",
      "[CV] C=0.01, gamma=0.3, kernel=rbf ...................................\n",
      "[CV] ...... C=0.01, gamma=0.3, kernel=rbf, score=-0.004, total=   0.0s\n",
      "[CV] C=0.01, gamma=0.4, kernel=rbf ...................................\n",
      "[CV] ...... C=0.01, gamma=0.4, kernel=rbf, score=-0.107, total=   0.0s\n",
      "[CV] C=0.01, gamma=0.4, kernel=rbf ...................................\n",
      "[CV] ....... C=0.01, gamma=0.4, kernel=rbf, score=0.001, total=   0.0s\n",
      "[CV] C=0.01, gamma=0.4, kernel=rbf ...................................\n",
      "[CV] ...... C=0.01, gamma=0.4, kernel=rbf, score=-0.005, total=   0.0s\n",
      "[CV] C=0.01, gamma=0.5, kernel=rbf ...................................\n",
      "[CV] ...... C=0.01, gamma=0.5, kernel=rbf, score=-0.107, total=   0.0s\n",
      "[CV] C=0.01, gamma=0.5, kernel=rbf ...................................\n",
      "[CV] ....... C=0.01, gamma=0.5, kernel=rbf, score=0.000, total=   0.0s\n",
      "[CV] C=0.01, gamma=0.5, kernel=rbf ...................................\n",
      "[CV] ...... C=0.01, gamma=0.5, kernel=rbf, score=-0.006, total=   0.0s\n",
      "[CV] C=0.01, gamma=0.6, kernel=rbf ...................................\n",
      "[CV] ...... C=0.01, gamma=0.6, kernel=rbf, score=-0.108, total=   0.0s\n",
      "[CV] C=0.01, gamma=0.6, kernel=rbf ...................................\n",
      "[CV] ...... C=0.01, gamma=0.6, kernel=rbf, score=-0.000, total=   0.0s\n",
      "[CV] C=0.01, gamma=0.6, kernel=rbf ...................................\n",
      "[CV] ...... C=0.01, gamma=0.6, kernel=rbf, score=-0.006, total=   0.0s\n",
      "[CV] C=0.01, gamma=0.7, kernel=rbf ...................................\n",
      "[CV] ...... C=0.01, gamma=0.7, kernel=rbf, score=-0.108, total=   0.0s\n",
      "[CV] C=0.01, gamma=0.7, kernel=rbf ...................................\n",
      "[CV] ...... C=0.01, gamma=0.7, kernel=rbf, score=-0.000, total=   0.0s\n",
      "[CV] C=0.01, gamma=0.7, kernel=rbf ...................................\n",
      "[CV] ...... C=0.01, gamma=0.7, kernel=rbf, score=-0.006, total=   0.0s\n",
      "[CV] C=0.01, gamma=0.8, kernel=rbf ...................................\n",
      "[CV] ...... C=0.01, gamma=0.8, kernel=rbf, score=-0.108, total=   0.0s\n",
      "[CV] C=0.01, gamma=0.8, kernel=rbf ...................................\n",
      "[CV] ...... C=0.01, gamma=0.8, kernel=rbf, score=-0.000, total=   0.0s\n",
      "[CV] C=0.01, gamma=0.8, kernel=rbf ...................................\n",
      "[CV] ...... C=0.01, gamma=0.8, kernel=rbf, score=-0.006, total=   0.0s\n",
      "[CV] C=0.01, gamma=0.9, kernel=rbf ...................................\n",
      "[CV] ...... C=0.01, gamma=0.9, kernel=rbf, score=-0.108, total=   0.0s\n",
      "[CV] C=0.01, gamma=0.9, kernel=rbf ...................................\n",
      "[CV] ...... C=0.01, gamma=0.9, kernel=rbf, score=-0.000, total=   0.0s\n",
      "[CV] C=0.01, gamma=0.9, kernel=rbf ...................................\n",
      "[CV] ...... C=0.01, gamma=0.9, kernel=rbf, score=-0.007, total=   0.0s\n",
      "[CV] C=0.01, gamma=0.01, kernel=rbf ..................................\n",
      "[CV] ..... C=0.01, gamma=0.01, kernel=rbf, score=-0.105, total=   0.0s\n",
      "[CV] C=0.01, gamma=0.01, kernel=rbf ..................................\n",
      "[CV] ...... C=0.01, gamma=0.01, kernel=rbf, score=0.002, total=   0.0s\n",
      "[CV] C=0.01, gamma=0.01, kernel=rbf ..................................\n",
      "[CV] ..... C=0.01, gamma=0.01, kernel=rbf, score=-0.004, total=   0.0s\n",
      "[CV] C=0.01, gamma=0.001, kernel=rbf .................................\n",
      "[CV] .... C=0.01, gamma=0.001, kernel=rbf, score=-0.108, total=   0.0s\n",
      "[CV] C=0.01, gamma=0.001, kernel=rbf .................................\n",
      "[CV] .... C=0.01, gamma=0.001, kernel=rbf, score=-0.000, total=   0.0s\n",
      "[CV] C=0.01, gamma=0.001, kernel=rbf .................................\n",
      "[CV] .... C=0.01, gamma=0.001, kernel=rbf, score=-0.007, total=   0.0s\n",
      "[CV] C=0.01, gamma=0.0001, kernel=rbf ................................\n",
      "[CV] ... C=0.01, gamma=0.0001, kernel=rbf, score=-0.108, total=   0.0s\n",
      "[CV] C=0.01, gamma=0.0001, kernel=rbf ................................\n",
      "[CV] ... C=0.01, gamma=0.0001, kernel=rbf, score=-0.001, total=   0.0s\n",
      "[CV] C=0.01, gamma=0.0001, kernel=rbf ................................\n",
      "[CV] ... C=0.01, gamma=0.0001, kernel=rbf, score=-0.007, total=   0.0s\n",
      "[CV] C=0.1, gamma=1, kernel=rbf ......................................\n",
      "[CV] ......... C=0.1, gamma=1, kernel=rbf, score=-0.107, total=   0.0s\n",
      "[CV] C=0.1, gamma=1, kernel=rbf ......................................\n",
      "[CV] .......... C=0.1, gamma=1, kernel=rbf, score=0.001, total=   0.0s\n",
      "[CV] C=0.1, gamma=1, kernel=rbf ......................................\n",
      "[CV] ......... C=0.1, gamma=1, kernel=rbf, score=-0.004, total=   0.0s\n",
      "[CV] C=0.1, gamma=0.1, kernel=rbf ....................................\n",
      "[CV] ....... C=0.1, gamma=0.1, kernel=rbf, score=-0.050, total=   0.0s\n",
      "[CV] C=0.1, gamma=0.1, kernel=rbf ....................................\n",
      "[CV] ........ C=0.1, gamma=0.1, kernel=rbf, score=0.049, total=   0.0s\n",
      "[CV] C=0.1, gamma=0.1, kernel=rbf ....................................\n",
      "[CV] ........ C=0.1, gamma=0.1, kernel=rbf, score=0.054, total=   0.0s\n",
      "[CV] C=0.1, gamma=0.2, kernel=rbf ....................................\n",
      "[CV] ....... C=0.1, gamma=0.2, kernel=rbf, score=-0.071, total=   0.0s\n",
      "[CV] C=0.1, gamma=0.2, kernel=rbf ....................................\n",
      "[CV] ........ C=0.1, gamma=0.2, kernel=rbf, score=0.034, total=   0.0s\n",
      "[CV] C=0.1, gamma=0.2, kernel=rbf ....................................\n",
      "[CV] ........ C=0.1, gamma=0.2, kernel=rbf, score=0.035, total=   0.0s\n",
      "[CV] C=0.1, gamma=0.3, kernel=rbf ....................................\n",
      "[CV] ....... C=0.1, gamma=0.3, kernel=rbf, score=-0.084, total=   0.0s\n",
      "[CV] C=0.1, gamma=0.3, kernel=rbf ....................................\n",
      "[CV] ........ C=0.1, gamma=0.3, kernel=rbf, score=0.021, total=   0.0s\n",
      "[CV] C=0.1, gamma=0.3, kernel=rbf ....................................\n",
      "[CV] ........ C=0.1, gamma=0.3, kernel=rbf, score=0.021, total=   0.0s\n",
      "[CV] C=0.1, gamma=0.4, kernel=rbf ....................................\n",
      "[CV] ....... C=0.1, gamma=0.4, kernel=rbf, score=-0.093, total=   0.0s\n",
      "[CV] C=0.1, gamma=0.4, kernel=rbf ....................................\n",
      "[CV] ........ C=0.1, gamma=0.4, kernel=rbf, score=0.014, total=   0.0s\n",
      "[CV] C=0.1, gamma=0.4, kernel=rbf ....................................\n",
      "[CV] ........ C=0.1, gamma=0.4, kernel=rbf, score=0.012, total=   0.0s\n",
      "[CV] C=0.1, gamma=0.5, kernel=rbf ....................................\n",
      "[CV] ....... C=0.1, gamma=0.5, kernel=rbf, score=-0.098, total=   0.0s\n",
      "[CV] C=0.1, gamma=0.5, kernel=rbf ....................................\n",
      "[CV] ........ C=0.1, gamma=0.5, kernel=rbf, score=0.009, total=   0.0s\n",
      "[CV] C=0.1, gamma=0.5, kernel=rbf ....................................\n",
      "[CV] ........ C=0.1, gamma=0.5, kernel=rbf, score=0.006, total=   0.0s\n",
      "[CV] C=0.1, gamma=0.6, kernel=rbf ....................................\n",
      "[CV] ....... C=0.1, gamma=0.6, kernel=rbf, score=-0.102, total=   0.0s\n",
      "[CV] C=0.1, gamma=0.6, kernel=rbf ....................................\n",
      "[CV] ........ C=0.1, gamma=0.6, kernel=rbf, score=0.006, total=   0.0s\n",
      "[CV] C=0.1, gamma=0.6, kernel=rbf ....................................\n",
      "[CV] ........ C=0.1, gamma=0.6, kernel=rbf, score=0.002, total=   0.0s\n",
      "[CV] C=0.1, gamma=0.7, kernel=rbf ....................................\n",
      "[CV] ....... C=0.1, gamma=0.7, kernel=rbf, score=-0.104, total=   0.0s\n",
      "[CV] C=0.1, gamma=0.7, kernel=rbf ....................................\n",
      "[CV] ........ C=0.1, gamma=0.7, kernel=rbf, score=0.004, total=   0.0s\n",
      "[CV] C=0.1, gamma=0.7, kernel=rbf ....................................\n",
      "[CV] ....... C=0.1, gamma=0.7, kernel=rbf, score=-0.000, total=   0.0s\n",
      "[CV] C=0.1, gamma=0.8, kernel=rbf ....................................\n"
     ]
    },
    {
     "name": "stdout",
     "output_type": "stream",
     "text": [
      "[CV] ....... C=0.1, gamma=0.8, kernel=rbf, score=-0.105, total=   0.0s\n",
      "[CV] C=0.1, gamma=0.8, kernel=rbf ....................................\n",
      "[CV] ........ C=0.1, gamma=0.8, kernel=rbf, score=0.003, total=   0.0s\n",
      "[CV] C=0.1, gamma=0.8, kernel=rbf ....................................\n",
      "[CV] ....... C=0.1, gamma=0.8, kernel=rbf, score=-0.002, total=   0.0s\n",
      "[CV] C=0.1, gamma=0.9, kernel=rbf ....................................\n",
      "[CV] ....... C=0.1, gamma=0.9, kernel=rbf, score=-0.107, total=   0.0s\n",
      "[CV] C=0.1, gamma=0.9, kernel=rbf ....................................\n",
      "[CV] ........ C=0.1, gamma=0.9, kernel=rbf, score=0.002, total=   0.0s\n",
      "[CV] C=0.1, gamma=0.9, kernel=rbf ....................................\n",
      "[CV] ....... C=0.1, gamma=0.9, kernel=rbf, score=-0.003, total=   0.0s\n",
      "[CV] C=0.1, gamma=0.01, kernel=rbf ...................................\n",
      "[CV] ...... C=0.1, gamma=0.01, kernel=rbf, score=-0.084, total=   0.0s\n",
      "[CV] C=0.1, gamma=0.01, kernel=rbf ...................................\n",
      "[CV] ....... C=0.1, gamma=0.01, kernel=rbf, score=0.024, total=   0.0s\n",
      "[CV] C=0.1, gamma=0.01, kernel=rbf ...................................\n",
      "[CV] ....... C=0.1, gamma=0.01, kernel=rbf, score=0.022, total=   0.0s\n",
      "[CV] C=0.1, gamma=0.001, kernel=rbf ..................................\n",
      "[CV] ..... C=0.1, gamma=0.001, kernel=rbf, score=-0.104, total=   0.0s\n",
      "[CV] C=0.1, gamma=0.001, kernel=rbf ..................................\n",
      "[CV] ...... C=0.1, gamma=0.001, kernel=rbf, score=0.003, total=   0.0s\n",
      "[CV] C=0.1, gamma=0.001, kernel=rbf ..................................\n",
      "[CV] ..... C=0.1, gamma=0.001, kernel=rbf, score=-0.003, total=   0.0s\n",
      "[CV] C=0.1, gamma=0.0001, kernel=rbf .................................\n",
      "[CV] .... C=0.1, gamma=0.0001, kernel=rbf, score=-0.108, total=   0.0s\n",
      "[CV] C=0.1, gamma=0.0001, kernel=rbf .................................\n",
      "[CV] .... C=0.1, gamma=0.0001, kernel=rbf, score=-0.000, total=   0.0s\n",
      "[CV] C=0.1, gamma=0.0001, kernel=rbf .................................\n",
      "[CV] .... C=0.1, gamma=0.0001, kernel=rbf, score=-0.006, total=   0.0s\n",
      "[CV] C=1, gamma=1, kernel=rbf ........................................\n",
      "[CV] ........... C=1, gamma=1, kernel=rbf, score=-0.083, total=   0.0s\n",
      "[CV] C=1, gamma=1, kernel=rbf ........................................\n",
      "[CV] ............ C=1, gamma=1, kernel=rbf, score=0.021, total=   0.0s\n",
      "[CV] C=1, gamma=1, kernel=rbf ........................................\n",
      "[CV] ............ C=1, gamma=1, kernel=rbf, score=0.016, total=   0.0s\n",
      "[CV] C=1, gamma=0.1, kernel=rbf ......................................\n",
      "[CV] .......... C=1, gamma=0.1, kernel=rbf, score=0.157, total=   0.0s\n",
      "[CV] C=1, gamma=0.1, kernel=rbf ......................................\n",
      "[CV] .......... C=1, gamma=0.1, kernel=rbf, score=0.174, total=   0.0s\n",
      "[CV] C=1, gamma=0.1, kernel=rbf ......................................\n",
      "[CV] .......... C=1, gamma=0.1, kernel=rbf, score=0.210, total=   0.0s\n",
      "[CV] C=1, gamma=0.2, kernel=rbf ......................................\n",
      "[CV] .......... C=1, gamma=0.2, kernel=rbf, score=0.123, total=   0.0s\n",
      "[CV] C=1, gamma=0.2, kernel=rbf ......................................\n",
      "[CV] .......... C=1, gamma=0.2, kernel=rbf, score=0.151, total=   0.0s\n",
      "[CV] C=1, gamma=0.2, kernel=rbf ......................................\n",
      "[CV] .......... C=1, gamma=0.2, kernel=rbf, score=0.166, total=   0.0s\n",
      "[CV] C=1, gamma=0.3, kernel=rbf ......................................\n",
      "[CV] .......... C=1, gamma=0.3, kernel=rbf, score=0.072, total=   0.0s\n",
      "[CV] C=1, gamma=0.3, kernel=rbf ......................................\n",
      "[CV] .......... C=1, gamma=0.3, kernel=rbf, score=0.122, total=   0.0s\n",
      "[CV] C=1, gamma=0.3, kernel=rbf ......................................\n",
      "[CV] .......... C=1, gamma=0.3, kernel=rbf, score=0.130, total=   0.0s\n",
      "[CV] C=1, gamma=0.4, kernel=rbf ......................................\n",
      "[CV] .......... C=1, gamma=0.4, kernel=rbf, score=0.017, total=   0.0s\n",
      "[CV] C=1, gamma=0.4, kernel=rbf ......................................\n",
      "[CV] .......... C=1, gamma=0.4, kernel=rbf, score=0.095, total=   0.0s\n",
      "[CV] C=1, gamma=0.4, kernel=rbf ......................................\n",
      "[CV] .......... C=1, gamma=0.4, kernel=rbf, score=0.101, total=   0.0s\n",
      "[CV] C=1, gamma=0.5, kernel=rbf ......................................\n",
      "[CV] ......... C=1, gamma=0.5, kernel=rbf, score=-0.013, total=   0.0s\n",
      "[CV] C=1, gamma=0.5, kernel=rbf ......................................\n",
      "[CV] .......... C=1, gamma=0.5, kernel=rbf, score=0.073, total=   0.0s\n",
      "[CV] C=1, gamma=0.5, kernel=rbf ......................................\n",
      "[CV] .......... C=1, gamma=0.5, kernel=rbf, score=0.076, total=   0.0s\n",
      "[CV] C=1, gamma=0.6, kernel=rbf ......................................\n",
      "[CV] ......... C=1, gamma=0.6, kernel=rbf, score=-0.031, total=   0.0s\n",
      "[CV] C=1, gamma=0.6, kernel=rbf ......................................\n",
      "[CV] .......... C=1, gamma=0.6, kernel=rbf, score=0.057, total=   0.0s\n",
      "[CV] C=1, gamma=0.6, kernel=rbf ......................................\n",
      "[CV] .......... C=1, gamma=0.6, kernel=rbf, score=0.057, total=   0.0s\n",
      "[CV] C=1, gamma=0.7, kernel=rbf ......................................\n",
      "[CV] ......... C=1, gamma=0.7, kernel=rbf, score=-0.049, total=   0.0s\n",
      "[CV] C=1, gamma=0.7, kernel=rbf ......................................\n",
      "[CV] .......... C=1, gamma=0.7, kernel=rbf, score=0.044, total=   0.0s\n",
      "[CV] C=1, gamma=0.7, kernel=rbf ......................................\n",
      "[CV] .......... C=1, gamma=0.7, kernel=rbf, score=0.042, total=   0.0s\n",
      "[CV] C=1, gamma=0.8, kernel=rbf ......................................\n",
      "[CV] ......... C=1, gamma=0.8, kernel=rbf, score=-0.063, total=   0.0s\n",
      "[CV] C=1, gamma=0.8, kernel=rbf ......................................\n",
      "[CV] .......... C=1, gamma=0.8, kernel=rbf, score=0.034, total=   0.0s\n",
      "[CV] C=1, gamma=0.8, kernel=rbf ......................................\n",
      "[CV] .......... C=1, gamma=0.8, kernel=rbf, score=0.031, total=   0.0s\n",
      "[CV] C=1, gamma=0.9, kernel=rbf ......................................\n",
      "[CV] ......... C=1, gamma=0.9, kernel=rbf, score=-0.074, total=   0.0s\n",
      "[CV] C=1, gamma=0.9, kernel=rbf ......................................\n",
      "[CV] .......... C=1, gamma=0.9, kernel=rbf, score=0.027, total=   0.0s\n",
      "[CV] C=1, gamma=0.9, kernel=rbf ......................................\n",
      "[CV] .......... C=1, gamma=0.9, kernel=rbf, score=0.022, total=   0.0s\n",
      "[CV] C=1, gamma=0.01, kernel=rbf .....................................\n",
      "[CV] ......... C=1, gamma=0.01, kernel=rbf, score=0.079, total=   0.0s\n",
      "[CV] C=1, gamma=0.01, kernel=rbf .....................................\n",
      "[CV] ......... C=1, gamma=0.01, kernel=rbf, score=0.138, total=   0.0s\n",
      "[CV] C=1, gamma=0.01, kernel=rbf .....................................\n",
      "[CV] ......... C=1, gamma=0.01, kernel=rbf, score=0.150, total=   0.0s\n",
      "[CV] C=1, gamma=0.001, kernel=rbf ....................................\n",
      "[CV] ....... C=1, gamma=0.001, kernel=rbf, score=-0.076, total=   0.0s\n",
      "[CV] C=1, gamma=0.001, kernel=rbf ....................................\n",
      "[CV] ........ C=1, gamma=0.001, kernel=rbf, score=0.030, total=   0.0s\n",
      "[CV] C=1, gamma=0.001, kernel=rbf ....................................\n",
      "[CV] ........ C=1, gamma=0.001, kernel=rbf, score=0.028, total=   0.0s\n",
      "[CV] C=1, gamma=0.0001, kernel=rbf ...................................\n",
      "[CV] ...... C=1, gamma=0.0001, kernel=rbf, score=-0.104, total=   0.0s\n",
      "[CV] C=1, gamma=0.0001, kernel=rbf ...................................\n",
      "[CV] ....... C=1, gamma=0.0001, kernel=rbf, score=0.003, total=   0.0s\n",
      "[CV] C=1, gamma=0.0001, kernel=rbf ...................................\n",
      "[CV] ...... C=1, gamma=0.0001, kernel=rbf, score=-0.003, total=   0.0s\n",
      "[CV] C=10, gamma=1, kernel=rbf .......................................\n",
      "[CV] ........... C=10, gamma=1, kernel=rbf, score=0.015, total=   0.0s\n",
      "[CV] C=10, gamma=1, kernel=rbf .......................................\n",
      "[CV] ........... C=10, gamma=1, kernel=rbf, score=0.102, total=   0.0s\n",
      "[CV] C=10, gamma=1, kernel=rbf .......................................\n",
      "[CV] ........... C=10, gamma=1, kernel=rbf, score=0.087, total=   0.0s\n",
      "[CV] C=10, gamma=0.1, kernel=rbf .....................................\n",
      "[CV] ......... C=10, gamma=0.1, kernel=rbf, score=0.186, total=   0.0s\n",
      "[CV] C=10, gamma=0.1, kernel=rbf .....................................\n",
      "[CV] ......... C=10, gamma=0.1, kernel=rbf, score=0.168, total=   0.0s\n",
      "[CV] C=10, gamma=0.1, kernel=rbf .....................................\n",
      "[CV] ......... C=10, gamma=0.1, kernel=rbf, score=0.282, total=   0.0s\n",
      "[CV] C=10, gamma=0.2, kernel=rbf .....................................\n",
      "[CV] ......... C=10, gamma=0.2, kernel=rbf, score=0.169, total=   0.0s\n",
      "[CV] C=10, gamma=0.2, kernel=rbf .....................................\n",
      "[CV] ......... C=10, gamma=0.2, kernel=rbf, score=0.166, total=   0.0s\n",
      "[CV] C=10, gamma=0.2, kernel=rbf .....................................\n",
      "[CV] ......... C=10, gamma=0.2, kernel=rbf, score=0.231, total=   0.0s\n",
      "[CV] C=10, gamma=0.3, kernel=rbf .....................................\n",
      "[CV] ......... C=10, gamma=0.3, kernel=rbf, score=0.152, total=   0.0s\n",
      "[CV] C=10, gamma=0.3, kernel=rbf .....................................\n",
      "[CV] ......... C=10, gamma=0.3, kernel=rbf, score=0.148, total=   0.0s\n",
      "[CV] C=10, gamma=0.3, kernel=rbf .....................................\n"
     ]
    },
    {
     "name": "stdout",
     "output_type": "stream",
     "text": [
      "[CV] ......... C=10, gamma=0.3, kernel=rbf, score=0.193, total=   0.0s\n",
      "[CV] C=10, gamma=0.4, kernel=rbf .....................................\n",
      "[CV] ......... C=10, gamma=0.4, kernel=rbf, score=0.134, total=   0.0s\n",
      "[CV] C=10, gamma=0.4, kernel=rbf .....................................\n",
      "[CV] ......... C=10, gamma=0.4, kernel=rbf, score=0.143, total=   0.0s\n",
      "[CV] C=10, gamma=0.4, kernel=rbf .....................................\n",
      "[CV] ......... C=10, gamma=0.4, kernel=rbf, score=0.167, total=   0.0s\n",
      "[CV] C=10, gamma=0.5, kernel=rbf .....................................\n",
      "[CV] ......... C=10, gamma=0.5, kernel=rbf, score=0.123, total=   0.0s\n",
      "[CV] C=10, gamma=0.5, kernel=rbf .....................................\n",
      "[CV] ......... C=10, gamma=0.5, kernel=rbf, score=0.147, total=   0.0s\n",
      "[CV] C=10, gamma=0.5, kernel=rbf .....................................\n",
      "[CV] ......... C=10, gamma=0.5, kernel=rbf, score=0.152, total=   0.0s\n",
      "[CV] C=10, gamma=0.6, kernel=rbf .....................................\n",
      "[CV] ......... C=10, gamma=0.6, kernel=rbf, score=0.102, total=   0.0s\n",
      "[CV] C=10, gamma=0.6, kernel=rbf .....................................\n",
      "[CV] ......... C=10, gamma=0.6, kernel=rbf, score=0.145, total=   0.0s\n",
      "[CV] C=10, gamma=0.6, kernel=rbf .....................................\n",
      "[CV] ......... C=10, gamma=0.6, kernel=rbf, score=0.139, total=   0.0s\n",
      "[CV] C=10, gamma=0.7, kernel=rbf .....................................\n",
      "[CV] ......... C=10, gamma=0.7, kernel=rbf, score=0.078, total=   0.0s\n",
      "[CV] C=10, gamma=0.7, kernel=rbf .....................................\n",
      "[CV] ......... C=10, gamma=0.7, kernel=rbf, score=0.139, total=   0.0s\n",
      "[CV] C=10, gamma=0.7, kernel=rbf .....................................\n",
      "[CV] ......... C=10, gamma=0.7, kernel=rbf, score=0.127, total=   0.0s\n",
      "[CV] C=10, gamma=0.8, kernel=rbf .....................................\n",
      "[CV] ......... C=10, gamma=0.8, kernel=rbf, score=0.055, total=   0.0s\n",
      "[CV] C=10, gamma=0.8, kernel=rbf .....................................\n",
      "[CV] ......... C=10, gamma=0.8, kernel=rbf, score=0.128, total=   0.0s\n",
      "[CV] C=10, gamma=0.8, kernel=rbf .....................................\n",
      "[CV] ......... C=10, gamma=0.8, kernel=rbf, score=0.113, total=   0.0s\n",
      "[CV] C=10, gamma=0.9, kernel=rbf .....................................\n",
      "[CV] ......... C=10, gamma=0.9, kernel=rbf, score=0.033, total=   0.0s\n",
      "[CV] C=10, gamma=0.9, kernel=rbf .....................................\n",
      "[CV] ......... C=10, gamma=0.9, kernel=rbf, score=0.115, total=   0.0s\n",
      "[CV] C=10, gamma=0.9, kernel=rbf .....................................\n",
      "[CV] ......... C=10, gamma=0.9, kernel=rbf, score=0.100, total=   0.0s\n",
      "[CV] C=10, gamma=0.01, kernel=rbf ....................................\n",
      "[CV] ........ C=10, gamma=0.01, kernel=rbf, score=0.193, total=   0.0s\n",
      "[CV] C=10, gamma=0.01, kernel=rbf ....................................\n",
      "[CV] ........ C=10, gamma=0.01, kernel=rbf, score=0.139, total=   0.0s\n",
      "[CV] C=10, gamma=0.01, kernel=rbf ....................................\n",
      "[CV] ........ C=10, gamma=0.01, kernel=rbf, score=0.290, total=   0.0s\n",
      "[CV] C=10, gamma=0.001, kernel=rbf ...................................\n",
      "[CV] ....... C=10, gamma=0.001, kernel=rbf, score=0.098, total=   0.0s\n",
      "[CV] C=10, gamma=0.001, kernel=rbf ...................................\n",
      "[CV] ....... C=10, gamma=0.001, kernel=rbf, score=0.154, total=   0.0s\n",
      "[CV] C=10, gamma=0.001, kernel=rbf ...................................\n",
      "[CV] ....... C=10, gamma=0.001, kernel=rbf, score=0.172, total=   0.0s\n",
      "[CV] C=10, gamma=0.0001, kernel=rbf ..................................\n",
      "[CV] ..... C=10, gamma=0.0001, kernel=rbf, score=-0.075, total=   0.0s\n",
      "[CV] C=10, gamma=0.0001, kernel=rbf ..................................\n",
      "[CV] ...... C=10, gamma=0.0001, kernel=rbf, score=0.030, total=   0.0s\n",
      "[CV] C=10, gamma=0.0001, kernel=rbf ..................................\n",
      "[CV] ...... C=10, gamma=0.0001, kernel=rbf, score=0.028, total=   0.0s\n",
      "[CV] C=100, gamma=1, kernel=rbf ......................................\n",
      "[CV] .......... C=100, gamma=1, kernel=rbf, score=0.093, total=   0.0s\n",
      "[CV] C=100, gamma=1, kernel=rbf ......................................\n",
      "[CV] .......... C=100, gamma=1, kernel=rbf, score=0.077, total=   0.0s\n",
      "[CV] C=100, gamma=1, kernel=rbf ......................................\n",
      "[CV] .......... C=100, gamma=1, kernel=rbf, score=0.123, total=   0.0s\n",
      "[CV] C=100, gamma=0.1, kernel=rbf ....................................\n",
      "[CV] ........ C=100, gamma=0.1, kernel=rbf, score=0.023, total=   0.0s\n",
      "[CV] C=100, gamma=0.1, kernel=rbf ....................................\n",
      "[CV] ....... C=100, gamma=0.1, kernel=rbf, score=-0.099, total=   0.0s\n",
      "[CV] C=100, gamma=0.1, kernel=rbf ....................................\n",
      "[CV] ........ C=100, gamma=0.1, kernel=rbf, score=0.135, total=   0.0s\n",
      "[CV] C=100, gamma=0.2, kernel=rbf ....................................\n",
      "[CV] ....... C=100, gamma=0.2, kernel=rbf, score=-0.190, total=   0.0s\n",
      "[CV] C=100, gamma=0.2, kernel=rbf ....................................\n",
      "[CV] ....... C=100, gamma=0.2, kernel=rbf, score=-0.327, total=   0.0s\n",
      "[CV] C=100, gamma=0.2, kernel=rbf ....................................\n",
      "[CV] ....... C=100, gamma=0.2, kernel=rbf, score=-0.019, total=   0.0s\n",
      "[CV] C=100, gamma=0.3, kernel=rbf ....................................\n",
      "[CV] ....... C=100, gamma=0.3, kernel=rbf, score=-0.175, total=   0.0s\n",
      "[CV] C=100, gamma=0.3, kernel=rbf ....................................\n",
      "[CV] ....... C=100, gamma=0.3, kernel=rbf, score=-0.230, total=   0.0s\n",
      "[CV] C=100, gamma=0.3, kernel=rbf ....................................\n",
      "[CV] ........ C=100, gamma=0.3, kernel=rbf, score=0.012, total=   0.0s\n",
      "[CV] C=100, gamma=0.4, kernel=rbf ....................................\n",
      "[CV] ....... C=100, gamma=0.4, kernel=rbf, score=-0.077, total=   0.0s\n",
      "[CV] C=100, gamma=0.4, kernel=rbf ....................................\n",
      "[CV] ....... C=100, gamma=0.4, kernel=rbf, score=-0.083, total=   0.0s\n",
      "[CV] C=100, gamma=0.4, kernel=rbf ....................................\n",
      "[CV] ........ C=100, gamma=0.4, kernel=rbf, score=0.066, total=   0.0s\n",
      "[CV] C=100, gamma=0.5, kernel=rbf ....................................\n",
      "[CV] ........ C=100, gamma=0.5, kernel=rbf, score=0.006, total=   0.0s\n",
      "[CV] C=100, gamma=0.5, kernel=rbf ....................................\n",
      "[CV] ........ C=100, gamma=0.5, kernel=rbf, score=0.002, total=   0.0s\n",
      "[CV] C=100, gamma=0.5, kernel=rbf ....................................\n",
      "[CV] ........ C=100, gamma=0.5, kernel=rbf, score=0.110, total=   0.0s\n",
      "[CV] C=100, gamma=0.6, kernel=rbf ....................................\n",
      "[CV] ........ C=100, gamma=0.6, kernel=rbf, score=0.059, total=   0.0s\n",
      "[CV] C=100, gamma=0.6, kernel=rbf ....................................\n",
      "[CV] ........ C=100, gamma=0.6, kernel=rbf, score=0.049, total=   0.0s\n",
      "[CV] C=100, gamma=0.6, kernel=rbf ....................................\n",
      "[CV] ........ C=100, gamma=0.6, kernel=rbf, score=0.131, total=   0.0s\n",
      "[CV] C=100, gamma=0.7, kernel=rbf ....................................\n",
      "[CV] ........ C=100, gamma=0.7, kernel=rbf, score=0.086, total=   0.0s\n",
      "[CV] C=100, gamma=0.7, kernel=rbf ....................................\n",
      "[CV] ........ C=100, gamma=0.7, kernel=rbf, score=0.070, total=   0.0s\n",
      "[CV] C=100, gamma=0.7, kernel=rbf ....................................\n",
      "[CV] ........ C=100, gamma=0.7, kernel=rbf, score=0.139, total=   0.0s\n",
      "[CV] C=100, gamma=0.8, kernel=rbf ....................................\n",
      "[CV] ........ C=100, gamma=0.8, kernel=rbf, score=0.097, total=   0.0s\n",
      "[CV] C=100, gamma=0.8, kernel=rbf ....................................\n",
      "[CV] ........ C=100, gamma=0.8, kernel=rbf, score=0.079, total=   0.0s\n",
      "[CV] C=100, gamma=0.8, kernel=rbf ....................................\n",
      "[CV] ........ C=100, gamma=0.8, kernel=rbf, score=0.138, total=   0.0s\n",
      "[CV] C=100, gamma=0.9, kernel=rbf ....................................\n",
      "[CV] ........ C=100, gamma=0.9, kernel=rbf, score=0.097, total=   0.0s\n",
      "[CV] C=100, gamma=0.9, kernel=rbf ....................................\n",
      "[CV] ........ C=100, gamma=0.9, kernel=rbf, score=0.080, total=   0.0s\n",
      "[CV] C=100, gamma=0.9, kernel=rbf ....................................\n",
      "[CV] ........ C=100, gamma=0.9, kernel=rbf, score=0.132, total=   0.0s\n",
      "[CV] C=100, gamma=0.01, kernel=rbf ...................................\n",
      "[CV] ....... C=100, gamma=0.01, kernel=rbf, score=0.170, total=   0.0s\n",
      "[CV] C=100, gamma=0.01, kernel=rbf ...................................\n",
      "[CV] ....... C=100, gamma=0.01, kernel=rbf, score=0.053, total=   0.0s\n",
      "[CV] C=100, gamma=0.01, kernel=rbf ...................................\n",
      "[CV] ....... C=100, gamma=0.01, kernel=rbf, score=0.303, total=   0.0s\n",
      "[CV] C=100, gamma=0.001, kernel=rbf ..................................\n",
      "[CV] ...... C=100, gamma=0.001, kernel=rbf, score=0.180, total=   0.0s\n",
      "[CV] C=100, gamma=0.001, kernel=rbf ..................................\n",
      "[CV] ...... C=100, gamma=0.001, kernel=rbf, score=0.120, total=   0.0s\n",
      "[CV] C=100, gamma=0.001, kernel=rbf ..................................\n",
      "[CV] ...... C=100, gamma=0.001, kernel=rbf, score=0.279, total=   0.0s\n",
      "[CV] C=100, gamma=0.0001, kernel=rbf .................................\n",
      "[CV] ..... C=100, gamma=0.0001, kernel=rbf, score=0.101, total=   0.0s\n",
      "[CV] C=100, gamma=0.0001, kernel=rbf .................................\n"
     ]
    },
    {
     "name": "stdout",
     "output_type": "stream",
     "text": [
      "[CV] ..... C=100, gamma=0.0001, kernel=rbf, score=0.155, total=   0.0s\n",
      "[CV] C=100, gamma=0.0001, kernel=rbf .................................\n",
      "[CV] ..... C=100, gamma=0.0001, kernel=rbf, score=0.174, total=   0.0s\n",
      "[CV] C=1000, gamma=1, kernel=rbf .....................................\n",
      "[CV] ......... C=1000, gamma=1, kernel=rbf, score=0.093, total=   0.0s\n",
      "[CV] C=1000, gamma=1, kernel=rbf .....................................\n",
      "[CV] ......... C=1000, gamma=1, kernel=rbf, score=0.077, total=   0.0s\n",
      "[CV] C=1000, gamma=1, kernel=rbf .....................................\n",
      "[CV] ......... C=1000, gamma=1, kernel=rbf, score=0.123, total=   0.0s\n",
      "[CV] C=1000, gamma=0.1, kernel=rbf ...................................\n",
      "[CV] ...... C=1000, gamma=0.1, kernel=rbf, score=-0.688, total=   0.1s\n",
      "[CV] C=1000, gamma=0.1, kernel=rbf ...................................\n",
      "[CV] ...... C=1000, gamma=0.1, kernel=rbf, score=-1.375, total=   0.1s\n",
      "[CV] C=1000, gamma=0.1, kernel=rbf ...................................\n",
      "[CV] ...... C=1000, gamma=0.1, kernel=rbf, score=-0.404, total=   0.1s\n",
      "[CV] C=1000, gamma=0.2, kernel=rbf ...................................\n",
      "[CV] ...... C=1000, gamma=0.2, kernel=rbf, score=-0.573, total=   0.1s\n",
      "[CV] C=1000, gamma=0.2, kernel=rbf ...................................\n",
      "[CV] ...... C=1000, gamma=0.2, kernel=rbf, score=-0.678, total=   0.1s\n",
      "[CV] C=1000, gamma=0.2, kernel=rbf ...................................\n",
      "[CV] ...... C=1000, gamma=0.2, kernel=rbf, score=-0.395, total=   0.1s\n",
      "[CV] C=1000, gamma=0.3, kernel=rbf ...................................\n",
      "[CV] ...... C=1000, gamma=0.3, kernel=rbf, score=-0.258, total=   0.0s\n",
      "[CV] C=1000, gamma=0.3, kernel=rbf ...................................\n",
      "[CV] ...... C=1000, gamma=0.3, kernel=rbf, score=-0.248, total=   0.0s\n",
      "[CV] C=1000, gamma=0.3, kernel=rbf ...................................\n",
      "[CV] ...... C=1000, gamma=0.3, kernel=rbf, score=-0.086, total=   0.0s\n",
      "[CV] C=1000, gamma=0.4, kernel=rbf ...................................\n",
      "[CV] ...... C=1000, gamma=0.4, kernel=rbf, score=-0.090, total=   0.0s\n",
      "[CV] C=1000, gamma=0.4, kernel=rbf ...................................\n",
      "[CV] ...... C=1000, gamma=0.4, kernel=rbf, score=-0.076, total=   0.0s\n",
      "[CV] C=1000, gamma=0.4, kernel=rbf ...................................\n",
      "[CV] ....... C=1000, gamma=0.4, kernel=rbf, score=0.045, total=   0.0s\n",
      "[CV] C=1000, gamma=0.5, kernel=rbf ...................................\n",
      "[CV] ....... C=1000, gamma=0.5, kernel=rbf, score=0.006, total=   0.0s\n",
      "[CV] C=1000, gamma=0.5, kernel=rbf ...................................\n",
      "[CV] ....... C=1000, gamma=0.5, kernel=rbf, score=0.007, total=   0.0s\n",
      "[CV] C=1000, gamma=0.5, kernel=rbf ...................................\n",
      "[CV] ....... C=1000, gamma=0.5, kernel=rbf, score=0.105, total=   0.0s\n",
      "[CV] C=1000, gamma=0.6, kernel=rbf ...................................\n",
      "[CV] ....... C=1000, gamma=0.6, kernel=rbf, score=0.059, total=   0.0s\n",
      "[CV] C=1000, gamma=0.6, kernel=rbf ...................................\n",
      "[CV] ....... C=1000, gamma=0.6, kernel=rbf, score=0.050, total=   0.0s\n",
      "[CV] C=1000, gamma=0.6, kernel=rbf ...................................\n",
      "[CV] ....... C=1000, gamma=0.6, kernel=rbf, score=0.131, total=   0.0s\n",
      "[CV] C=1000, gamma=0.7, kernel=rbf ...................................\n",
      "[CV] ....... C=1000, gamma=0.7, kernel=rbf, score=0.086, total=   0.0s\n",
      "[CV] C=1000, gamma=0.7, kernel=rbf ...................................\n",
      "[CV] ....... C=1000, gamma=0.7, kernel=rbf, score=0.070, total=   0.0s\n",
      "[CV] C=1000, gamma=0.7, kernel=rbf ...................................\n",
      "[CV] ....... C=1000, gamma=0.7, kernel=rbf, score=0.139, total=   0.0s\n",
      "[CV] C=1000, gamma=0.8, kernel=rbf ...................................\n",
      "[CV] ....... C=1000, gamma=0.8, kernel=rbf, score=0.097, total=   0.0s\n",
      "[CV] C=1000, gamma=0.8, kernel=rbf ...................................\n",
      "[CV] ....... C=1000, gamma=0.8, kernel=rbf, score=0.079, total=   0.0s\n",
      "[CV] C=1000, gamma=0.8, kernel=rbf ...................................\n",
      "[CV] ....... C=1000, gamma=0.8, kernel=rbf, score=0.138, total=   0.0s\n",
      "[CV] C=1000, gamma=0.9, kernel=rbf ...................................\n",
      "[CV] ....... C=1000, gamma=0.9, kernel=rbf, score=0.097, total=   0.0s\n",
      "[CV] C=1000, gamma=0.9, kernel=rbf ...................................\n",
      "[CV] ....... C=1000, gamma=0.9, kernel=rbf, score=0.080, total=   0.0s\n",
      "[CV] C=1000, gamma=0.9, kernel=rbf ...................................\n",
      "[CV] ....... C=1000, gamma=0.9, kernel=rbf, score=0.132, total=   0.0s\n",
      "[CV] C=1000, gamma=0.01, kernel=rbf ..................................\n",
      "[CV] ...... C=1000, gamma=0.01, kernel=rbf, score=0.083, total=   0.0s\n",
      "[CV] C=1000, gamma=0.01, kernel=rbf ..................................\n",
      "[CV] ..... C=1000, gamma=0.01, kernel=rbf, score=-0.112, total=   0.0s\n",
      "[CV] C=1000, gamma=0.01, kernel=rbf ..................................\n",
      "[CV] ...... C=1000, gamma=0.01, kernel=rbf, score=0.077, total=   0.0s\n",
      "[CV] C=1000, gamma=0.001, kernel=rbf .................................\n",
      "[CV] ..... C=1000, gamma=0.001, kernel=rbf, score=0.162, total=   0.0s\n",
      "[CV] C=1000, gamma=0.001, kernel=rbf .................................\n",
      "[CV] ..... C=1000, gamma=0.001, kernel=rbf, score=0.046, total=   0.0s\n",
      "[CV] C=1000, gamma=0.001, kernel=rbf .................................\n",
      "[CV] ..... C=1000, gamma=0.001, kernel=rbf, score=0.295, total=   0.0s\n",
      "[CV] C=1000, gamma=0.0001, kernel=rbf ................................\n",
      "[CV] .... C=1000, gamma=0.0001, kernel=rbf, score=0.178, total=   0.0s\n",
      "[CV] C=1000, gamma=0.0001, kernel=rbf ................................\n",
      "[CV] .... C=1000, gamma=0.0001, kernel=rbf, score=0.118, total=   0.0s\n",
      "[CV] C=1000, gamma=0.0001, kernel=rbf ................................\n",
      "[CV] .... C=1000, gamma=0.0001, kernel=rbf, score=0.278, total=   0.0s\n",
      "[CV] C=100.0, gamma=1, kernel=rbf ....................................\n",
      "[CV] ........ C=100.0, gamma=1, kernel=rbf, score=0.093, total=   0.0s\n",
      "[CV] C=100.0, gamma=1, kernel=rbf ....................................\n",
      "[CV] ........ C=100.0, gamma=1, kernel=rbf, score=0.077, total=   0.0s\n",
      "[CV] C=100.0, gamma=1, kernel=rbf ....................................\n",
      "[CV] ........ C=100.0, gamma=1, kernel=rbf, score=0.123, total=   0.0s\n",
      "[CV] C=100.0, gamma=0.1, kernel=rbf ..................................\n",
      "[CV] ...... C=100.0, gamma=0.1, kernel=rbf, score=0.023, total=   0.0s\n",
      "[CV] C=100.0, gamma=0.1, kernel=rbf ..................................\n",
      "[CV] ..... C=100.0, gamma=0.1, kernel=rbf, score=-0.099, total=   0.0s\n",
      "[CV] C=100.0, gamma=0.1, kernel=rbf ..................................\n",
      "[CV] ...... C=100.0, gamma=0.1, kernel=rbf, score=0.135, total=   0.0s\n",
      "[CV] C=100.0, gamma=0.2, kernel=rbf ..................................\n",
      "[CV] ..... C=100.0, gamma=0.2, kernel=rbf, score=-0.190, total=   0.0s\n",
      "[CV] C=100.0, gamma=0.2, kernel=rbf ..................................\n",
      "[CV] ..... C=100.0, gamma=0.2, kernel=rbf, score=-0.327, total=   0.0s\n",
      "[CV] C=100.0, gamma=0.2, kernel=rbf ..................................\n",
      "[CV] ..... C=100.0, gamma=0.2, kernel=rbf, score=-0.019, total=   0.0s\n",
      "[CV] C=100.0, gamma=0.3, kernel=rbf ..................................\n",
      "[CV] ..... C=100.0, gamma=0.3, kernel=rbf, score=-0.175, total=   0.0s\n",
      "[CV] C=100.0, gamma=0.3, kernel=rbf ..................................\n",
      "[CV] ..... C=100.0, gamma=0.3, kernel=rbf, score=-0.230, total=   0.0s\n",
      "[CV] C=100.0, gamma=0.3, kernel=rbf ..................................\n",
      "[CV] ...... C=100.0, gamma=0.3, kernel=rbf, score=0.012, total=   0.0s\n",
      "[CV] C=100.0, gamma=0.4, kernel=rbf ..................................\n",
      "[CV] ..... C=100.0, gamma=0.4, kernel=rbf, score=-0.077, total=   0.0s\n",
      "[CV] C=100.0, gamma=0.4, kernel=rbf ..................................\n",
      "[CV] ..... C=100.0, gamma=0.4, kernel=rbf, score=-0.083, total=   0.0s\n",
      "[CV] C=100.0, gamma=0.4, kernel=rbf ..................................\n",
      "[CV] ...... C=100.0, gamma=0.4, kernel=rbf, score=0.066, total=   0.0s\n",
      "[CV] C=100.0, gamma=0.5, kernel=rbf ..................................\n",
      "[CV] ...... C=100.0, gamma=0.5, kernel=rbf, score=0.006, total=   0.0s\n",
      "[CV] C=100.0, gamma=0.5, kernel=rbf ..................................\n",
      "[CV] ...... C=100.0, gamma=0.5, kernel=rbf, score=0.002, total=   0.0s\n",
      "[CV] C=100.0, gamma=0.5, kernel=rbf ..................................\n",
      "[CV] ...... C=100.0, gamma=0.5, kernel=rbf, score=0.110, total=   0.0s\n",
      "[CV] C=100.0, gamma=0.6, kernel=rbf ..................................\n",
      "[CV] ...... C=100.0, gamma=0.6, kernel=rbf, score=0.059, total=   0.0s\n",
      "[CV] C=100.0, gamma=0.6, kernel=rbf ..................................\n",
      "[CV] ...... C=100.0, gamma=0.6, kernel=rbf, score=0.049, total=   0.0s\n",
      "[CV] C=100.0, gamma=0.6, kernel=rbf ..................................\n",
      "[CV] ...... C=100.0, gamma=0.6, kernel=rbf, score=0.131, total=   0.0s\n",
      "[CV] C=100.0, gamma=0.7, kernel=rbf ..................................\n"
     ]
    },
    {
     "name": "stdout",
     "output_type": "stream",
     "text": [
      "[CV] ...... C=100.0, gamma=0.7, kernel=rbf, score=0.086, total=   0.0s\n",
      "[CV] C=100.0, gamma=0.7, kernel=rbf ..................................\n",
      "[CV] ...... C=100.0, gamma=0.7, kernel=rbf, score=0.070, total=   0.0s\n",
      "[CV] C=100.0, gamma=0.7, kernel=rbf ..................................\n",
      "[CV] ...... C=100.0, gamma=0.7, kernel=rbf, score=0.139, total=   0.0s\n",
      "[CV] C=100.0, gamma=0.8, kernel=rbf ..................................\n",
      "[CV] ...... C=100.0, gamma=0.8, kernel=rbf, score=0.097, total=   0.0s\n",
      "[CV] C=100.0, gamma=0.8, kernel=rbf ..................................\n",
      "[CV] ...... C=100.0, gamma=0.8, kernel=rbf, score=0.079, total=   0.0s\n",
      "[CV] C=100.0, gamma=0.8, kernel=rbf ..................................\n",
      "[CV] ...... C=100.0, gamma=0.8, kernel=rbf, score=0.138, total=   0.0s\n",
      "[CV] C=100.0, gamma=0.9, kernel=rbf ..................................\n",
      "[CV] ...... C=100.0, gamma=0.9, kernel=rbf, score=0.097, total=   0.0s\n",
      "[CV] C=100.0, gamma=0.9, kernel=rbf ..................................\n",
      "[CV] ...... C=100.0, gamma=0.9, kernel=rbf, score=0.080, total=   0.0s\n",
      "[CV] C=100.0, gamma=0.9, kernel=rbf ..................................\n",
      "[CV] ...... C=100.0, gamma=0.9, kernel=rbf, score=0.132, total=   0.0s\n",
      "[CV] C=100.0, gamma=0.01, kernel=rbf .................................\n",
      "[CV] ..... C=100.0, gamma=0.01, kernel=rbf, score=0.170, total=   0.0s\n",
      "[CV] C=100.0, gamma=0.01, kernel=rbf .................................\n",
      "[CV] ..... C=100.0, gamma=0.01, kernel=rbf, score=0.053, total=   0.0s\n",
      "[CV] C=100.0, gamma=0.01, kernel=rbf .................................\n",
      "[CV] ..... C=100.0, gamma=0.01, kernel=rbf, score=0.303, total=   0.0s\n",
      "[CV] C=100.0, gamma=0.001, kernel=rbf ................................\n",
      "[CV] .... C=100.0, gamma=0.001, kernel=rbf, score=0.180, total=   0.0s\n",
      "[CV] C=100.0, gamma=0.001, kernel=rbf ................................\n",
      "[CV] .... C=100.0, gamma=0.001, kernel=rbf, score=0.120, total=   0.0s\n",
      "[CV] C=100.0, gamma=0.001, kernel=rbf ................................\n",
      "[CV] .... C=100.0, gamma=0.001, kernel=rbf, score=0.279, total=   0.0s\n",
      "[CV] C=100.0, gamma=0.0001, kernel=rbf ...............................\n",
      "[CV] ... C=100.0, gamma=0.0001, kernel=rbf, score=0.101, total=   0.0s\n",
      "[CV] C=100.0, gamma=0.0001, kernel=rbf ...............................\n",
      "[CV] ... C=100.0, gamma=0.0001, kernel=rbf, score=0.155, total=   0.0s\n",
      "[CV] C=100.0, gamma=0.0001, kernel=rbf ...............................\n",
      "[CV] ... C=100.0, gamma=0.0001, kernel=rbf, score=0.174, total=   0.0s\n"
     ]
    },
    {
     "name": "stderr",
     "output_type": "stream",
     "text": [
      "[Parallel(n_jobs=1)]: Done 273 out of 273 | elapsed:    5.1s finished\n"
     ]
    },
    {
     "data": {
      "text/plain": [
       "GridSearchCV(cv='warn', error_score='raise-deprecating',\n",
       "             estimator=SVR(C=1.0, cache_size=200, coef0=0.0, degree=3,\n",
       "                           epsilon=0.1, gamma='auto_deprecated', kernel='rbf',\n",
       "                           max_iter=-1, shrinking=True, tol=0.001,\n",
       "                           verbose=False),\n",
       "             iid='warn', n_jobs=None,\n",
       "             param_grid={'C': [0.01, 0.1, 1, 10, 100, 1000, 100.0],\n",
       "                         'gamma': [1, 0.1, 0.2, 0.3, 0.4, 0.5, 0.6, 0.7, 0.8,\n",
       "                                   0.9, 0.01, 0.001, 0.0001],\n",
       "                         'kernel': ['rbf']},\n",
       "             pre_dispatch='2*n_jobs', refit=True, return_train_score=False,\n",
       "             scoring=None, verbose=3)"
      ]
     },
     "execution_count": 81,
     "metadata": {},
     "output_type": "execute_result"
    }
   ],
   "source": [
    "#Fitting our grid results to out data\n",
    "#Identifying what are the best parameters\n",
    "\n",
    "grid.fit(spotify_prepared, spotify_labels)"
   ]
  },
  {
   "cell_type": "code",
   "execution_count": 82,
   "metadata": {},
   "outputs": [
    {
     "name": "stdout",
     "output_type": "stream",
     "text": [
      "{'C': 10, 'gamma': 0.1, 'kernel': 'rbf'}\n",
      "SVR(C=10, cache_size=200, coef0=0.0, degree=3, epsilon=0.1, gamma=0.1,\n",
      "    kernel='rbf', max_iter=-1, shrinking=True, tol=0.001, verbose=False)\n"
     ]
    }
   ],
   "source": [
    "# print best parameter after tuning \n",
    "print(grid.best_params_) \n",
    "  \n",
    "# print how our model looks after hyper-parameter tuning \n",
    "print(grid.best_estimator_)"
   ]
  },
  {
   "cell_type": "markdown",
   "metadata": {},
   "source": [
    "We can see that the value for gamma has remained the same, indicating that the low value of 0.1 may not be under fitting our data and that the model is taking in enough of the data point when learning. The C value has been reduced tenfold, indicating that originally, our model was learning with too high of an error rate, and that a small-margin hyperplane is clearly more suited to our dataset. "
   ]
  },
  {
   "cell_type": "markdown",
   "metadata": {},
   "source": [
    "# 11. Changing Our Models Hyperparameters After Fine-Tuning"
   ]
  },
  {
   "cell_type": "markdown",
   "metadata": {},
   "source": [
    "# 11.1 Random Forest Regression"
   ]
  },
  {
   "cell_type": "code",
   "execution_count": 83,
   "metadata": {},
   "outputs": [
    {
     "data": {
      "text/plain": [
       "RandomForestRegressor(bootstrap=True, criterion='mse', max_depth=20,\n",
       "                      max_features=3, max_leaf_nodes=None,\n",
       "                      min_impurity_decrease=0.0, min_impurity_split=None,\n",
       "                      min_samples_leaf=1, min_samples_split=2,\n",
       "                      min_weight_fraction_leaf=0.0, n_estimators=100,\n",
       "                      n_jobs=None, oob_score=False, random_state=None,\n",
       "                      verbose=0, warm_start=False)"
      ]
     },
     "execution_count": 83,
     "metadata": {},
     "output_type": "execute_result"
    }
   ],
   "source": [
    "from sklearn.ensemble import RandomForestRegressor\n",
    "\n",
    "forest_reg_ft = RandomForestRegressor(n_estimators = 100, min_samples_split = 2, min_samples_leaf = 1, max_features = 3,\n",
    "                                   max_depth = 20, bootstrap = True)\n",
    "forest_reg_ft.fit(spotify_prepared, spotify_labels)"
   ]
  },
  {
   "cell_type": "code",
   "execution_count": 84,
   "metadata": {},
   "outputs": [],
   "source": [
    "# Making predictions on the training data\n",
    "\n",
    "forest_pred_ft = forest_reg_ft.predict(spotify_prepared)"
   ]
  },
  {
   "cell_type": "code",
   "execution_count": 85,
   "metadata": {},
   "outputs": [
    {
     "data": {
      "text/html": [
       "<div>\n",
       "<style scoped>\n",
       "    .dataframe tbody tr th:only-of-type {\n",
       "        vertical-align: middle;\n",
       "    }\n",
       "\n",
       "    .dataframe tbody tr th {\n",
       "        vertical-align: top;\n",
       "    }\n",
       "\n",
       "    .dataframe thead th {\n",
       "        text-align: right;\n",
       "    }\n",
       "</style>\n",
       "<table border=\"1\" class=\"dataframe\">\n",
       "  <thead>\n",
       "    <tr style=\"text-align: right;\">\n",
       "      <th></th>\n",
       "      <th>Actual</th>\n",
       "      <th>Predicted</th>\n",
       "    </tr>\n",
       "  </thead>\n",
       "  <tbody>\n",
       "    <tr>\n",
       "      <th>0</th>\n",
       "      <td>44</td>\n",
       "      <td>46.530000</td>\n",
       "    </tr>\n",
       "    <tr>\n",
       "      <th>2</th>\n",
       "      <td>77</td>\n",
       "      <td>74.194333</td>\n",
       "    </tr>\n",
       "    <tr>\n",
       "      <th>3</th>\n",
       "      <td>67</td>\n",
       "      <td>63.933333</td>\n",
       "    </tr>\n",
       "    <tr>\n",
       "      <th>4</th>\n",
       "      <td>63</td>\n",
       "      <td>61.370000</td>\n",
       "    </tr>\n",
       "    <tr>\n",
       "      <th>5</th>\n",
       "      <td>74</td>\n",
       "      <td>72.639583</td>\n",
       "    </tr>\n",
       "  </tbody>\n",
       "</table>\n",
       "</div>"
      ],
      "text/plain": [
       "   Actual  Predicted\n",
       "0      44  46.530000\n",
       "2      77  74.194333\n",
       "3      67  63.933333\n",
       "4      63  61.370000\n",
       "5      74  72.639583"
      ]
     },
     "execution_count": 85,
     "metadata": {},
     "output_type": "execute_result"
    }
   ],
   "source": [
    "# Showing actual popularity scores vs predicted popularity scores from the random forest regression model\n",
    "\n",
    "forest_res_ft = pd.DataFrame({'Actual' : spotify_labels, 'Predicted' : forest_pred_ft})\n",
    "forest_res_ft.head() # Show the first 5 results for comparison"
   ]
  },
  {
   "cell_type": "code",
   "execution_count": 86,
   "metadata": {},
   "outputs": [
    {
     "name": "stdout",
     "output_type": "stream",
     "text": [
      "RMSE: 4.793710205492879\n",
      "r^2: 0.9002327783388777\n"
     ]
    }
   ],
   "source": [
    "\"\"\"\n",
    "        Evaluating the Random Forest Regression Model\n",
    "\"\"\"\n",
    "\n",
    "from sklearn.metrics import mean_squared_error, r2_score\n",
    "\n",
    "forest_predict_ft = forest_reg_ft.predict(spotify_prepared)\n",
    "forest_mse_ft = mean_squared_error(spotify_labels, forest_predict)\n",
    "forest_rmse_ft = np.sqrt(forest_mse_ft)\n",
    "forest_rmse_ft\n",
    "\n",
    "# Prints the Root Mean Squared Error (RMSE)\n",
    "print('RMSE:', forest_rmse_ft) \n",
    "\n",
    "# Prints the Coefficient of Determination (r^2)\n",
    "print('r^2:', r2_score(spotify_labels, forest_predict_ft))"
   ]
  },
  {
   "cell_type": "markdown",
   "metadata": {},
   "source": [
    "# 11.2 SVM Regression"
   ]
  },
  {
   "cell_type": "code",
   "execution_count": 87,
   "metadata": {},
   "outputs": [],
   "source": [
    "#Implementing the best parameters into our model\n",
    "\n",
    "svr_rbf_best = SVR(kernel='rbf', C=10, gamma=0.1, epsilon=.1) #using best parameters from GridSearchCV\n",
    "svr_rbf_best.fit(spotify_prepared, spotify_labels)\n",
    "best_rbf_predictions = svr_rbf_best.predict(spotify_prepared)"
   ]
  },
  {
   "cell_type": "code",
   "execution_count": 88,
   "metadata": {},
   "outputs": [],
   "source": [
    "# Getting the RMSE and r^2 scores\n",
    "\n",
    "svm_rbf_rmse = np.sqrt(mean_squared_error(spotify_labels, best_rbf_predictions))\n",
    "svm_rbf_r2 = r2_score(spotify_labels, best_rbf_predictions)"
   ]
  },
  {
   "cell_type": "code",
   "execution_count": 89,
   "metadata": {},
   "outputs": [
    {
     "name": "stdout",
     "output_type": "stream",
     "text": [
      "RMSE: 9.08889852593334\n",
      "r^2 SVR best parameters: 0.491421619346213\n"
     ]
    }
   ],
   "source": [
    "# Printing the RMSE and r^2 scores \n",
    "\n",
    "print('RMSE:', np.sqrt(mean_squared_error(spotify_labels, best_rbf_predictions)))\n",
    "print('r^2 SVR best parameters:', r2_score(spotify_labels, best_rbf_predictions))"
   ]
  },
  {
   "cell_type": "markdown",
   "metadata": {},
   "source": [
    "As can be seen after tuning the parameters and implementing the predicted best parameters, it seems as though we have reduced the impact of over fitting as the RMSE is closer to that of the mean retrived from cross validation. This shows us that these parameters should result in a more accurate model when implemented on the test data."
   ]
  },
  {
   "cell_type": "code",
   "execution_count": 90,
   "metadata": {},
   "outputs": [
    {
     "data": {
      "text/html": [
       "<div>\n",
       "<style scoped>\n",
       "    .dataframe tbody tr th:only-of-type {\n",
       "        vertical-align: middle;\n",
       "    }\n",
       "\n",
       "    .dataframe tbody tr th {\n",
       "        vertical-align: top;\n",
       "    }\n",
       "\n",
       "    .dataframe thead th {\n",
       "        text-align: right;\n",
       "    }\n",
       "</style>\n",
       "<table border=\"1\" class=\"dataframe\">\n",
       "  <thead>\n",
       "    <tr style=\"text-align: right;\">\n",
       "      <th></th>\n",
       "      <th>Actual</th>\n",
       "      <th>Predicted</th>\n",
       "    </tr>\n",
       "  </thead>\n",
       "  <tbody>\n",
       "    <tr>\n",
       "      <th>0</th>\n",
       "      <td>44</td>\n",
       "      <td>46.950528</td>\n",
       "    </tr>\n",
       "    <tr>\n",
       "      <th>2</th>\n",
       "      <td>77</td>\n",
       "      <td>71.311976</td>\n",
       "    </tr>\n",
       "    <tr>\n",
       "      <th>3</th>\n",
       "      <td>67</td>\n",
       "      <td>66.701766</td>\n",
       "    </tr>\n",
       "    <tr>\n",
       "      <th>4</th>\n",
       "      <td>63</td>\n",
       "      <td>58.367626</td>\n",
       "    </tr>\n",
       "    <tr>\n",
       "      <th>5</th>\n",
       "      <td>74</td>\n",
       "      <td>72.286103</td>\n",
       "    </tr>\n",
       "  </tbody>\n",
       "</table>\n",
       "</div>"
      ],
      "text/plain": [
       "   Actual  Predicted\n",
       "0      44  46.950528\n",
       "2      77  71.311976\n",
       "3      67  66.701766\n",
       "4      63  58.367626\n",
       "5      74  72.286103"
      ]
     },
     "execution_count": 90,
     "metadata": {},
     "output_type": "execute_result"
    }
   ],
   "source": [
    "#Top 5 avtual vs predicted of our model with new parameters. \n",
    "\n",
    "rbf_res_best = pd.DataFrame({'Actual': spotify_labels, 'Predicted': best_rbf_predictions})\n",
    "\n",
    "rbf_res_best.head()"
   ]
  },
  {
   "cell_type": "markdown",
   "metadata": {},
   "source": [
    "# 12. Evaluating Our Models on the Test Set"
   ]
  },
  {
   "cell_type": "markdown",
   "metadata": {},
   "source": [
    "# 12.1 Linear Regression"
   ]
  },
  {
   "cell_type": "code",
   "execution_count": 91,
   "metadata": {},
   "outputs": [
    {
     "name": "stdout",
     "output_type": "stream",
     "text": [
      "Predictions: [66.75888851 61.65641696 60.24250985 64.93447429 61.28202345 64.00956459\n",
      " 58.77616239 47.87465791 68.18724803 66.41667751 53.32367329 69.00573316\n",
      " 55.82543369 63.98460235 68.71648285 67.15446737 61.08195591 66.88136038\n",
      " 64.55624391 67.01868892 58.9099398  58.84316514 54.13203223 51.84451613\n",
      " 48.9686447  64.93784659 64.13529523 61.57777877 53.54097958 68.67791104\n",
      " 68.77396571 53.65440916 66.32322485 70.05115869 67.26611386 73.46045388\n",
      " 63.08562907 50.59694041 61.57697317 66.97999021 64.0746955  66.30638\n",
      " 63.82893701 55.0608627  63.52139873 61.1460358  64.85698212 64.78592737\n",
      " 54.41798528 66.32829473 55.25318138 65.81832726 56.00254637 48.83401356\n",
      " 55.06284097 55.95353629 66.57630785 54.33382388 71.10511564 51.60112173\n",
      " 62.53026463 58.10041232 65.31564022 67.10122534 66.16766029 62.16788102\n",
      " 69.59526032 50.80548271 59.99303597 61.13581948 67.50965576 48.93108196\n",
      " 54.75420548 63.37324826 54.05195765 70.36085069 70.98410404 62.72075124\n",
      " 62.17136204 54.56393383 67.35334334 55.49318054 43.3856061  66.42140044\n",
      " 57.49976529 62.93256552 67.18557056 67.41401101 55.44205721 65.63618446\n",
      " 52.45570617 66.18988181 69.54622673 68.12280561 58.55040674 67.66079884\n",
      " 61.37683611 55.67512383 64.41682215 49.58099907 56.08683136 63.97127552\n",
      " 70.18414488 44.16493113 52.42858594 73.89018095 67.66150449 61.46192837\n",
      " 54.1764387  64.28259617 64.87934485 63.06349028 68.45281918 65.04366005]\n"
     ]
    }
   ],
   "source": [
    "lin_pred = num_pipeline.transform(spotify_test_new)\n",
    "print('Predictions:', lin_reg.predict(lin_pred))"
   ]
  },
  {
   "cell_type": "code",
   "execution_count": 92,
   "metadata": {},
   "outputs": [],
   "source": [
    "lin_test = lin_reg.predict(lin_pred)\n",
    "#lin_test"
   ]
  },
  {
   "cell_type": "markdown",
   "metadata": {},
   "source": [
    "# 12.2 Random Forest Regression"
   ]
  },
  {
   "cell_type": "code",
   "execution_count": 93,
   "metadata": {},
   "outputs": [
    {
     "name": "stdout",
     "output_type": "stream",
     "text": [
      "Predictions: [71.8 69.8 55.4 61.2 55.2 66.9 52.9 42.1 63.8 55.3 64.3 63.9 61.1 70.8\n",
      " 70.3 63.1 61.7 68.  66.6 67.8 51.8 59.1 61.  46.3 49.8 71.5 61.  52.\n",
      " 55.3 70.5 66.5 50.  68.3 69.1 68.9 73.2 65.7 53.7 67.8 68.7 68.7 67.\n",
      " 64.6 45.2 66.9 63.  65.8 52.3 59.7 64.  45.6 70.8 63.5 51.5 57.1 67.\n",
      " 65.9 54.6 66.8 45.6 58.1 69.  69.7 71.1 70.1 64.4 63.5 64.7 60.5 59.4\n",
      " 72.1 60.2 56.2 60.6 66.4 71.3 74.4 68.  51.7 54.4 70.6 61.1 47.5 69.4\n",
      " 48.  55.9 65.8 69.9 38.6 76.2 43.  67.2 67.2 65.6 62.9 69.6 57.8 51.6\n",
      " 62.8 50.2 54.5 63.3 70.7 59.3 51.8 70.3 70.4 62.7 59.1 64.9 63.6 62.7\n",
      " 66.3 68.1]\n"
     ]
    }
   ],
   "source": [
    "forest_pred = num_pipeline.transform(spotify_test_new)\n",
    "print('Predictions:', forest_reg.predict(forest_pred))"
   ]
  },
  {
   "cell_type": "code",
   "execution_count": 94,
   "metadata": {},
   "outputs": [],
   "source": [
    "forest_test = forest_reg.predict(forest_pred)\n",
    "#forest_test"
   ]
  },
  {
   "cell_type": "markdown",
   "metadata": {},
   "source": [
    "# 12.3 Polynomial Regression"
   ]
  },
  {
   "cell_type": "code",
   "execution_count": 95,
   "metadata": {},
   "outputs": [],
   "source": [
    "#Dropping the relevant columns to match our poly model\n",
    "poly_test_features = spotify_test_new.drop(['acous', 'live', 'val'], axis = 1)\n",
    "#poly_test_features"
   ]
  },
  {
   "cell_type": "code",
   "execution_count": 96,
   "metadata": {},
   "outputs": [],
   "source": [
    "#poly_test_features = z.columns\n",
    "#poly_test_features = np.array(poly_test_features)\n",
    "\n",
    "pf = PolynomialFeatures(degree = 2)\n",
    "\n",
    "poly_test_features = pf.fit_transform(poly_test_features)"
   ]
  },
  {
   "cell_type": "code",
   "execution_count": 97,
   "metadata": {},
   "outputs": [
    {
     "data": {
      "text/plain": [
       "array([81.5, 61.5, 57.5, 60. , 52. , 64.5, 59.5, 41. , 59. , 70.5, 53.5,\n",
       "       79. , 51.5, 58.5, 62. , 65.5, 58.5, 64. , 68.5, 66.5, 61. , 63. ,\n",
       "       47. , 47.5, 32. , 67. , 61.5, 55.5, 53. , 69.5, 80. , 51. , 64. ,\n",
       "       69.5, 68. , 68.5, 68. , 57.5, 56. , 66.5, 69. , 67.5, 70.5, 56. ,\n",
       "       56.5, 61. , 75.5, 68. , 59.5, 63. , 59.5, 68.5, 71.5, 47.5, 64.5,\n",
       "       62. , 65. , 55. , 67.5, 57.5, 67. , 59. , 64. , 66.5, 74.5, 56. ,\n",
       "       59.5, 53. , 68.5, 61. , 61.5, 49. , 58.5, 63. , 50. , 70.5, 58.5,\n",
       "       77.5, 62.5, 59. , 65.5, 68. , 14.5, 63.5, 45.5, 56. , 65.5, 65. ,\n",
       "       48. , 66. , 37. , 65.5, 71. , 73. , 67.5, 69.5, 63. , 65. , 65. ,\n",
       "       52. , 43. , 63. , 65.5, 37. , 54. , 63. , 69.5, 65. , 46.5, 38. ,\n",
       "       63. , 64.5, 68. , 60.5])"
      ]
     },
     "execution_count": 97,
     "metadata": {},
     "output_type": "execute_result"
    }
   ],
   "source": [
    "#Polynomial predictions on test data\n",
    "\n",
    "poly_test_predictions = model.predict(poly_test_features)\n",
    "poly_test_predictions"
   ]
  },
  {
   "cell_type": "markdown",
   "metadata": {},
   "source": [
    "# 12.4 SVM Regression"
   ]
  },
  {
   "cell_type": "code",
   "execution_count": 98,
   "metadata": {},
   "outputs": [
    {
     "name": "stdout",
     "output_type": "stream",
     "text": [
      "Predictions: [64.48459538 68.10328884 57.9232152  61.06221338 52.37652001 68.59542244\n",
      " 57.7521926  40.84647504 66.80512658 67.61961928 53.00437996 68.8257112\n",
      " 53.98940191 65.40386583 66.68003193 65.09830749 61.83741759 64.48253953\n",
      " 73.4103065  66.58996303 63.08189844 59.18588042 46.60742128 49.22053131\n",
      " 63.23492855 66.9971216  61.49486067 57.2057314  45.71889775 77.92420423\n",
      " 72.24791644 58.13406158 74.20321573 73.43634167 70.28319225 74.59576923\n",
      " 68.10734909 50.5983282  63.01874444 66.36698539 73.33537587 63.64645455\n",
      " 70.395574   49.72085117 68.73537212 56.06834131 62.16618651 62.05430551\n",
      " 58.78400558 63.74891974 51.93531284 72.33843833 61.40111342 48.18335464\n",
      " 57.34726009 64.4815907  66.21317897 49.5915075  73.77385771 50.19386654\n",
      " 63.83348544 67.66905412 65.94213108 64.1456484  68.80186372 61.24641827\n",
      " 63.28323851 51.08541825 63.83712675 56.20433846 66.86851722 46.4557066\n",
      " 52.44623524 68.44990784 54.74707538 73.78809777 73.20586944 68.10912951\n",
      " 61.60641728 53.60996429 64.83540412 66.85162328 47.70013254 69.57223881\n",
      " 57.43021485 60.41997859 67.11972535 67.89220329 49.67857246 74.83343923\n",
      " 42.01304126 68.34152091 68.18858824 65.34042416 66.99856696 73.83063345\n",
      " 60.80709188 60.4688926  71.90775653 42.13392385 57.92207066 62.81706868\n",
      " 69.02718053 45.18687293 48.29634087 70.00770769 73.95031784 65.0024558\n",
      " 60.97971991 65.45240638 63.20227834 67.51031086 64.62633485 64.63992902]\n"
     ]
    }
   ],
   "source": [
    "# SVR predictions on test data\n",
    "\n",
    "svm_pred = num_pipeline.transform(spotify_test_new)\n",
    "print('Predictions:', svr_rbf_best.predict(svm_pred))\n",
    "\n",
    "#best_rbf_predictions = svr_rbf_best.predict(spotify_prepared)"
   ]
  },
  {
   "cell_type": "code",
   "execution_count": 99,
   "metadata": {},
   "outputs": [],
   "source": [
    "svm_test = svr_rbf_best.predict(svm_pred)\n",
    "#svm_test"
   ]
  },
  {
   "cell_type": "markdown",
   "metadata": {},
   "source": [
    "# 13. Creating DataFrames for Our Submissions"
   ]
  },
  {
   "cell_type": "markdown",
   "metadata": {},
   "source": [
    "# 13.1 Linear Regression"
   ]
  },
  {
   "cell_type": "code",
   "execution_count": 100,
   "metadata": {},
   "outputs": [
    {
     "data": {
      "text/html": [
       "<div>\n",
       "<style scoped>\n",
       "    .dataframe tbody tr th:only-of-type {\n",
       "        vertical-align: middle;\n",
       "    }\n",
       "\n",
       "    .dataframe tbody tr th {\n",
       "        vertical-align: top;\n",
       "    }\n",
       "\n",
       "    .dataframe thead th {\n",
       "        text-align: right;\n",
       "    }\n",
       "</style>\n",
       "<table border=\"1\" class=\"dataframe\">\n",
       "  <thead>\n",
       "    <tr style=\"text-align: right;\">\n",
       "      <th></th>\n",
       "      <th>Id</th>\n",
       "      <th>pop</th>\n",
       "    </tr>\n",
       "  </thead>\n",
       "  <tbody>\n",
       "    <tr>\n",
       "      <th>0</th>\n",
       "      <td>454</td>\n",
       "      <td>66.758889</td>\n",
       "    </tr>\n",
       "    <tr>\n",
       "      <th>1</th>\n",
       "      <td>455</td>\n",
       "      <td>61.656417</td>\n",
       "    </tr>\n",
       "    <tr>\n",
       "      <th>2</th>\n",
       "      <td>456</td>\n",
       "      <td>60.242510</td>\n",
       "    </tr>\n",
       "    <tr>\n",
       "      <th>3</th>\n",
       "      <td>457</td>\n",
       "      <td>64.934474</td>\n",
       "    </tr>\n",
       "    <tr>\n",
       "      <th>4</th>\n",
       "      <td>458</td>\n",
       "      <td>61.282023</td>\n",
       "    </tr>\n",
       "  </tbody>\n",
       "</table>\n",
       "</div>"
      ],
      "text/plain": [
       "    Id        pop\n",
       "0  454  66.758889\n",
       "1  455  61.656417\n",
       "2  456  60.242510\n",
       "3  457  64.934474\n",
       "4  458  61.282023"
      ]
     },
     "execution_count": 100,
     "metadata": {},
     "output_type": "execute_result"
    }
   ],
   "source": [
    "#Creating columns for submission\n",
    "\n",
    "lin_submission = pd.DataFrame({\"Id\":spotify_test[\"Id\"], \"pop\":lin_test})\n",
    "lin_submission.head()"
   ]
  },
  {
   "cell_type": "markdown",
   "metadata": {},
   "source": [
    "# 13.2 Random Forest Regression"
   ]
  },
  {
   "cell_type": "code",
   "execution_count": 101,
   "metadata": {},
   "outputs": [
    {
     "data": {
      "text/html": [
       "<div>\n",
       "<style scoped>\n",
       "    .dataframe tbody tr th:only-of-type {\n",
       "        vertical-align: middle;\n",
       "    }\n",
       "\n",
       "    .dataframe tbody tr th {\n",
       "        vertical-align: top;\n",
       "    }\n",
       "\n",
       "    .dataframe thead th {\n",
       "        text-align: right;\n",
       "    }\n",
       "</style>\n",
       "<table border=\"1\" class=\"dataframe\">\n",
       "  <thead>\n",
       "    <tr style=\"text-align: right;\">\n",
       "      <th></th>\n",
       "      <th>Id</th>\n",
       "      <th>pop</th>\n",
       "    </tr>\n",
       "  </thead>\n",
       "  <tbody>\n",
       "    <tr>\n",
       "      <th>0</th>\n",
       "      <td>454</td>\n",
       "      <td>71.8</td>\n",
       "    </tr>\n",
       "    <tr>\n",
       "      <th>1</th>\n",
       "      <td>455</td>\n",
       "      <td>69.8</td>\n",
       "    </tr>\n",
       "    <tr>\n",
       "      <th>2</th>\n",
       "      <td>456</td>\n",
       "      <td>55.4</td>\n",
       "    </tr>\n",
       "    <tr>\n",
       "      <th>3</th>\n",
       "      <td>457</td>\n",
       "      <td>61.2</td>\n",
       "    </tr>\n",
       "    <tr>\n",
       "      <th>4</th>\n",
       "      <td>458</td>\n",
       "      <td>55.2</td>\n",
       "    </tr>\n",
       "  </tbody>\n",
       "</table>\n",
       "</div>"
      ],
      "text/plain": [
       "    Id   pop\n",
       "0  454  71.8\n",
       "1  455  69.8\n",
       "2  456  55.4\n",
       "3  457  61.2\n",
       "4  458  55.2"
      ]
     },
     "execution_count": 101,
     "metadata": {},
     "output_type": "execute_result"
    }
   ],
   "source": [
    "#Creating columns for submission\n",
    "\n",
    "forest_submission = pd.DataFrame({\"Id\":spotify_test[\"Id\"], \"pop\":forest_test})\n",
    "forest_submission.head()"
   ]
  },
  {
   "cell_type": "markdown",
   "metadata": {},
   "source": [
    "# 13.3 Polynomial Regression"
   ]
  },
  {
   "cell_type": "code",
   "execution_count": 102,
   "metadata": {},
   "outputs": [
    {
     "data": {
      "text/html": [
       "<div>\n",
       "<style scoped>\n",
       "    .dataframe tbody tr th:only-of-type {\n",
       "        vertical-align: middle;\n",
       "    }\n",
       "\n",
       "    .dataframe tbody tr th {\n",
       "        vertical-align: top;\n",
       "    }\n",
       "\n",
       "    .dataframe thead th {\n",
       "        text-align: right;\n",
       "    }\n",
       "</style>\n",
       "<table border=\"1\" class=\"dataframe\">\n",
       "  <thead>\n",
       "    <tr style=\"text-align: right;\">\n",
       "      <th></th>\n",
       "      <th>Id</th>\n",
       "      <th>pop</th>\n",
       "    </tr>\n",
       "  </thead>\n",
       "  <tbody>\n",
       "    <tr>\n",
       "      <th>0</th>\n",
       "      <td>454</td>\n",
       "      <td>81.5</td>\n",
       "    </tr>\n",
       "    <tr>\n",
       "      <th>1</th>\n",
       "      <td>455</td>\n",
       "      <td>61.5</td>\n",
       "    </tr>\n",
       "    <tr>\n",
       "      <th>2</th>\n",
       "      <td>456</td>\n",
       "      <td>57.5</td>\n",
       "    </tr>\n",
       "    <tr>\n",
       "      <th>3</th>\n",
       "      <td>457</td>\n",
       "      <td>60.0</td>\n",
       "    </tr>\n",
       "    <tr>\n",
       "      <th>4</th>\n",
       "      <td>458</td>\n",
       "      <td>52.0</td>\n",
       "    </tr>\n",
       "  </tbody>\n",
       "</table>\n",
       "</div>"
      ],
      "text/plain": [
       "    Id   pop\n",
       "0  454  81.5\n",
       "1  455  61.5\n",
       "2  456  57.5\n",
       "3  457  60.0\n",
       "4  458  52.0"
      ]
     },
     "execution_count": 102,
     "metadata": {},
     "output_type": "execute_result"
    }
   ],
   "source": [
    "#Creating columns for submission\n",
    "\n",
    "poly_submission = pd.DataFrame({\"Id\":spotify_test[\"Id\"], \"pop\":poly_test_predictions})\n",
    "poly_submission.head()"
   ]
  },
  {
   "cell_type": "markdown",
   "metadata": {},
   "source": [
    "# 13.4 SVM Regression"
   ]
  },
  {
   "cell_type": "code",
   "execution_count": 103,
   "metadata": {},
   "outputs": [
    {
     "data": {
      "text/html": [
       "<div>\n",
       "<style scoped>\n",
       "    .dataframe tbody tr th:only-of-type {\n",
       "        vertical-align: middle;\n",
       "    }\n",
       "\n",
       "    .dataframe tbody tr th {\n",
       "        vertical-align: top;\n",
       "    }\n",
       "\n",
       "    .dataframe thead th {\n",
       "        text-align: right;\n",
       "    }\n",
       "</style>\n",
       "<table border=\"1\" class=\"dataframe\">\n",
       "  <thead>\n",
       "    <tr style=\"text-align: right;\">\n",
       "      <th></th>\n",
       "      <th>Id</th>\n",
       "      <th>pop</th>\n",
       "    </tr>\n",
       "  </thead>\n",
       "  <tbody>\n",
       "    <tr>\n",
       "      <th>0</th>\n",
       "      <td>454</td>\n",
       "      <td>64.484595</td>\n",
       "    </tr>\n",
       "    <tr>\n",
       "      <th>1</th>\n",
       "      <td>455</td>\n",
       "      <td>68.103289</td>\n",
       "    </tr>\n",
       "    <tr>\n",
       "      <th>2</th>\n",
       "      <td>456</td>\n",
       "      <td>57.923215</td>\n",
       "    </tr>\n",
       "    <tr>\n",
       "      <th>3</th>\n",
       "      <td>457</td>\n",
       "      <td>61.062213</td>\n",
       "    </tr>\n",
       "    <tr>\n",
       "      <th>4</th>\n",
       "      <td>458</td>\n",
       "      <td>52.376520</td>\n",
       "    </tr>\n",
       "  </tbody>\n",
       "</table>\n",
       "</div>"
      ],
      "text/plain": [
       "    Id        pop\n",
       "0  454  64.484595\n",
       "1  455  68.103289\n",
       "2  456  57.923215\n",
       "3  457  61.062213\n",
       "4  458  52.376520"
      ]
     },
     "execution_count": 103,
     "metadata": {},
     "output_type": "execute_result"
    }
   ],
   "source": [
    "#Creating columns for submission\n",
    "\n",
    "svr_submission = pd.DataFrame({\"Id\":spotify_test[\"Id\"], \"pop\":svm_test})\n",
    "svr_submission.head()"
   ]
  },
  {
   "cell_type": "markdown",
   "metadata": {},
   "source": [
    "# 14. Converting Our Predictions into CSV Format"
   ]
  },
  {
   "cell_type": "markdown",
   "metadata": {},
   "source": [
    "# 14.1 Linear Regression"
   ]
  },
  {
   "cell_type": "code",
   "execution_count": 104,
   "metadata": {},
   "outputs": [],
   "source": [
    "#Converting data frame to csv for submission\n",
    "\n",
    "lin_filename = \"SpotifyLinearRegressionPredictions.csv\"\n",
    "\n",
    "lin_submission.to_csv(lin_filename, index = False, header = 1)"
   ]
  },
  {
   "cell_type": "markdown",
   "metadata": {},
   "source": [
    "# 14.2 Random Forest Regression"
   ]
  },
  {
   "cell_type": "code",
   "execution_count": 105,
   "metadata": {},
   "outputs": [],
   "source": [
    "#Converting data frame to csv for submission\n",
    "\n",
    "forest_filename = \"SpotifyRandomForestRegressionPredictions.csv\"\n",
    "\n",
    "forest_submission.to_csv(forest_filename, index = False, header = 1)"
   ]
  },
  {
   "cell_type": "markdown",
   "metadata": {},
   "source": [
    "# 14.3 Polynomial Regression"
   ]
  },
  {
   "cell_type": "code",
   "execution_count": 106,
   "metadata": {},
   "outputs": [],
   "source": [
    "#Converting data frame to csv for submission\n",
    "\n",
    "poly_filename = \"SpotifyPolynomialRegressionPredictions.csv\"\n",
    "\n",
    "poly_submission.to_csv(poly_filename, index = False, header = 1)"
   ]
  },
  {
   "cell_type": "markdown",
   "metadata": {},
   "source": [
    "# 14.4 SVM Regression"
   ]
  },
  {
   "cell_type": "code",
   "execution_count": 107,
   "metadata": {},
   "outputs": [],
   "source": [
    "#Converting data frame to csv for submission\n",
    "\n",
    "svr_filename = \"SpotifySupporVectorMachineRegressionPredictions.csv\"\n",
    "\n",
    "svr_submission.to_csv(svr_filename, index = False, header = 1)"
   ]
  },
  {
   "cell_type": "markdown",
   "metadata": {},
   "source": [
    "# 15. Summary of the Models Performance"
   ]
  },
  {
   "cell_type": "code",
   "execution_count": 110,
   "metadata": {},
   "outputs": [],
   "source": [
    "# Comparing all of the models' RMSE score for the training data\n",
    "\n",
    "model_performance_rmse = pd.DataFrame({'Model': ['Linear Regression',\n",
    "                                                 'Random Forest Regression',\n",
    "                                                 'Polynomial Regression',\n",
    "                                                 'SVM Regression'],\n",
    "                                       'RMSE - Train (Normal)' : [lin_rmse,\n",
    "                                                forest_rmse,\n",
    "                                                poly_rmse,\n",
    "                                                rbf_rmse],\n",
    "                                       'RMSE - Train (Cross-Val)' : [lin_reg_scores,\n",
    "                                                forest_reg_scores,\n",
    "                                                pr_reg_scores,\n",
    "                                                rbf_reg_scores],\n",
    "                                       'RMSE - Train (Fine-Tuned)' : ['NaN',\n",
    "                                                forest_rmse_ft,\n",
    "                                                'NaN',\n",
    "                                                svm_rbf_rmse],\n",
    "                                        'RMSE - Test': ['8.16064',\n",
    "                                                        '7.51638',\n",
    "                                                        '7.15004',\n",
    "                                                        '8.01046']})"
   ]
  },
  {
   "cell_type": "code",
   "execution_count": 111,
   "metadata": {},
   "outputs": [
    {
     "data": {
      "text/html": [
       "<div>\n",
       "<style scoped>\n",
       "    .dataframe tbody tr th:only-of-type {\n",
       "        vertical-align: middle;\n",
       "    }\n",
       "\n",
       "    .dataframe tbody tr th {\n",
       "        vertical-align: top;\n",
       "    }\n",
       "\n",
       "    .dataframe thead th {\n",
       "        text-align: right;\n",
       "    }\n",
       "</style>\n",
       "<table border=\"1\" class=\"dataframe\">\n",
       "  <thead>\n",
       "    <tr style=\"text-align: right;\">\n",
       "      <th></th>\n",
       "      <th>Model</th>\n",
       "      <th>RMSE - Train (Normal)</th>\n",
       "      <th>RMSE - Train (Cross-Val)</th>\n",
       "      <th>RMSE - Train (Fine-Tuned)</th>\n",
       "      <th>RMSE - Test</th>\n",
       "    </tr>\n",
       "  </thead>\n",
       "  <tbody>\n",
       "    <tr>\n",
       "      <th>0</th>\n",
       "      <td>Linear Regression</td>\n",
       "      <td>10.712168</td>\n",
       "      <td>10.901978</td>\n",
       "      <td>NaN</td>\n",
       "      <td>8.16064</td>\n",
       "    </tr>\n",
       "    <tr>\n",
       "      <th>1</th>\n",
       "      <td>Random Forest Regression</td>\n",
       "      <td>4.793710</td>\n",
       "      <td>11.388972</td>\n",
       "      <td>4.79371</td>\n",
       "      <td>7.51638</td>\n",
       "    </tr>\n",
       "    <tr>\n",
       "      <th>2</th>\n",
       "      <td>Polynomial Regression</td>\n",
       "      <td>10.389146</td>\n",
       "      <td>11.524016</td>\n",
       "      <td>NaN</td>\n",
       "      <td>7.15004</td>\n",
       "    </tr>\n",
       "    <tr>\n",
       "      <th>3</th>\n",
       "      <td>SVM Regression</td>\n",
       "      <td>6.976359</td>\n",
       "      <td>11.879536</td>\n",
       "      <td>9.0889</td>\n",
       "      <td>8.01046</td>\n",
       "    </tr>\n",
       "  </tbody>\n",
       "</table>\n",
       "</div>"
      ],
      "text/plain": [
       "                      Model  RMSE - Train (Normal)  RMSE - Train (Cross-Val)  \\\n",
       "0         Linear Regression              10.712168                 10.901978   \n",
       "1  Random Forest Regression               4.793710                 11.388972   \n",
       "2     Polynomial Regression              10.389146                 11.524016   \n",
       "3            SVM Regression               6.976359                 11.879536   \n",
       "\n",
       "  RMSE - Train (Fine-Tuned) RMSE - Test  \n",
       "0                       NaN     8.16064  \n",
       "1                   4.79371     7.51638  \n",
       "2                       NaN     7.15004  \n",
       "3                    9.0889     8.01046  "
      ]
     },
     "execution_count": 111,
     "metadata": {},
     "output_type": "execute_result"
    }
   ],
   "source": [
    "model_performance_rmse"
   ]
  },
  {
   "cell_type": "markdown",
   "metadata": {},
   "source": [
    "**Linear Regression** - For the linear regression model, the two training RMSE scores of 10.71 and 10.90 are from the normal model and the cross-validation model, respectively. As these scores are fairly similar, this shows that this model is consistent. However, due to the RMSE score being relatively high, underfitting is likely to be occuring throughout this model. Moreover, as linear regression is a simple model, there are no hyperparameters which means we could not fine-tune the model. One reason why the test score of 8.16 is more accurate than the two training models could be because the test dataset is much smaller.\n",
    "\n",
    "**Random Forest Regression** - The RMSE score of 4.79 for the training model is much more accurate than the cross-validation score of 11.39. However, this illustrates that the initial model was severely overfitting the data. Also, the fine-tuning RMSE score of 4.79 is exactly the same as the normal model. Therefore, tweaking the hyperparameters did not change the score at all. The test score is also more accurate than the cross-validation score but is less accurate than the other two training scores. A reason for this could be due to the lack of training data.\n",
    "\n",
    "**Polynomial Regression** - With reference to both of our training RMSE scores for polynomial regression, these are both fairly similar with only a difference of 1.13. This indicates that our model is not overfitting the data and can be ready for testing, without fine-tuning. However, we still would have liked to have fine-tuned this model though we were unable to operate the grid search. In addition, Our test score of 7.15 ended up being the optimal score for all four models. \n",
    "\n",
    "**SVM Regression** - Just as in the random forest model, the RMSE score for the normal model (6.98) was more accurate than the cross-validation model (11.88). This also illustrates that the data was overfitting. However, unlike the random forest model, we used grid search to fine-tune the hyperparameters rather than the randomised search. This was due to the fact we only had three hyperparameters to tweak. An RMSE test score of 8.01 is an indication that the best SVM regression model (rbf kernel) was still only slightly more accurate than our linear regression baseline model.\n",
    "\n",
    "NB: Our RMSE test scores above are the most accurate test scores from all of our predictions submitted onto Kaggle."
   ]
  },
  {
   "cell_type": "markdown",
   "metadata": {},
   "source": [
    "# 16. Conclusion"
   ]
  },
  {
   "cell_type": "markdown",
   "metadata": {},
   "source": [
    "In conclusion, we have successfully carried out the main aim of this assignment which was to predict the popularity scores of Spotify tracks from a test dataset. This involved using a training dataset which was to be prepared before a range of different machine learning techniques were used to predict the popularity scores. To prepare the training dataset, we looked into a range of techniques which included: 1) The removal of outliers, 2) Manually one-hot encoding of the \"year\" and \"top genre\" attributes and 3) Only using the attributes which correlated well with the target attribute \"pop\". Once this was completed, the training data was scaled using standardisation and we were then ready to use our ML models.\n",
    "\n",
    "The four ML models we decided to use were as follows: Linear regression, Random forest regression, Polynomial regression and SVM regression. The linear regression model was chosen specifically to act as a baseline for our more complex models. The ML model which gave us our most accurate RMSE score of 7.15 was the polynomial regression model. This was slightly better than our linear regression baseline model score of 8.16. This was also more accurate than our other two models of random forest regression (7.51) and SVM regression (8.01). This shows that the data had more of a polynomial relationship than a linear relationship. However, due to a severe lack of training data it was very difficult to achieve an RMSE score that was much greater than this linear baseline.\n",
    "\n",
    "Lastly, with reference to the techniques mentioned above that we used throughout this assignment, all of these techniques gave us less accurate scores for all four models. This was very interesting as we expected the removal of outliers, in particular, to give us more accurate scores. However, with such little data to work with, keeping these outliers in the data turned out to be the best scenario to give us the scores that are shown in the comparison table in the last section of \"Summary of the Models Performance\"."
   ]
  },
  {
   "cell_type": "code",
   "execution_count": null,
   "metadata": {},
   "outputs": [],
   "source": []
  }
 ],
 "metadata": {
  "kernelspec": {
   "display_name": "Python 3",
   "language": "python",
   "name": "python3"
  },
  "language_info": {
   "codemirror_mode": {
    "name": "ipython",
    "version": 3
   },
   "file_extension": ".py",
   "mimetype": "text/x-python",
   "name": "python",
   "nbconvert_exporter": "python",
   "pygments_lexer": "ipython3",
   "version": "3.8.3"
  }
 },
 "nbformat": 4,
 "nbformat_minor": 2
}
